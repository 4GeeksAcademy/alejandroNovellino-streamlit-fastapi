{
 "cells": [
  {
   "metadata": {},
   "cell_type": "markdown",
   "source": "# Problem statement",
   "id": "c08976cf90ad8450"
  },
  {
   "metadata": {},
   "cell_type": "markdown",
   "source": [
    "We want to create a classifier to predict what crop is the best given some agro-climatic conditions. The data that the dataset contain is:\n",
    "\n",
    "Features (Inputs):\n",
    "- N – Nitrogen content in the soil (in mg/kg)\n",
    "- P – Phosphorus content in the soil (in mg/kg)\n",
    "- K – Potassium content in the soil (in mg/kg)\n",
    "- temperature – Average temperature in °C\n",
    "- humidity – Average relative humidity in %\n",
    "- ph – Soil pH value\n",
    "- rainfall – Rainfall in mm\n",
    "\n",
    "Label (Output):\n",
    "- label – The crop most suited to the given conditions (e.g., rice, maize, cotton, etc.)"
   ],
   "id": "d2f0c0dfd656c519"
  },
  {
   "metadata": {},
   "cell_type": "markdown",
   "source": "# Analysis of the data",
   "id": "9b2bbea45358bd87"
  },
  {
   "metadata": {},
   "cell_type": "markdown",
   "source": "## Get the data",
   "id": "9b0bdc391f5b355a"
  },
  {
   "metadata": {
    "ExecuteTime": {
     "end_time": "2025-05-30T01:46:31.730153Z",
     "start_time": "2025-05-30T01:46:30.114626Z"
    }
   },
   "cell_type": "code",
   "source": [
    "import kagglehub\n",
    "from dotenv import load_dotenv\n",
    "\n",
    "# load the environment variables from .env file\n",
    "load_dotenv()\n",
    "\n",
    "# download the latest version of the dataset\n",
    "path = kagglehub.dataset_download(\"madhuraatmarambhagat/crop-recommendation-dataset\")\n",
    "\n",
    "print(\"Path to dataset files:\", path)"
   ],
   "id": "15fa3bc6b340e028",
   "outputs": [
    {
     "name": "stdout",
     "output_type": "stream",
     "text": [
      "Path to dataset files: ../.\\datasets\\madhuraatmarambhagat\\crop-recommendation-dataset\\versions\\1\n"
     ]
    }
   ],
   "execution_count": 1
  },
  {
   "metadata": {},
   "cell_type": "markdown",
   "source": "Now load the data as a pandas dataframe",
   "id": "34d1d566549e7861"
  },
  {
   "metadata": {
    "ExecuteTime": {
     "end_time": "2025-05-30T01:46:31.751584Z",
     "start_time": "2025-05-30T01:46:31.735882Z"
    }
   },
   "cell_type": "code",
   "source": [
    "import pandas as pd\n",
    "\n",
    "path_to_data = '../datasets/madhuraatmarambhagat/crop-recommendation-dataset/versions/1/Crop_recommendation.csv'\n",
    "df = pd.read_csv(path_to_data)"
   ],
   "id": "38c443915beb3636",
   "outputs": [],
   "execution_count": 2
  },
  {
   "metadata": {
    "ExecuteTime": {
     "end_time": "2025-05-30T01:46:32.164494Z",
     "start_time": "2025-05-30T01:46:32.154892Z"
    }
   },
   "cell_type": "code",
   "source": "df.head()",
   "id": "73efd289a16ffbe3",
   "outputs": [
    {
     "data": {
      "text/plain": [
       "    N   P   K  temperature   humidity        ph    rainfall label\n",
       "0  90  42  43    20.879744  82.002744  6.502985  202.935536  rice\n",
       "1  85  58  41    21.770462  80.319644  7.038096  226.655537  rice\n",
       "2  60  55  44    23.004459  82.320763  7.840207  263.964248  rice\n",
       "3  74  35  40    26.491096  80.158363  6.980401  242.864034  rice\n",
       "4  78  42  42    20.130175  81.604873  7.628473  262.717340  rice"
      ],
      "text/html": [
       "<div>\n",
       "<style scoped>\n",
       "    .dataframe tbody tr th:only-of-type {\n",
       "        vertical-align: middle;\n",
       "    }\n",
       "\n",
       "    .dataframe tbody tr th {\n",
       "        vertical-align: top;\n",
       "    }\n",
       "\n",
       "    .dataframe thead th {\n",
       "        text-align: right;\n",
       "    }\n",
       "</style>\n",
       "<table border=\"1\" class=\"dataframe\">\n",
       "  <thead>\n",
       "    <tr style=\"text-align: right;\">\n",
       "      <th></th>\n",
       "      <th>N</th>\n",
       "      <th>P</th>\n",
       "      <th>K</th>\n",
       "      <th>temperature</th>\n",
       "      <th>humidity</th>\n",
       "      <th>ph</th>\n",
       "      <th>rainfall</th>\n",
       "      <th>label</th>\n",
       "    </tr>\n",
       "  </thead>\n",
       "  <tbody>\n",
       "    <tr>\n",
       "      <th>0</th>\n",
       "      <td>90</td>\n",
       "      <td>42</td>\n",
       "      <td>43</td>\n",
       "      <td>20.879744</td>\n",
       "      <td>82.002744</td>\n",
       "      <td>6.502985</td>\n",
       "      <td>202.935536</td>\n",
       "      <td>rice</td>\n",
       "    </tr>\n",
       "    <tr>\n",
       "      <th>1</th>\n",
       "      <td>85</td>\n",
       "      <td>58</td>\n",
       "      <td>41</td>\n",
       "      <td>21.770462</td>\n",
       "      <td>80.319644</td>\n",
       "      <td>7.038096</td>\n",
       "      <td>226.655537</td>\n",
       "      <td>rice</td>\n",
       "    </tr>\n",
       "    <tr>\n",
       "      <th>2</th>\n",
       "      <td>60</td>\n",
       "      <td>55</td>\n",
       "      <td>44</td>\n",
       "      <td>23.004459</td>\n",
       "      <td>82.320763</td>\n",
       "      <td>7.840207</td>\n",
       "      <td>263.964248</td>\n",
       "      <td>rice</td>\n",
       "    </tr>\n",
       "    <tr>\n",
       "      <th>3</th>\n",
       "      <td>74</td>\n",
       "      <td>35</td>\n",
       "      <td>40</td>\n",
       "      <td>26.491096</td>\n",
       "      <td>80.158363</td>\n",
       "      <td>6.980401</td>\n",
       "      <td>242.864034</td>\n",
       "      <td>rice</td>\n",
       "    </tr>\n",
       "    <tr>\n",
       "      <th>4</th>\n",
       "      <td>78</td>\n",
       "      <td>42</td>\n",
       "      <td>42</td>\n",
       "      <td>20.130175</td>\n",
       "      <td>81.604873</td>\n",
       "      <td>7.628473</td>\n",
       "      <td>262.717340</td>\n",
       "      <td>rice</td>\n",
       "    </tr>\n",
       "  </tbody>\n",
       "</table>\n",
       "</div>"
      ]
     },
     "execution_count": 3,
     "metadata": {},
     "output_type": "execute_result"
    }
   ],
   "execution_count": 3
  },
  {
   "metadata": {
    "ExecuteTime": {
     "end_time": "2025-05-30T01:46:32.221657Z",
     "start_time": "2025-05-30T01:46:32.207888Z"
    }
   },
   "cell_type": "code",
   "source": "df.describe()",
   "id": "93e4a2062a97c2a3",
   "outputs": [
    {
     "data": {
      "text/plain": [
       "                 N            P            K  temperature     humidity  \\\n",
       "count  2200.000000  2200.000000  2200.000000  2200.000000  2200.000000   \n",
       "mean     50.551818    53.362727    48.149091    25.616244    71.481779   \n",
       "std      36.917334    32.985883    50.647931     5.063749    22.263812   \n",
       "min       0.000000     5.000000     5.000000     8.825675    14.258040   \n",
       "25%      21.000000    28.000000    20.000000    22.769375    60.261953   \n",
       "50%      37.000000    51.000000    32.000000    25.598693    80.473146   \n",
       "75%      84.250000    68.000000    49.000000    28.561654    89.948771   \n",
       "max     140.000000   145.000000   205.000000    43.675493    99.981876   \n",
       "\n",
       "                ph     rainfall  \n",
       "count  2200.000000  2200.000000  \n",
       "mean      6.469480   103.463655  \n",
       "std       0.773938    54.958389  \n",
       "min       3.504752    20.211267  \n",
       "25%       5.971693    64.551686  \n",
       "50%       6.425045    94.867624  \n",
       "75%       6.923643   124.267508  \n",
       "max       9.935091   298.560117  "
      ],
      "text/html": [
       "<div>\n",
       "<style scoped>\n",
       "    .dataframe tbody tr th:only-of-type {\n",
       "        vertical-align: middle;\n",
       "    }\n",
       "\n",
       "    .dataframe tbody tr th {\n",
       "        vertical-align: top;\n",
       "    }\n",
       "\n",
       "    .dataframe thead th {\n",
       "        text-align: right;\n",
       "    }\n",
       "</style>\n",
       "<table border=\"1\" class=\"dataframe\">\n",
       "  <thead>\n",
       "    <tr style=\"text-align: right;\">\n",
       "      <th></th>\n",
       "      <th>N</th>\n",
       "      <th>P</th>\n",
       "      <th>K</th>\n",
       "      <th>temperature</th>\n",
       "      <th>humidity</th>\n",
       "      <th>ph</th>\n",
       "      <th>rainfall</th>\n",
       "    </tr>\n",
       "  </thead>\n",
       "  <tbody>\n",
       "    <tr>\n",
       "      <th>count</th>\n",
       "      <td>2200.000000</td>\n",
       "      <td>2200.000000</td>\n",
       "      <td>2200.000000</td>\n",
       "      <td>2200.000000</td>\n",
       "      <td>2200.000000</td>\n",
       "      <td>2200.000000</td>\n",
       "      <td>2200.000000</td>\n",
       "    </tr>\n",
       "    <tr>\n",
       "      <th>mean</th>\n",
       "      <td>50.551818</td>\n",
       "      <td>53.362727</td>\n",
       "      <td>48.149091</td>\n",
       "      <td>25.616244</td>\n",
       "      <td>71.481779</td>\n",
       "      <td>6.469480</td>\n",
       "      <td>103.463655</td>\n",
       "    </tr>\n",
       "    <tr>\n",
       "      <th>std</th>\n",
       "      <td>36.917334</td>\n",
       "      <td>32.985883</td>\n",
       "      <td>50.647931</td>\n",
       "      <td>5.063749</td>\n",
       "      <td>22.263812</td>\n",
       "      <td>0.773938</td>\n",
       "      <td>54.958389</td>\n",
       "    </tr>\n",
       "    <tr>\n",
       "      <th>min</th>\n",
       "      <td>0.000000</td>\n",
       "      <td>5.000000</td>\n",
       "      <td>5.000000</td>\n",
       "      <td>8.825675</td>\n",
       "      <td>14.258040</td>\n",
       "      <td>3.504752</td>\n",
       "      <td>20.211267</td>\n",
       "    </tr>\n",
       "    <tr>\n",
       "      <th>25%</th>\n",
       "      <td>21.000000</td>\n",
       "      <td>28.000000</td>\n",
       "      <td>20.000000</td>\n",
       "      <td>22.769375</td>\n",
       "      <td>60.261953</td>\n",
       "      <td>5.971693</td>\n",
       "      <td>64.551686</td>\n",
       "    </tr>\n",
       "    <tr>\n",
       "      <th>50%</th>\n",
       "      <td>37.000000</td>\n",
       "      <td>51.000000</td>\n",
       "      <td>32.000000</td>\n",
       "      <td>25.598693</td>\n",
       "      <td>80.473146</td>\n",
       "      <td>6.425045</td>\n",
       "      <td>94.867624</td>\n",
       "    </tr>\n",
       "    <tr>\n",
       "      <th>75%</th>\n",
       "      <td>84.250000</td>\n",
       "      <td>68.000000</td>\n",
       "      <td>49.000000</td>\n",
       "      <td>28.561654</td>\n",
       "      <td>89.948771</td>\n",
       "      <td>6.923643</td>\n",
       "      <td>124.267508</td>\n",
       "    </tr>\n",
       "    <tr>\n",
       "      <th>max</th>\n",
       "      <td>140.000000</td>\n",
       "      <td>145.000000</td>\n",
       "      <td>205.000000</td>\n",
       "      <td>43.675493</td>\n",
       "      <td>99.981876</td>\n",
       "      <td>9.935091</td>\n",
       "      <td>298.560117</td>\n",
       "    </tr>\n",
       "  </tbody>\n",
       "</table>\n",
       "</div>"
      ]
     },
     "execution_count": 4,
     "metadata": {},
     "output_type": "execute_result"
    }
   ],
   "execution_count": 4
  },
  {
   "metadata": {},
   "cell_type": "markdown",
   "source": "## Separate in train and test sets",
   "id": "3f15c35567622fb"
  },
  {
   "metadata": {},
   "cell_type": "markdown",
   "source": "We are going to separate the data in train and test before the study to not create any bias in the analysis.",
   "id": "df205bb1b99a1a46"
  },
  {
   "metadata": {
    "ExecuteTime": {
     "end_time": "2025-05-30T01:46:32.891877Z",
     "start_time": "2025-05-30T01:46:32.301967Z"
    }
   },
   "cell_type": "code",
   "source": [
    "from sklearn.model_selection import train_test_split\n",
    "\n",
    "X = df.drop(columns=['label'])\n",
    "y = df['label']\n",
    "\n",
    "X_train, X_test, y_train, y_test = train_test_split(X, y, test_size=0.20, random_state=42)"
   ],
   "id": "84a7329592d63fb9",
   "outputs": [],
   "execution_count": 5
  },
  {
   "metadata": {
    "ExecuteTime": {
     "end_time": "2025-05-30T01:46:32.937456Z",
     "start_time": "2025-05-30T01:46:32.929987Z"
    }
   },
   "cell_type": "code",
   "source": [
    "data = pd.concat([X_train, y_train], axis=1)\n",
    "data.head()"
   ],
   "id": "5aa7604ee913ae6c",
   "outputs": [
    {
     "data": {
      "text/plain": [
       "        N   P   K  temperature   humidity        ph    rainfall      label\n",
       "1656   17  16  14    16.396243  92.181519  6.625539  102.944161     orange\n",
       "752    37  79  19    27.543848  69.347863  7.143943   69.408782  blackgram\n",
       "892     7  73  25    27.521856  63.132153  7.288057   45.208411     lentil\n",
       "1041  101  70  48    25.360592  75.031933  6.012697  116.553145     banana\n",
       "1179    0  17  30    35.474783  47.972305  6.279134   97.790725      mango"
      ],
      "text/html": [
       "<div>\n",
       "<style scoped>\n",
       "    .dataframe tbody tr th:only-of-type {\n",
       "        vertical-align: middle;\n",
       "    }\n",
       "\n",
       "    .dataframe tbody tr th {\n",
       "        vertical-align: top;\n",
       "    }\n",
       "\n",
       "    .dataframe thead th {\n",
       "        text-align: right;\n",
       "    }\n",
       "</style>\n",
       "<table border=\"1\" class=\"dataframe\">\n",
       "  <thead>\n",
       "    <tr style=\"text-align: right;\">\n",
       "      <th></th>\n",
       "      <th>N</th>\n",
       "      <th>P</th>\n",
       "      <th>K</th>\n",
       "      <th>temperature</th>\n",
       "      <th>humidity</th>\n",
       "      <th>ph</th>\n",
       "      <th>rainfall</th>\n",
       "      <th>label</th>\n",
       "    </tr>\n",
       "  </thead>\n",
       "  <tbody>\n",
       "    <tr>\n",
       "      <th>1656</th>\n",
       "      <td>17</td>\n",
       "      <td>16</td>\n",
       "      <td>14</td>\n",
       "      <td>16.396243</td>\n",
       "      <td>92.181519</td>\n",
       "      <td>6.625539</td>\n",
       "      <td>102.944161</td>\n",
       "      <td>orange</td>\n",
       "    </tr>\n",
       "    <tr>\n",
       "      <th>752</th>\n",
       "      <td>37</td>\n",
       "      <td>79</td>\n",
       "      <td>19</td>\n",
       "      <td>27.543848</td>\n",
       "      <td>69.347863</td>\n",
       "      <td>7.143943</td>\n",
       "      <td>69.408782</td>\n",
       "      <td>blackgram</td>\n",
       "    </tr>\n",
       "    <tr>\n",
       "      <th>892</th>\n",
       "      <td>7</td>\n",
       "      <td>73</td>\n",
       "      <td>25</td>\n",
       "      <td>27.521856</td>\n",
       "      <td>63.132153</td>\n",
       "      <td>7.288057</td>\n",
       "      <td>45.208411</td>\n",
       "      <td>lentil</td>\n",
       "    </tr>\n",
       "    <tr>\n",
       "      <th>1041</th>\n",
       "      <td>101</td>\n",
       "      <td>70</td>\n",
       "      <td>48</td>\n",
       "      <td>25.360592</td>\n",
       "      <td>75.031933</td>\n",
       "      <td>6.012697</td>\n",
       "      <td>116.553145</td>\n",
       "      <td>banana</td>\n",
       "    </tr>\n",
       "    <tr>\n",
       "      <th>1179</th>\n",
       "      <td>0</td>\n",
       "      <td>17</td>\n",
       "      <td>30</td>\n",
       "      <td>35.474783</td>\n",
       "      <td>47.972305</td>\n",
       "      <td>6.279134</td>\n",
       "      <td>97.790725</td>\n",
       "      <td>mango</td>\n",
       "    </tr>\n",
       "  </tbody>\n",
       "</table>\n",
       "</div>"
      ]
     },
     "execution_count": 6,
     "metadata": {},
     "output_type": "execute_result"
    }
   ],
   "execution_count": 6
  },
  {
   "metadata": {},
   "cell_type": "markdown",
   "source": "## Checking the target",
   "id": "a0c22792a8e7727d"
  },
  {
   "metadata": {},
   "cell_type": "markdown",
   "source": "We are going to study the distribution of the target variable.",
   "id": "d4617aab1e87ad83"
  },
  {
   "metadata": {
    "ExecuteTime": {
     "end_time": "2025-05-30T01:46:33.009372Z",
     "start_time": "2025-05-30T01:46:33.003145Z"
    }
   },
   "cell_type": "code",
   "source": [
    "crop_distribution = data.value_counts(\"label\").reset_index()\n",
    "crop_distribution"
   ],
   "id": "74eac5d668ccc523",
   "outputs": [
    {
     "data": {
      "text/plain": [
       "          label  count\n",
       "0        lentil     89\n",
       "1        grapes     86\n",
       "2        orange     86\n",
       "3        cotton     83\n",
       "4        coffee     83\n",
       "5     muskmelon     83\n",
       "6          rice     81\n",
       "7      mungbean     81\n",
       "8    watermelon     81\n",
       "9         mango     81\n",
       "10    blackgram     80\n",
       "11  kidneybeans     80\n",
       "12        maize     79\n",
       "13       banana     79\n",
       "14  pomegranate     77\n",
       "15       papaya     77\n",
       "16        apple     77\n",
       "17         jute     77\n",
       "18   pigeonpeas     77\n",
       "19    mothbeans     76\n",
       "20     chickpea     74\n",
       "21      coconut     73"
      ],
      "text/html": [
       "<div>\n",
       "<style scoped>\n",
       "    .dataframe tbody tr th:only-of-type {\n",
       "        vertical-align: middle;\n",
       "    }\n",
       "\n",
       "    .dataframe tbody tr th {\n",
       "        vertical-align: top;\n",
       "    }\n",
       "\n",
       "    .dataframe thead th {\n",
       "        text-align: right;\n",
       "    }\n",
       "</style>\n",
       "<table border=\"1\" class=\"dataframe\">\n",
       "  <thead>\n",
       "    <tr style=\"text-align: right;\">\n",
       "      <th></th>\n",
       "      <th>label</th>\n",
       "      <th>count</th>\n",
       "    </tr>\n",
       "  </thead>\n",
       "  <tbody>\n",
       "    <tr>\n",
       "      <th>0</th>\n",
       "      <td>lentil</td>\n",
       "      <td>89</td>\n",
       "    </tr>\n",
       "    <tr>\n",
       "      <th>1</th>\n",
       "      <td>grapes</td>\n",
       "      <td>86</td>\n",
       "    </tr>\n",
       "    <tr>\n",
       "      <th>2</th>\n",
       "      <td>orange</td>\n",
       "      <td>86</td>\n",
       "    </tr>\n",
       "    <tr>\n",
       "      <th>3</th>\n",
       "      <td>cotton</td>\n",
       "      <td>83</td>\n",
       "    </tr>\n",
       "    <tr>\n",
       "      <th>4</th>\n",
       "      <td>coffee</td>\n",
       "      <td>83</td>\n",
       "    </tr>\n",
       "    <tr>\n",
       "      <th>5</th>\n",
       "      <td>muskmelon</td>\n",
       "      <td>83</td>\n",
       "    </tr>\n",
       "    <tr>\n",
       "      <th>6</th>\n",
       "      <td>rice</td>\n",
       "      <td>81</td>\n",
       "    </tr>\n",
       "    <tr>\n",
       "      <th>7</th>\n",
       "      <td>mungbean</td>\n",
       "      <td>81</td>\n",
       "    </tr>\n",
       "    <tr>\n",
       "      <th>8</th>\n",
       "      <td>watermelon</td>\n",
       "      <td>81</td>\n",
       "    </tr>\n",
       "    <tr>\n",
       "      <th>9</th>\n",
       "      <td>mango</td>\n",
       "      <td>81</td>\n",
       "    </tr>\n",
       "    <tr>\n",
       "      <th>10</th>\n",
       "      <td>blackgram</td>\n",
       "      <td>80</td>\n",
       "    </tr>\n",
       "    <tr>\n",
       "      <th>11</th>\n",
       "      <td>kidneybeans</td>\n",
       "      <td>80</td>\n",
       "    </tr>\n",
       "    <tr>\n",
       "      <th>12</th>\n",
       "      <td>maize</td>\n",
       "      <td>79</td>\n",
       "    </tr>\n",
       "    <tr>\n",
       "      <th>13</th>\n",
       "      <td>banana</td>\n",
       "      <td>79</td>\n",
       "    </tr>\n",
       "    <tr>\n",
       "      <th>14</th>\n",
       "      <td>pomegranate</td>\n",
       "      <td>77</td>\n",
       "    </tr>\n",
       "    <tr>\n",
       "      <th>15</th>\n",
       "      <td>papaya</td>\n",
       "      <td>77</td>\n",
       "    </tr>\n",
       "    <tr>\n",
       "      <th>16</th>\n",
       "      <td>apple</td>\n",
       "      <td>77</td>\n",
       "    </tr>\n",
       "    <tr>\n",
       "      <th>17</th>\n",
       "      <td>jute</td>\n",
       "      <td>77</td>\n",
       "    </tr>\n",
       "    <tr>\n",
       "      <th>18</th>\n",
       "      <td>pigeonpeas</td>\n",
       "      <td>77</td>\n",
       "    </tr>\n",
       "    <tr>\n",
       "      <th>19</th>\n",
       "      <td>mothbeans</td>\n",
       "      <td>76</td>\n",
       "    </tr>\n",
       "    <tr>\n",
       "      <th>20</th>\n",
       "      <td>chickpea</td>\n",
       "      <td>74</td>\n",
       "    </tr>\n",
       "    <tr>\n",
       "      <th>21</th>\n",
       "      <td>coconut</td>\n",
       "      <td>73</td>\n",
       "    </tr>\n",
       "  </tbody>\n",
       "</table>\n",
       "</div>"
      ]
     },
     "execution_count": 7,
     "metadata": {},
     "output_type": "execute_result"
    }
   ],
   "execution_count": 7
  },
  {
   "metadata": {
    "ExecuteTime": {
     "end_time": "2025-05-30T01:46:33.713695Z",
     "start_time": "2025-05-30T01:46:33.115687Z"
    }
   },
   "cell_type": "code",
   "source": [
    "import plotly.express as px\n",
    "\n",
    "\n",
    "fig = px.pie(crop_distribution, values='count', names='label', title='Crop distribution', width=800, height=650)\n",
    "fig.show()"
   ],
   "id": "5bc8d3b8f1bea3d5",
   "outputs": [
    {
     "data": {
      "application/vnd.plotly.v1+json": {
       "data": [
        {
         "domain": {
          "x": [
           0.0,
           1.0
          ],
          "y": [
           0.0,
           1.0
          ]
         },
         "hovertemplate": "label=%{label}<br>count=%{value}<extra></extra>",
         "labels": [
          "lentil",
          "grapes",
          "orange",
          "cotton",
          "coffee",
          "muskmelon",
          "rice",
          "mungbean",
          "watermelon",
          "mango",
          "blackgram",
          "kidneybeans",
          "maize",
          "banana",
          "pomegranate",
          "papaya",
          "apple",
          "jute",
          "pigeonpeas",
          "mothbeans",
          "chickpea",
          "coconut"
         ],
         "legendgroup": "",
         "name": "",
         "showlegend": true,
         "values": {
          "dtype": "i1",
          "bdata": "WVZWU1NTUVFRUVBQT09NTU1NTUxKSQ=="
         },
         "type": "pie"
        }
       ],
       "layout": {
        "template": {
         "data": {
          "histogram2dcontour": [
           {
            "type": "histogram2dcontour",
            "colorbar": {
             "outlinewidth": 0,
             "ticks": ""
            },
            "colorscale": [
             [
              0.0,
              "#0d0887"
             ],
             [
              0.1111111111111111,
              "#46039f"
             ],
             [
              0.2222222222222222,
              "#7201a8"
             ],
             [
              0.3333333333333333,
              "#9c179e"
             ],
             [
              0.4444444444444444,
              "#bd3786"
             ],
             [
              0.5555555555555556,
              "#d8576b"
             ],
             [
              0.6666666666666666,
              "#ed7953"
             ],
             [
              0.7777777777777778,
              "#fb9f3a"
             ],
             [
              0.8888888888888888,
              "#fdca26"
             ],
             [
              1.0,
              "#f0f921"
             ]
            ]
           }
          ],
          "choropleth": [
           {
            "type": "choropleth",
            "colorbar": {
             "outlinewidth": 0,
             "ticks": ""
            }
           }
          ],
          "histogram2d": [
           {
            "type": "histogram2d",
            "colorbar": {
             "outlinewidth": 0,
             "ticks": ""
            },
            "colorscale": [
             [
              0.0,
              "#0d0887"
             ],
             [
              0.1111111111111111,
              "#46039f"
             ],
             [
              0.2222222222222222,
              "#7201a8"
             ],
             [
              0.3333333333333333,
              "#9c179e"
             ],
             [
              0.4444444444444444,
              "#bd3786"
             ],
             [
              0.5555555555555556,
              "#d8576b"
             ],
             [
              0.6666666666666666,
              "#ed7953"
             ],
             [
              0.7777777777777778,
              "#fb9f3a"
             ],
             [
              0.8888888888888888,
              "#fdca26"
             ],
             [
              1.0,
              "#f0f921"
             ]
            ]
           }
          ],
          "heatmap": [
           {
            "type": "heatmap",
            "colorbar": {
             "outlinewidth": 0,
             "ticks": ""
            },
            "colorscale": [
             [
              0.0,
              "#0d0887"
             ],
             [
              0.1111111111111111,
              "#46039f"
             ],
             [
              0.2222222222222222,
              "#7201a8"
             ],
             [
              0.3333333333333333,
              "#9c179e"
             ],
             [
              0.4444444444444444,
              "#bd3786"
             ],
             [
              0.5555555555555556,
              "#d8576b"
             ],
             [
              0.6666666666666666,
              "#ed7953"
             ],
             [
              0.7777777777777778,
              "#fb9f3a"
             ],
             [
              0.8888888888888888,
              "#fdca26"
             ],
             [
              1.0,
              "#f0f921"
             ]
            ]
           }
          ],
          "contourcarpet": [
           {
            "type": "contourcarpet",
            "colorbar": {
             "outlinewidth": 0,
             "ticks": ""
            }
           }
          ],
          "contour": [
           {
            "type": "contour",
            "colorbar": {
             "outlinewidth": 0,
             "ticks": ""
            },
            "colorscale": [
             [
              0.0,
              "#0d0887"
             ],
             [
              0.1111111111111111,
              "#46039f"
             ],
             [
              0.2222222222222222,
              "#7201a8"
             ],
             [
              0.3333333333333333,
              "#9c179e"
             ],
             [
              0.4444444444444444,
              "#bd3786"
             ],
             [
              0.5555555555555556,
              "#d8576b"
             ],
             [
              0.6666666666666666,
              "#ed7953"
             ],
             [
              0.7777777777777778,
              "#fb9f3a"
             ],
             [
              0.8888888888888888,
              "#fdca26"
             ],
             [
              1.0,
              "#f0f921"
             ]
            ]
           }
          ],
          "surface": [
           {
            "type": "surface",
            "colorbar": {
             "outlinewidth": 0,
             "ticks": ""
            },
            "colorscale": [
             [
              0.0,
              "#0d0887"
             ],
             [
              0.1111111111111111,
              "#46039f"
             ],
             [
              0.2222222222222222,
              "#7201a8"
             ],
             [
              0.3333333333333333,
              "#9c179e"
             ],
             [
              0.4444444444444444,
              "#bd3786"
             ],
             [
              0.5555555555555556,
              "#d8576b"
             ],
             [
              0.6666666666666666,
              "#ed7953"
             ],
             [
              0.7777777777777778,
              "#fb9f3a"
             ],
             [
              0.8888888888888888,
              "#fdca26"
             ],
             [
              1.0,
              "#f0f921"
             ]
            ]
           }
          ],
          "mesh3d": [
           {
            "type": "mesh3d",
            "colorbar": {
             "outlinewidth": 0,
             "ticks": ""
            }
           }
          ],
          "scatter": [
           {
            "marker": {
             "line": {
              "color": "#283442"
             }
            },
            "type": "scatter"
           }
          ],
          "parcoords": [
           {
            "type": "parcoords",
            "line": {
             "colorbar": {
              "outlinewidth": 0,
              "ticks": ""
             }
            }
           }
          ],
          "scatterpolargl": [
           {
            "type": "scatterpolargl",
            "marker": {
             "colorbar": {
              "outlinewidth": 0,
              "ticks": ""
             }
            }
           }
          ],
          "bar": [
           {
            "error_x": {
             "color": "#f2f5fa"
            },
            "error_y": {
             "color": "#f2f5fa"
            },
            "marker": {
             "line": {
              "color": "rgb(17,17,17)",
              "width": 0.5
             },
             "pattern": {
              "fillmode": "overlay",
              "size": 10,
              "solidity": 0.2
             }
            },
            "type": "bar"
           }
          ],
          "scattergeo": [
           {
            "type": "scattergeo",
            "marker": {
             "colorbar": {
              "outlinewidth": 0,
              "ticks": ""
             }
            }
           }
          ],
          "scatterpolar": [
           {
            "type": "scatterpolar",
            "marker": {
             "colorbar": {
              "outlinewidth": 0,
              "ticks": ""
             }
            }
           }
          ],
          "histogram": [
           {
            "marker": {
             "pattern": {
              "fillmode": "overlay",
              "size": 10,
              "solidity": 0.2
             }
            },
            "type": "histogram"
           }
          ],
          "scattergl": [
           {
            "marker": {
             "line": {
              "color": "#283442"
             }
            },
            "type": "scattergl"
           }
          ],
          "scatter3d": [
           {
            "type": "scatter3d",
            "line": {
             "colorbar": {
              "outlinewidth": 0,
              "ticks": ""
             }
            },
            "marker": {
             "colorbar": {
              "outlinewidth": 0,
              "ticks": ""
             }
            }
           }
          ],
          "scattermap": [
           {
            "type": "scattermap",
            "marker": {
             "colorbar": {
              "outlinewidth": 0,
              "ticks": ""
             }
            }
           }
          ],
          "scattermapbox": [
           {
            "type": "scattermapbox",
            "marker": {
             "colorbar": {
              "outlinewidth": 0,
              "ticks": ""
             }
            }
           }
          ],
          "scatterternary": [
           {
            "type": "scatterternary",
            "marker": {
             "colorbar": {
              "outlinewidth": 0,
              "ticks": ""
             }
            }
           }
          ],
          "scattercarpet": [
           {
            "type": "scattercarpet",
            "marker": {
             "colorbar": {
              "outlinewidth": 0,
              "ticks": ""
             }
            }
           }
          ],
          "carpet": [
           {
            "aaxis": {
             "endlinecolor": "#A2B1C6",
             "gridcolor": "#506784",
             "linecolor": "#506784",
             "minorgridcolor": "#506784",
             "startlinecolor": "#A2B1C6"
            },
            "baxis": {
             "endlinecolor": "#A2B1C6",
             "gridcolor": "#506784",
             "linecolor": "#506784",
             "minorgridcolor": "#506784",
             "startlinecolor": "#A2B1C6"
            },
            "type": "carpet"
           }
          ],
          "table": [
           {
            "cells": {
             "fill": {
              "color": "#506784"
             },
             "line": {
              "color": "rgb(17,17,17)"
             }
            },
            "header": {
             "fill": {
              "color": "#2a3f5f"
             },
             "line": {
              "color": "rgb(17,17,17)"
             }
            },
            "type": "table"
           }
          ],
          "barpolar": [
           {
            "marker": {
             "line": {
              "color": "rgb(17,17,17)",
              "width": 0.5
             },
             "pattern": {
              "fillmode": "overlay",
              "size": 10,
              "solidity": 0.2
             }
            },
            "type": "barpolar"
           }
          ],
          "pie": [
           {
            "automargin": true,
            "type": "pie"
           }
          ]
         },
         "layout": {
          "autotypenumbers": "strict",
          "colorway": [
           "#636efa",
           "#EF553B",
           "#00cc96",
           "#ab63fa",
           "#FFA15A",
           "#19d3f3",
           "#FF6692",
           "#B6E880",
           "#FF97FF",
           "#FECB52"
          ],
          "font": {
           "color": "#f2f5fa"
          },
          "hovermode": "closest",
          "hoverlabel": {
           "align": "left"
          },
          "paper_bgcolor": "rgb(17,17,17)",
          "plot_bgcolor": "rgb(17,17,17)",
          "polar": {
           "bgcolor": "rgb(17,17,17)",
           "angularaxis": {
            "gridcolor": "#506784",
            "linecolor": "#506784",
            "ticks": ""
           },
           "radialaxis": {
            "gridcolor": "#506784",
            "linecolor": "#506784",
            "ticks": ""
           }
          },
          "ternary": {
           "bgcolor": "rgb(17,17,17)",
           "aaxis": {
            "gridcolor": "#506784",
            "linecolor": "#506784",
            "ticks": ""
           },
           "baxis": {
            "gridcolor": "#506784",
            "linecolor": "#506784",
            "ticks": ""
           },
           "caxis": {
            "gridcolor": "#506784",
            "linecolor": "#506784",
            "ticks": ""
           }
          },
          "coloraxis": {
           "colorbar": {
            "outlinewidth": 0,
            "ticks": ""
           }
          },
          "colorscale": {
           "sequential": [
            [
             0.0,
             "#0d0887"
            ],
            [
             0.1111111111111111,
             "#46039f"
            ],
            [
             0.2222222222222222,
             "#7201a8"
            ],
            [
             0.3333333333333333,
             "#9c179e"
            ],
            [
             0.4444444444444444,
             "#bd3786"
            ],
            [
             0.5555555555555556,
             "#d8576b"
            ],
            [
             0.6666666666666666,
             "#ed7953"
            ],
            [
             0.7777777777777778,
             "#fb9f3a"
            ],
            [
             0.8888888888888888,
             "#fdca26"
            ],
            [
             1.0,
             "#f0f921"
            ]
           ],
           "sequentialminus": [
            [
             0.0,
             "#0d0887"
            ],
            [
             0.1111111111111111,
             "#46039f"
            ],
            [
             0.2222222222222222,
             "#7201a8"
            ],
            [
             0.3333333333333333,
             "#9c179e"
            ],
            [
             0.4444444444444444,
             "#bd3786"
            ],
            [
             0.5555555555555556,
             "#d8576b"
            ],
            [
             0.6666666666666666,
             "#ed7953"
            ],
            [
             0.7777777777777778,
             "#fb9f3a"
            ],
            [
             0.8888888888888888,
             "#fdca26"
            ],
            [
             1.0,
             "#f0f921"
            ]
           ],
           "diverging": [
            [
             0,
             "#8e0152"
            ],
            [
             0.1,
             "#c51b7d"
            ],
            [
             0.2,
             "#de77ae"
            ],
            [
             0.3,
             "#f1b6da"
            ],
            [
             0.4,
             "#fde0ef"
            ],
            [
             0.5,
             "#f7f7f7"
            ],
            [
             0.6,
             "#e6f5d0"
            ],
            [
             0.7,
             "#b8e186"
            ],
            [
             0.8,
             "#7fbc41"
            ],
            [
             0.9,
             "#4d9221"
            ],
            [
             1,
             "#276419"
            ]
           ]
          },
          "xaxis": {
           "gridcolor": "#283442",
           "linecolor": "#506784",
           "ticks": "",
           "title": {
            "standoff": 15
           },
           "zerolinecolor": "#283442",
           "automargin": true,
           "zerolinewidth": 2
          },
          "yaxis": {
           "gridcolor": "#283442",
           "linecolor": "#506784",
           "ticks": "",
           "title": {
            "standoff": 15
           },
           "zerolinecolor": "#283442",
           "automargin": true,
           "zerolinewidth": 2
          },
          "scene": {
           "xaxis": {
            "backgroundcolor": "rgb(17,17,17)",
            "gridcolor": "#506784",
            "linecolor": "#506784",
            "showbackground": true,
            "ticks": "",
            "zerolinecolor": "#C8D4E3",
            "gridwidth": 2
           },
           "yaxis": {
            "backgroundcolor": "rgb(17,17,17)",
            "gridcolor": "#506784",
            "linecolor": "#506784",
            "showbackground": true,
            "ticks": "",
            "zerolinecolor": "#C8D4E3",
            "gridwidth": 2
           },
           "zaxis": {
            "backgroundcolor": "rgb(17,17,17)",
            "gridcolor": "#506784",
            "linecolor": "#506784",
            "showbackground": true,
            "ticks": "",
            "zerolinecolor": "#C8D4E3",
            "gridwidth": 2
           }
          },
          "shapedefaults": {
           "line": {
            "color": "#f2f5fa"
           }
          },
          "annotationdefaults": {
           "arrowcolor": "#f2f5fa",
           "arrowhead": 0,
           "arrowwidth": 1
          },
          "geo": {
           "bgcolor": "rgb(17,17,17)",
           "landcolor": "rgb(17,17,17)",
           "subunitcolor": "#506784",
           "showland": true,
           "showlakes": true,
           "lakecolor": "rgb(17,17,17)"
          },
          "title": {
           "x": 0.05
          },
          "updatemenudefaults": {
           "bgcolor": "#506784",
           "borderwidth": 0
          },
          "sliderdefaults": {
           "bgcolor": "#C8D4E3",
           "borderwidth": 1,
           "bordercolor": "rgb(17,17,17)",
           "tickwidth": 0
          },
          "mapbox": {
           "style": "dark"
          }
         }
        },
        "legend": {
         "tracegroupgap": 0
        },
        "title": {
         "text": "Crop distribution"
        },
        "height": 650,
        "width": 800
       },
       "config": {
        "plotlyServerURL": "https://plot.ly"
       }
      }
     },
     "metadata": {},
     "output_type": "display_data"
    }
   ],
   "execution_count": 8
  },
  {
   "metadata": {},
   "cell_type": "markdown",
   "source": "We can see that all the classes are well distributed (balanced) so we can use accuracy as the metric for the model.",
   "id": "6f4ceae13bd12790"
  },
  {
   "metadata": {},
   "cell_type": "markdown",
   "source": "## Checking the features",
   "id": "607c77fda1dbf4f0"
  },
  {
   "metadata": {
    "ExecuteTime": {
     "end_time": "2025-05-30T01:46:34.003674Z",
     "start_time": "2025-05-30T01:46:33.755047Z"
    }
   },
   "cell_type": "code",
   "source": [
    "from plotly.subplots import make_subplots\n",
    "import plotly.graph_objects as go\n",
    "\n",
    "\n",
    "# create the histograms\n",
    "fig1 = px.histogram(data, x=\"N\")\n",
    "fig2 = px.histogram(data, x=\"P\")\n",
    "fig3 = px.histogram(data, x=\"K\")\n",
    "fig4 = px.histogram(data, x=\"temperature\")\n",
    "fig5 = px.histogram(data, x=\"humidity\")\n",
    "fig6 = px.histogram(data, x=\"ph\")\n",
    "fig7 = px.histogram(data, x=\"rainfall\")\n",
    "\n",
    "# create subplots\n",
    "fig = make_subplots(\n",
    "    rows=4,\n",
    "    cols=4,\n",
    "    subplot_titles=(\n",
    "        \"N histogram\", \"P histogram\", \"K histogram\", \"Temperature histogram\",\n",
    "        \"N box\", \"P box\", \"K box\", \"Temperature box\",\n",
    "        \"Humidity histogram\", \"Ph histogram\", \"Rainfall histogram\",\n",
    "        \"\", \"Humidity box\", \"Ph box\", \"Rainfall box\"\n",
    "    )\n",
    ")\n",
    "\n",
    "# creating a multiple figure with histograms and box plots\n",
    "fig.add_trace(fig1.data[0],row=1, col=1)\n",
    "fig.add_trace(go.Box(x=data[\"N\"], name='N box', marker_color='green'), row=2, col=1)\n",
    "\n",
    "fig.add_trace(fig2.data[0],row=1, col=2)\n",
    "fig.add_trace(go.Box(x=data[\"P\"], name='P box', marker_color='green'), row=2, col=2)\n",
    "\n",
    "fig.add_trace(fig3.data[0],row=1, col=3)\n",
    "fig.add_trace(go.Box(x=data[\"K\"], name='K box', marker_color='green'), row=2, col=3)\n",
    "\n",
    "fig.add_trace(fig4.data[0],row=1, col=4)\n",
    "fig.add_trace(go.Box(x=data[\"temperature\"], name='Temperature box', marker_color='green'), row=2, col=4)\n",
    "\n",
    "fig.add_trace(fig5.data[0],row=3, col=1)\n",
    "fig.add_trace(go.Box(x=data[\"humidity\"], name='Humidity box', marker_color='green'), row=4, col=1)\n",
    "\n",
    "fig.add_trace(fig6.data[0],row=3, col=2)\n",
    "fig.add_trace(go.Box(x=data[\"ph\"], name='Ph box', marker_color='green'), row=4, col=2)\n",
    "\n",
    "fig.add_trace(fig7.data[0],row=3, col=3)\n",
    "fig.add_trace(go.Box(x=data[\"rainfall\"], name='Rainfall box', marker_color='green'), row=4, col=3)\n",
    "\n",
    "\n",
    "fig.update_layout(height=1000, width=1400, title_text=\"Features analysis\")\n",
    "fig.show()"
   ],
   "id": "76e994e3dd4d0579",
   "outputs": [
    {
     "data": {
      "application/vnd.plotly.v1+json": {
       "data": [
        {
         "bingroup": "x",
         "hovertemplate": "N=%{x}<br>count=%{y}<extra></extra>",
         "legendgroup": "",
         "marker": {
          "color": "#636efa",
          "pattern": {
           "shape": ""
          }
         },
         "name": "",
         "orientation": "v",
         "showlegend": false,
         "x": {
          "dtype": "i2",
          "bdata": "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"
         },
         "xaxis": "x",
         "yaxis": "y",
         "type": "histogram"
        },
        {
         "marker": {
          "color": "green"
         },
         "name": "N box",
         "x": {
          "dtype": "i2",
          "bdata": "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"
         },
         "type": "box",
         "xaxis": "x5",
         "yaxis": "y5"
        },
        {
         "bingroup": "x",
         "hovertemplate": "P=%{x}<br>count=%{y}<extra></extra>",
         "legendgroup": "",
         "marker": {
          "color": "#636efa",
          "pattern": {
           "shape": ""
          }
         },
         "name": "",
         "orientation": "v",
         "showlegend": false,
         "x": {
          "dtype": "i2",
          "bdata": "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"
         },
         "xaxis": "x2",
         "yaxis": "y2",
         "type": "histogram"
        },
        {
         "marker": {
          "color": "green"
         },
         "name": "P box",
         "x": {
          "dtype": "i2",
          "bdata": "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"
         },
         "type": "box",
         "xaxis": "x6",
         "yaxis": "y6"
        },
        {
         "bingroup": "x",
         "hovertemplate": "K=%{x}<br>count=%{y}<extra></extra>",
         "legendgroup": "",
         "marker": {
          "color": "#636efa",
          "pattern": {
           "shape": ""
          }
         },
         "name": "",
         "orientation": "v",
         "showlegend": false,
         "x": {
          "dtype": "i2",
          "bdata": "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"
         },
         "xaxis": "x3",
         "yaxis": "y3",
         "type": "histogram"
        },
        {
         "marker": {
          "color": "green"
         },
         "name": "K box",
         "x": {
          "dtype": "i2",
          "bdata": "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"
         },
         "type": "box",
         "xaxis": "x7",
         "yaxis": "y7"
        },
        {
         "bingroup": "x",
         "hovertemplate": "temperature=%{x}<br>count=%{y}<extra></extra>",
         "legendgroup": "",
         "marker": {
          "color": "#636efa",
          "pattern": {
           "shape": ""
          }
         },
         "name": "",
         "orientation": "v",
         "showlegend": false,
         "x": {
          "dtype": "f8",
          "bdata": "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"
         },
         "xaxis": "x4",
         "yaxis": "y4",
         "type": "histogram"
        },
        {
         "marker": {
          "color": "green"
         },
         "name": "Temperature box",
         "x": {
          "dtype": "f8",
          "bdata": "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"
         },
         "type": "box",
         "xaxis": "x8",
         "yaxis": "y8"
        },
        {
         "bingroup": "x",
         "hovertemplate": "humidity=%{x}<br>count=%{y}<extra></extra>",
         "legendgroup": "",
         "marker": {
          "color": "#636efa",
          "pattern": {
           "shape": ""
          }
         },
         "name": "",
         "orientation": "v",
         "showlegend": false,
         "x": {
          "dtype": "f8",
          "bdata": "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"
         },
         "xaxis": "x9",
         "yaxis": "y9",
         "type": "histogram"
        },
        {
         "marker": {
          "color": "green"
         },
         "name": "Humidity box",
         "x": {
          "dtype": "f8",
          "bdata": "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"
         },
         "type": "box",
         "xaxis": "x13",
         "yaxis": "y13"
        },
        {
         "bingroup": "x",
         "hovertemplate": "ph=%{x}<br>count=%{y}<extra></extra>",
         "legendgroup": "",
         "marker": {
          "color": "#636efa",
          "pattern": {
           "shape": ""
          }
         },
         "name": "",
         "orientation": "v",
         "showlegend": false,
         "x": {
          "dtype": "f8",
          "bdata": "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"
         },
         "xaxis": "x10",
         "yaxis": "y10",
         "type": "histogram"
        },
        {
         "marker": {
          "color": "green"
         },
         "name": "Ph box",
         "x": {
          "dtype": "f8",
          "bdata": "WBNkNI2AGkCWbPi6ZZMcQGkviVD4Jh1AcfkXWgANGEBRrg881R0ZQJQBIQsxVhZAXDbIkb8BF0A2TzZkigUcQAtc6Xh2uBlANLgxZuDsHEDeGS7xzo8cQKrV9CxKURhAHc3nlRjTGUAAt8Ye3EgZQIvu3xA41x1AWAWQ+BpiGUDu+4G8aEcdQERAyveowxpAwZ6QTHDUGEAUVR1E+1wbQL3uiYLUyhxAmPQqRB04F0AvpMNDGMUZQBEZMCqkChhAKFwE0GzuGEDNASw5wYUWQN6qfrQewxdAxBEqjLt0F0ARIwyCFakcQNTnbeOEahlA36SZiUq6G0B5v+YpZl8XQF67XuH3/xdAlPa1F5m4FEDTQ4MAWJIXQFL3fQ/JHhtA7KmnH2zuGkD6yF+6RqwaQFKgemSmQBpADWA+FxW6G0BDpQx6QZgaQC+AyNl2nxZARMtrOVguHkDC6l32yqwZQOd4i9v25hpAG685OsAxFkB4tQJhrEMcQKQdYnzLXhlA6VN9nYoEE0AcW5/Xd0chQE24hR6ZrRpAaUzFHL1XGEC8JyPvmx0fQBg9fSUMchlAA+mzGkpFGEANOjCf/UsaQGaa6KfDYhZA42S11bk5GkCEMRUnZosYQDoOJj+OvBdAfyWhPhNjGEBdjwvM33QZQJmSpQntMBtAIJeqRylPG0AQEe0ZeHgMQGQN6YC84BhAu6eCvOSKF0Bnbw+Th4cWQDJiezoSthtAiVQyrwxgGkAmnpWvKSYXQHtBL8+PkBlA8kRXvG2FGkDEmMEGriAZQIIKr3O/zBdAltBGdvGBIUBDOljZIKgaQAgY4RbBHR1AeXfyVk42HUCyM2l5PIQcQFrvSb0tIBhAiU5p2WfpHUCVcghmlgAYQN4gE1ZOnBpAvjXb1d6vGUAfslCEN5QZQL/9DLHyHhlAkK6IUFurFUD4aVsbyhEXQIDjnQlu1htARp8StCLIHUB/kWBCtvAcQCpfHtJyMxdArNBZyTt1GkBQSS7jzBsZQA2YQy/8qBpA24eMrNQYGEC6Wxo+cBscQNrMW1QPNRxAZP9JNxrkGUB2VLEIMLYbQE0kpZRo/R1Ath9Wo0pNGUBGIBJJ6iQdQGTiHJaCiRhAOK3rgocsGEAH9TQtn+8aQMj4fgpKahxABy6CCyEnHUBMdriSJ7sdQKB6WjRTXiBARzKpdo2zHEAX3s6GSCwbQJSqnuAjsxJAHzj8qGUjFkD7NGiUoMIWQIH2QZu+lBlA3KTmzvOVIECD6fiLgEwXQFn2YRNSoBxAD+kVIQWrGUDPTUoqG/YWQIOuShAYeRdAod6RU2nVFkAIS6KCtrsdQGafCUWhhhxATEcX0wBVF0DPa8sE7KgYQMALkKVlbRtAP8XZw0pQFkA3UI9WfeQdQCKXAEjiqxhA/m8s9RrRGkAB4C60oGcYQBPchz1mKh1AYDC657lqHEDkY+nWekMYQCn7OrLqphxAIyWHmceJH0CvByZGtfcfQKUWwTRJdhlA0AxUWSOPGUDUY5D4a0ccQOuZOpy0OxhAkfilFvvPHUA4u9Zab74WQLqaI8iUxRNAPRON+pNsGkAeHEJOxSsXQGglJAcpJBlAR2T/DNRJHUBB5mV19NsWQMEOybQpYxhACpJ5D5AmG0ACA+UPNk8bQFm+/olp3RZANPJORfcWHUCt1lTZIcsWQBjPetrcshlADk4jsc0rGkCybM/0XlUWQBt0u/dtlRNAFaJLUZGTGEBuu1SVSwscQAJAPraf5RZAK6luibfRGEAwByiqCr0ZQPVxdGL9DxZAHszNB2llHkBlQS5fAf4ZQD7kOoFBuhNA13CEUbi6FkDqo+4rWAIaQFHtulT4TxZAr7Zs8UwZHkAazx5qBjkSQOkDYg92LRlANABtDoSKGEDRUcDWoi4cQNxUbc/dghtAUQ1wSyi0HEC7kbZHKGshQCBkFxQfihlA4UodtLwwFkDp77yMFt0ZQEt8Fs3IvRdA5CeW2tn3H0DsvvEiBKUUQBJih2EiKhNADYWa5PHLGkCPFeOZIyEZQPQ7jMr/ShZAgX3/3FNuGEA/lLGfmlAaQB0KqR/3jhdAbVsxr2W6F0AxC4pyq+4XQHVhKlGEtRpAxUHp2+fGFkCePI/+Vb0hQCDWqV/aPxhAZJCLzzxpGUB2fnoBMDEaQGaAIk7bpBlAmL4KAsGiHUDE4f+gizIdQAHY4zIsrhtAODpM0x6dFkCRCsvutekWQDwfdaaWRhpASOWG3JVkHED2Qmm+NqAaQEux06q+XBpAq62t3xmnGUAa51XuHMgWQJ8cId2xPxZAL8UOkFPQIkB5sZ3gfAEbQGdYq8eURSBA/gAnuLGpG0BqyvWGYMwWQFQoSsOi3htAHGvN9uvjFkChEWLqixMWQNth9UJfXB9AyRGOAD7PF0CZij4zSYsZQJqQVZheSRdALYBZPB09GkBoFctnWEIcQPiFHeeyuhdAMdG4IdqXF0BCS2MjLAQUQPXU24B+6h5Azp3704+NGEDeA8WmzYQZQMi570ZWmhlA9V2iXhaXHUDmuDnmU4cXQPVCcS9/yRxAj8MZKX/KEkDW5nsdo0AdQK3KLcnbwxpAI5S6Dhw6H0ADnRPydlsdQEGEJQ8l7xZAKnahqiM4FkBvDgekJf4WQC40BaKPnB1Ac/0lIxMMHUC18pD+nhEWQOENAXFr8RlAUy3+w1FyG0ASCV3EotQYQF2uRsIzVx1A42A0AFvTF0CDf1vBgEcbQHCrsWhgiBlAr1bZtql3DkDUZ6QxnGcZQDVqttn1Th1Awi1NgTR8GEBZjzUCdXMYQNhSr3dZoxxArP+j0UVgGECQN4nZfFIZQJIHMbZhrxlAmMZ7StilGkD16Ie9wvUaQBqPA8N6mBtAGfkLKX5rHUACmuJT+4waQOGsXRqMYRhAw9dEVwPxFkCUXZaaMNIYQB8ZxGqg4xdADL/gQjoKIUAB3w9tN9scQFOKz/3S8xxAyP6QtqUjHkDigQg+9BUYQO1sERbqyBZAGf9VfzjaI0DQxp0U3u4YQDKxZlVlbhZA1V36E2yGFkAcyZxp7egaQDkSkHh3nRZAe89fILx5G0BcE17Eb+UcQGUGeHJQKxxA/ckf2UrMHEAKLfop3+gXQId0A/trQBZAS1SLYpunG0DMe/Jpe/kUQI+V0hKvtxlAxKQEbCOQG0DHWWR9+ykZQPB1F/2onxpA1CpBGb8pF0CXlqoX8IIbQLsOHGrw4RhADX2UN96iGECqc50qBZkZQG93IPzV+RpAqf9TQaqYGkA1NPFQDDsXQIzDjDXLLxhA54D8Iw5MFEDnPEzDPGwSQAzv4a44RBdAMXtGEwkdGkBF1A+tv5odQF8FK2CYDhZAv4D7jbiQGEDPSFfFKJMWQHcQa4z+FRlA7Zbxql+xGUAcApZI4SMfQD10WBlBFBpAK8YhZB66G0AI+THKWXgYQESAHUmT+BpAinw54ZUCGEChPr2ql6cXQBzU9XnJERhA2dTjOJyBG0B5DUOpkhAbQMOEHTuyyhZA7R1PeshaFkBC/Qak/4QZQEZb+G6xGBpAdWS3X9YTGEBjIywEG3AYQKmnc2vw0x1AQYl25RhAGkBq5UQMUtwbQCLQxjUxtxtAK0SeXAdaGkACElcS/IoNQKzosVs7yxpAmxXidSOmGkAqpFCkaJAeQFuMaNh72RtAyaw04i8LFkB5vWZ/wRkgQN1DoekV6hpA8U92IcClHEA7/pmuGLcaQGz+Yi1zFRhAYcsykcCHGEBm3pgIlaAZQH5SzMUIphxAPVrmvuZyHUBDCggnTkQWQFYF+5MeRBZAnOcvxE/HG0Ayri9HzMgZQAvQseG78RlAi6nBIinhG0AjcWYm3nQYQOKrktKwTxlAzWGgZqYQH0DFFArjNy0XQJV0uElRNBhADGSCiVtpGkCpNm0DzVgfQLraae98Mh1AI98PucWSF0B33Ea8ohsbQLJSobcBRhZA4oWv2vWhGEDLn7EnaMoZQMTeTMuWshZATqgNcgpNGUAnhvOPD1caQDavyZ4tBxdAep/Yeu4dG0BAzOmoJnUcQIe7goZhwhpAr0d+UFnnHUBeDzXw9EEbQNiGBjlaWRdA5tVzse1jHEBDSfCiidEXQIe2FVs+lxFAvq7JlLsJDEBnZmsfILsbQCfx9nYEKRxA/CnAPfDzGUCzTTaNCUEZQBqD4WvuSxdAz0TlGvdIGEB4RfV4T3MZQNeB1nBPnR1AdQ/lGITeGEDZBQxdTCcdQO4W4yQWjBpApwBVMrmWHUDGar4N25UXQABFi4o9ohlAyfWv3yU4FkBYXJhc9w4XQNVNTXUNTBlAYu4vwuETG0BOdz4GoloXQIMvWdAMuhlAYPxQQ/1LF0AtbsyA7WsYQMxw5efkPRpAE2vpuLfsF0DSlJUNCKYWQMfCmysGxhlATxkZk+dAG0CLdW0ZtyMWQMRwv43e/hlAZugm0ZULHUDrPFDFkkwXQLc0cm731hhAbFlCZ2e9E0DzMqQ5m7oYQG72FPRvNRhAwUywP1ZCHEDBEJI1hcAZQGvJzs6uXhlA3EIiMIChGUC/LmBV/woYQLN366Eiax9A8UitEXCrFkA/s0KWp4MXQP33aaepZR5Ap34q4+kZH0BUsDC+FOYaQB+hstZa3hZArZ8L3uh7GEDjdRYgfuofQKAEt2f2jB9ArxCVx0wIIECGqtpmEQMYQIiV/wDTChxAz1tlOxllHkC/1TpxOQwZQG2TlDhOrRtAvKQ0Etb1GUASoSCXibUWQI4Nr7Qkjx5AJ5/p6GLyHEAaDm/JtikbQHKzf2sVMRZAtQfguvAoFkBfTf4kx3YcQIJlhjxrkRhANBw0kyZUFkA75PRiGa4ZQGkFalc/FRVAgCKO9vEkGEDg6JoxG3YdQAV/BG2OcxpABg/qWi8BGkARRV14GTAdQHONl7qgeBlAzfyGYz8cHECvsd63QL8YQBcDd+JqrxZAHoMdGKNsGUCcMnn7WiIYQKnJDTir2RhAnYWJezb3HkCFZo0w+0EXQOKwZCm6FRpAXm+0RrH2FUAU+ryJ8Z0bQLGCcurpzBhANN7SQclwGEBGQTIVyWcgQHlgrOG1CBdA3CgVAQypGEATCHgow5QVQOQKJx1whRhA4zODP5aUGECCsza7JdMWQH9aHAA3GhdARtqO9UkiGEAtqvxtetAVQBMi1p42nR9AeTppd868GkCvLg/oOBocQDLeQpaGtxZA3s0RAaDNFkATeL26fnsXQDlRczv5PRZAjVc3FsiFGkCiWXnMtwkTQF2lHhYonxpAjhWp7pkaF0D54spavIAXQPBhjM5NbxJA0xaD+b4hGUAmQiAgKnIUQDKq32HnCxpASIcsdwtPGkDxCVj5BdkgQN01bzyiyRhA8hCJ7Mq9F0DeQ1KjQcgbQLhNsZ0B9x1AoGSgolLhGkAr40wEi/YWQER8/53vFBhAuQGNPIqBGkAm+vGhiKIXQBJ8C584vBtAp32/DTuSGEA3zAVr8u8ZQML7Vl0auBlABNmrwnhxGUB/sZEAQosWQPI8z9fgUBtAb64dacmvF0DG8nmI8PYcQCbxdfbuVxpA1/BDkS1aGECGU9ICNUgdQIH9uWMPSRdA/HrcvBOjFkAHHMrPlC8SQIU7DdQGDhZAT31pT55nHkCq+vVAtAcSQLxwh1AckxhA9kCOWh9sFEDc65WT/9IYQMNc1u2BahtAeoD2POKSHUDvhGbwWqAXQNSrelkQWx1AwSI7RuSVGUBUYNMTLpcZQH32We6XehtAiaBQoGYsFkCidmRRfZYaQGaPYV/83htA+4W5BZS/GkAYQGA0F5sZQLdguFkNNBZAbu1tyHnUGECAJQ7bQXEbQJrcJfpHzh5A52xfEvdUGECSuiO3tFsVQCltMimMlxlAdFAkwDJGGUA/Xg0lmp0VQG9hh3i++xtAsMVI2LJQGEDhTKyJjgsVQCUvIdVmXBZAdMfcYYXWF0DP8Xvi09AXQPMmSjiwBxhAXBs8qbWmHEDJqY42PSUfQG0h0rN8aBdAywgK5FsxEkBHm+9PxVUaQC3c9JK/xhhAUrhgob2nG0D5oVt6920ZQPbaigIfUxhAmMvtLrVNHED+0goiPv8aQKq2ReDiORhAjLCDeJSGG0AnyI7hP04aQGKfVIkffhpA+MoI5BzxGECfpYSQjiUaQAJ3/r96ohtAAW2KS37rF0D0VCSyUVIhQAaqW0pRARlAf5Vd33DRHUARox3A7XgWQDISDK1vxhlAh8u6F0kPFkCX2gkxwugaQJdl26uHLBlAnvmQSL+hH0Dkl/x6fl0aQFc2NOQm7BZAnf3onuzlGED7hQ0FIuoYQDp+We6NDhtAHEUsGwMqGECztEkBRrocQMhgwPAc+hlAkbfLmjJfG0Db+itcPcwWQP3gxcAPdBpAeW0vnH0DGUAxAJ7+/e0dQGMf3B426RxAYyQ0rw4xGUApmrhp9L8YQIdfpRPtlBZAnMaEBeigGEAI7XdWQvkaQHnJ1GSTDhZAVS+UUwjuFkCv2CfM8O8WQBvkfFGFKSBATYMwJBgeFUCaIa7M9jkZQBZBh+zIphpAcxbIfNg8F0CztkosANIcQNnJqzapoRlARll2w+HpG0A5AQ4gygEbQBONl2lZGRdAk2MsfzAtGUAj1ydiDBAYQGdkLZFNFh5A4cqQZewkF0CWXVZ/iagWQNZhYZXGQh9AIxfHQTx8GkD1dTlVWfgYQIWo3PPlWRpAdVqWMwSpF0BIQt5P5kUbQJPPlYIa5h1Ar228AYeSF0CnBjLsRAIcQCRMwMvmOxdAVzxTuoQJFkA6/iKgdvEbQEK1THxx3BpAuU4PSa7SF0BeU4qXUz4fQJ2K3wrkzBZAhEMFDVH5G0CP6/1L9O8YQAoNukAmhhpAOxcb+vTyF0Bs8vRHobMZQOrWtFAH+R1ATSct6gAJG0AjyjUK67obQJDPqh1lCRpALyUZ2Zg0HkDSJo4JH+QZQHZo/dJHLR1AJuqQkW+LFUDvlh4s59UaQDfeDu59SxlANKK58LGxHUCLX+PAzHMbQDVMdxv3uRpALYkPk0BOGkA/5eS6M/UcQFVREsuT0RdAXgA4+6WNFkDoPNe1xcobQOB9S7zgEBxAN8+1iFjtGUAYNID5XHoYQPILiV3WohhAcQlsQBfsFkAGdwLC0DQaQDElUMyT1B5A2BOzFzc+IUAxpzFFrKIYQPyq07aecCFA6oKA0AhZHEBqSTNVsZwbQPyS+qOJvB1AYrJy4aAaGUBtcfWy2WYXQCFOcWYFcBZAuUQS41OTGEDBMc5Wk7ASQIBilAIz5BdAI/UGrt4kIkD9iVV5vucXQM1xoQST5RxAGj4DmYaFHUA84BUcuZ0XQCtL3HnO1RxAE9yjkpXEHUCy2UCjPL0cQKRBIzvjiRhAeCfF5X3IFkDcoifAC1gcQNOW53/BSxpAMC3JhfO4GUDbF/bSGWgcQG/b4g11DxtAlaVrYIrWFkBqMert3tAdQNDDO4boLBtAN3Xw3BO5IUAG13TuihMVQOgZNT4XthRAO8FACK+kG0BqTSaA+EsYQCXrJOZPkRpAFpemsm8dHEDP/F3kDWYYQMlu6ixIFRZAwYaqD1lRGkBNDzqD5+caQKRyBosy0xhA2WDPQRHxH0AgRelHzcEcQAVY160NwRdA1FBZA0qFGkAcMYWXeIEYQO4qNKjnXRZAAE2yRToiF0BRGGF4j50aQPSF8x26cB1AtFeoANvDFECI1j6ogVQXQH02CPn0phxADUAzICy/GUBKj/8yeooWQEmdMeDtghZA2ikyR0pvFEBlck4SaXweQHjEIxxz1RpAfnv/aP0uGkAMA0UVxn4YQPwEnBpy6BtACXkCNifAF0C7aEn5qVQgQMdh+4y1EBpAC61EXN0CGUD6aa5j9FUXQGxvMes3PBZAUvM5nYKhGEB8BbgMd9MbQGRaaNVRjR1AMOmriPNeGEAliNRjRN4bQCV9gg1N/hVA9OFtZnM1IEARcTEOR/oaQGezJ9fNZBlA4SxfdtP2G0CEmxBjZ4IXQDBq21bRpBpAXHEqf+LLHEAXbF1JdtMaQMSEZhFpBR5As6XK1H2gGkArgSc8hysfQPJeHRZWPxZAR2Utf2quIUDVfKlg08cYQJLaxsooFRpAuYzB4QrqGUB0xv827usbQGd1CKJCixhAZUD9NNzUFUCEpSRlN0scQDVIjmIjxBpAryXkg54RIEDA1eO5HFEfQNcVxiWtDxdAiuV1SFotF0BwjylIAXkhQBZiDOSNhR5Ac9VYnBN8GEAnBNhrbcoTQKqzZ4qRXxxArlOJC3DiGkCOnlN3AsUXQOFz/FcjNRpAeiBC9FXOGUCEh02KrZ0ZQMQqJ5/zxBlAb+l6nTI9GkDSvVZbFP4XQPIE1DFttxpAcAfJhl42G0Ci/yovFckTQBlJUDbE3iNANU5c8YEHHECPjtFYAPUZQC+n1IoObRhAm2+2TJXUGEAp6ZGhi8MeQKVYZvjs1hhAoDCL/SPFG0DYzk1UnD4eQCxlP6n71BxAfcFiZRhhFkDvA5WTfoAdQNpUYVw/8xlAgQ3Cu+A0G0CkoMdnM70hQH0Kq3FpohpAZXDE9VA8GkBM6g6mhH0ZQJTn8s3TGhlAf0QbmaoKHUDTmfUOKUMZQApQRqHUUBNASXSK5uWQGEDb0hcAssEcQKoyHGeEtxtAgrbuSdRnGkACokziLW0WQDh5S+vPgxpABiobisaeGUDbxzX+d9QWQJwzW9+rZxhAVuRjuZ38GkAwfUKFCQweQLPj35eVkBdA66FDAVfLGkD/vB2fmEIWQDPoCgoR8xlAXJ8yMW8FFEC1Zae8qUgcQFCS928zPhpASqflb5G/HUBQ15beV4MaQFPom7hF3BhA+Q1BRT2PGUDGEOLFIH4XQEBTChV30x5AiN9c4hkLGkBpG47N398WQH8hB8wTiRpAr6SO7h3yF0CVcC0Cf2gXQPODNA/SIB9AyTYDa7u2GkCHQs5yDjEYQBW/yTkoyBdAY6IJYD8IF0CpSHs/Et8bQD2L2/Hx+iBArzkjJLQYFEB0bYRSb/AZQLLGTcsXgRtA2racCVUbGkBh5tjNzpAXQF9b+CfcfBxAF3KxEaRWGUBJGsrzWt8WQINNbw/aFh1AI/DEAhiCIkAAaX6DlqghQMdsCA9MnhtAf2D5ucIbGkBoXErzTS4WQCofFQ6jBxtA5KQ8YhBQG0B9d3ySc2wYQNnAuzT8tRZAC5YnZnY/F0C1zjzctV4eQAJPyVUGBRpAltFWki2iGEA04x5fA2EaQBlgPfMUOxhAIhCRlb3hGkDZ/cpNS/UdQNkJ/4eTwhhAkd5j9bYrFkCUPWAj6yYaQLSalNO1LBlACvJ+nxvNG0AL1qU3vWwYQEzMVSFV+h9AdCva1RFpF0A2ppeArp0bQK1o239QWBpAUdAoiHqcHEA8EXjr8ocdQEKOc7x+PSFAaFtlV24MFEDfTz8I/jQaQNSvSb7f0hhAJiUCqr8pF0B9UPnSOTcbQBZwVS13NR9AUsG4ht8KH0BfwXr/xvQZQBKxfO7o0xZAxbtHKS3RGkDMoqgaWnAXQO+wR7CKEBJAu38LNp4BFkA7QzkdPYIWQGVrj3SMdRtA3SyTHtxYGkAgdGZBfIIZQH6q6f7a1RhAFbzwnJBKGUD/Fv+fDAUeQIozf39cRBpAaZbtCzS+F0Bj7jk0VYkcQC1eMcVKpBlAE3N7D7gEHkDKQQs0mF0ZQA45IIPBoRpAm6Jy/9B3FkAFTBPIghgcQKRDqp9sECFASMYZrADRGkCDLTxQIyoaQCIEjZSLvRZA6aSe1WfWFkCV9A+mUQwbQGnGBRSoqxpAC+pRdAFcH0AmqkD4EzscQH5RV37mnh1Au5lageRRHEAXKeXMrn8WQNLMi/rBuBhAwJSQLod4GkAsgDvmwtwaQJ3i94r8YRhAJw7dQhBPGUA6fz6KbRYYQIouqnDEURxAN0JLxk1TGkBiDuW4EZYbQEAggVPgdxpA4cjELAJZGEDthpVTAB0YQGMo1pJWuhlAJdFo/toOFEAUOMBpTfcZQGE0aD6gLRhAq3dxSI7jEkCc2u4lWlQdQPpw2p3/0hpAvsU/Q2pIGEA7CY6TDgMaQGyU8OLPrB1At7enIEkHE0ACRyMbH+oXQKnE0EWe7RpAPMJzM/9lGUBXyTz8eWwWQLipFEpFbBpApInV8SjjGkCxTUsoVPYWQJH0eEAqfBxAV9UA4gRbGEAwJtX1RqIWQGU0KiQkWBdAxfLkI/SSG0A7/GWSuX8WQHQudg+RhxxAzKMn1O+SF0BRS4+As0cWQCehENu/4RdAmbInD3hJG0ASfd5XXL0YQBOyqmB/ihxA4K16YMp3GEDWoeQfx7obQCl7Kit2jxhAkPTeInQPG0A7XCy+AesYQAx8LhvpfRlA5Kb5b817GkAJmPZW7/8ZQF3AvOHt6BZAkGyzU6GtFkC+aIpeGN0ZQIXTO0Lx0BlAkMJnfkRoGUBgwSFHf0kbQKHqx47c0BdAQO/m2UcdF0Ddojuk8gYYQKWRPsn3OhlArCgU2FJYGUB9E6idGKwZQMTYpAPbLB5AY7IWccqCIEALIR+o3vgZQCYtoSrCXRZAaHNBIhKuFkBo+sdwrLEbQPe8TUVLYBpALm9LOoP4GkA2Hr342qcYQEbiZGlHChNAgGOp1yivHECxoEQMuvMdQGOzlSpgrxVA9ciENyIeF0AaOzzfqnwRQCFoEflKjBxA1XsJmVS4GUCqRfahCJIcQHDJ8CZfhRtAY/jqC2qlHkDpLc2WdF4YQIVMe0jNwhtA7sSET3UVG0CGRtOAEWsbQBiSCJfSDBtAnqXqctj6GkDXtxII27AZQIvaEQ+nwBlANXS2994gFkAiLydFhJcaQCdCZD0ntBlACfTg82VxF0AD2Av7+fkWQBLwbtyXahxAKMcyN74qHEBKLVyi7/YcQIfclSg+fhtAnhDroT6+GUDTqhf1qRoZQL6U/oEZKxxAGVqxgIhVGkA3FNG+2GwZQA3dHwE57RhAkx98Hl9nGkA1nwNjLisWQIdBm0e+8xpACXl8/FfuFkCPscQXrk8bQJUaKJDcpxlAPileKAoZGUAPF5XhMxwaQAPL14YG0xlAx5/vQeQBHUChzbZCdLAdQBaBuS/KRBdAaBQtoQQBGUDtnotyqBgeQMyewhkV/xJABQwe6JmzF0DbdKu3a9UWQObxD7YzHxpAr50MtFm+FkBT8vSOds0XQP66XpCwuBZAVWo4Xf3DEkCMtVXPnW4aQOSbicN7dRlARFjH0DUAG0AJWcBLQ+EZQPQ91MpFeRhARP2EbIYlFkAU2ZcEWU4gQKeNIB5UBRpAJBoUNedIF0DyEguYmqYWQLqDkcS2QBlAB2+MwP8AGEDVYUj4JXcZQNnGzeBXmR1ANPC4tUA9GkAeXGKuCkEdQGkpNYjKwxpAfeIpea/1G0DGtQz+nwEZQDAuaU1yRhpADixZq/w+FkAgQUKryx8bQI0mr3/rwxlAd71GKDyqHUAGX23MuP0eQKUGkxXVRhxAGsZHBfrEGECHJyF8GwMZQHiLOWisShxAMKQe/Yo+HUDLAyaqluofQEP/S+y27BxAkWzWYrUKF0C4C8BLGF8VQBYfNPWZ0RpALQjWUu/SHUDU9dzzEGAYQLPN8BPFvxpAIb3tsRBFEkDFh3lZitEfQFAdWk2fsxtAMZNNXgltF0BWFngzEgMWQPFS59riQRtA+PvhwfjSF0ANMlK6t/oYQHsXkVbspRhAPYRyVM5WGUCLhq1VklcYQLqpAmeJfRtA4ZcMXQ/kF0DkWeT/11YbQKdz7yho1xtAuT3yG+crFkBay/DhinwaQBh2DCBgDxdAsxFxO4BYGUC0fSjO2poeQAj4Dco2IRdASkpt7ld/FUAlGigZzg0cQL2SZTrU5hZAd7QH4LpkGECQhsCCFUUhQFCLJO5vtBxAuo3vU6GCGUCjoZCu42ggQMaZQMBDUxpATV9G5s62HUCSXy3hSvQcQJBzp+NNWBlA4c+7dD0MG0BJ/pqLQ3YdQHXydVsalBhAWoRiK2hQG0DoQl5vmP8ZQGYC8uM3hBdAe6C/F/lrF0Duv9rAOeUXQPA0uv+f2CFAadSDT2HtE0CiyPUXwz4bQBvQJhX6KRdAR8k5HiStGUD8tEUqcFIcQE71jMafbRhAYxaQrLIJFkDXkz1l3PwZQJYV1AFachlA76q2hEQGGkAszWQ6n8QeQK1Dwc5FNBdAuOKWGpdbGECWWV6biF4XQKXDTYqy2BlA0Ck6JS9/FkD5rBL81EYYQPnlo/dT5BtADT/uESBjHkC6FBV5qxcUQLYuxe2BXB9AkcA4G5/BG0BpHaPcgJAeQBhPSUV/vBJAB767+E9hFkCAyt9aeR8bQLr0S56UohdAkrm7mZSiGkAkHgKndM0ZQADC/B+ktBpAeW/I48JRFkAXHKyfAdQhQEPz9KJagBdACpoxLTPoGUAF+21XAREbQAbqNNUK4hpA2Bgqtc3dH0AeIkAWOt4cQNMmaEJ8hhZA15oLLuYbGUDJNdA/a9cXQECARMeZ6htAQXEjDNO8HEB8Nu9bVIUbQA5mJUMUZxtAiwdFB+U0HEAYxAouiw4ZQMA44fP9tRlAvG4eQu2bHEARZNfSsIEZQIjROWDTvBhAUt/WNvWQFUDp2CXQflcYQB9r1LDQ8hlA3cRrjA1vHEDtLswZvHEbQEfh7GmWCBhAIGfZFEGmHEC36ZqM1MQdQDrKoF4ZCxlAZ5CZQwZVF0D6gi+v0B8ZQJlISCimIBlAaKbK46gzF0Bni3tet2MZQEw42MHfFBtAVMiDl1ppG0BS5p1FGq0XQHd9+I8L3BNA6BCtH9+fG0DNGBQ9WE0fQIZTI0o0ohpA5bqEniiQG0AiOpI4HF0bQCAKeC992RlAQR7lUwzVG0DvFErd0PUWQAoWH1BK4xtAoF58EzvDGkBLO3xsp5oYQDQD2Q7tGxdA2cp+78wyGEBbgIidwSAfQJwS1ufmAh5AHPRPt4YaFkDLz8R2IvUZQJgP6h3M/BhAQbCRwd1lGEDrJ/xPhxgZQG3mn/9vxRlAfCxwvoBqGUBBcAl+I1UdQGPAOfMQNRxA6w1woSjDGUANs8hdIRcZQAUrJu1IOh1ArtzY2mXZGEB4SbD5N5IZQITJjyOWuxxAFo7MldRCHECnaoCn0MoZQJXOtZ/0FhlACQwsXGMLHECUluoyl1QXQEx0My/JcxpAlYeZPrrJF0AkeMdSue8aQCwyu6AekBlAYbuk/x+CF0DZn61L2XIbQJuD0t2WQhZAzRnQWQYBHUA60sUY6xoYQJK9o5sE3hhAdOoeZwfzG0A2xKYFl28dQNv+4SNsXBdA6sVYv/yeGEAb6o794NkaQOog4vg3ZBhA34/0zD+wDUDB1dSO7wwYQI+tKqWumxdAxPoJ3sW6FkCXSvFRfL8bQHtQsPyC4BtAAgetuiB0GUA6cUaIg9gWQBtikWb5yBNA15lZg6s9FkBGuIxFGkggQKZ8wdS69BpAem5aVoWrGUDABwCl2VoZQPAkpX3MgRlAdrwYtqUbGED3TRMWEjMeQLpG3WTakBdAWYROR4FxGECC7eFEVCYYQLJDwhgNKhxASbPuKX0MGkAlfcQpH7AbQJEQGv4pQhRAZ1CLxny4GUBZuCSIbKwaQBBP5odgDh9AlcL7K93lGUCHXwo/0wcWQDFc6A2hYxhArmWicIweG0Cd9S6AHsQcQDSs39U9gRJA4eayowG+GkDc+4kH6gEaQJLkOD76RxZA3G0wN4zcF0B47jijuKEXQBCd2CLtxRZApne8jAzrG0CLIqG22LweQMMNhqdIriBA++pja6E9G0AD+wvkqdoZQCdPjj+n0RNArGAFDFPqHkBiYHZ/V4AXQO/PkdELDRxAELg5i5o4G0ADbniibYwcQBTAUxyVfhZAHT3FRF8cGEC36ispJpoSQLuF6O8pDRxA4EWSMj9nGkCp00JIZCUZQJIsB0pvOxtAQrBe0DhcGEDu+MktupoXQP36dzYRyRtAPGH5W1EEGUDZCAYIzScZQO7pO9bEehpA3KzeBz6zHUAGKogm9bQYQNcbgtFPGBlAl8zcPAj3G0CHo2Sf68oXQJStJja8RBtAiDLs4d/+GECJ0KBSOaQbQAZF3xwvWB1A3m7fKTiyG0Avodt7U9MUQMiGdbDsFBtAcmsUils0GkA41Ua0njscQO4Lc3jE7R5AEk/FeXcNHkD+dpDZhJgXQDT1qGKkaxdA/xHFZY6DHkABQRvhNiYdQIY2XowRtRdAqQjk0CpkHkDGt46pb9QcQNICtK1m5RlAaSRMlUvYGUAiQR7lU7YZQDhgjz0GDRhAnDo7i3EbGUAZjCNs/hkZQCEy9m+onxhAWRB+bfMKG0D1KrZyxMQaQMpy0C2N0hdAInm+0VSAGEA4NRwLFDkZQO2oz62OjBdAxJiMFN46G0BrjJF9dBwbQKMpVJpBGhlAWlX5FaAcIEA0RXZhSM8aQK/Cqp0INBpAkvTqlRIlFUDzvzTDSDgXQIw6lh4dghxAFgJEtxowGUDPPzEaSAcaQLop0dErBRdA/zEPwbqRGUCvQL+yfEgTQJ/CgfgPTRtAX+vWW5iDHEDqfyP7zIUWQJ+2ob1Vhh9AWfE7vbodF0D3plkIwd4XQMhr0ittahdAtG/kPauBGkD9d/b1ec0XQLjVyokYOBtAo1nZPuRrG0AxZj4sQ64eQCk9FWheBRhApsrw0l91F0D3N149yzYaQOzvU/I9WQ5AhcGX6ktKHUBd3/nYbPcbQPBOGHYTHBtAhwezWnfZGEA0ABzHhKwVQEt5JJOQ/B1AJeCY5M6sGEBG1pvKAsUZQIL69Kpeah1A+ahPCqTOGEBsBwLoIKkUQMKZET6RfBdAEWCJ7vZIHkCRp1lewX8YQKEK9JOu5hlAimHB3HKqF0Boa16EErIZQIMkMPlGJhlA0iUF3hXwGEA10caVo88aQBMBiVHQchZABxCeBpWDG0DShEEn8YYUQFKQd8WOARpAzQIgAM7FGUD9ujEPKeIbQCaViVhNrBdANFC21IMuGUA3xAG/CccZQNyGHh+XhhxA2hQOC1UUG0At4tFMS4wbQB029MPGmBpAT+pHmqqTGkBpsU504egWQFpoQu59IRdAnqUp1xsSGUD2V3Gl/PoaQBPpi3hDvhtAZMykIFRKG0A1McdsdQkXQDnflGH4XhtASUSOM6EZGEBgzOXyXiwYQFd9GJsCgxhAp6RyBosIGkBXzpz9mq0ZQAkiEW7AGBJApKaxS8HBGEBNWOAAOp8XQG0ovNG1pRZAXnawR6YqF0D16GlnaFEZQBsMjPRWGhJA90SaIgf/GEBtNinhFi8XQD97VhthvhlApM1fi1fvG0CWDWO5QusiQFpnFHznxBlAS8xBPW6pGUDR2k4K3GgdQAIGmOUqDxdAg/TucaHmGEAARMJDjfofQJONlQUEWhZABqulERckGkD5LTpZatMdQEn8nhlDTR1Al5BgwTVtHEDUrV8vmyAbQGj9zY7LmxpADfQWMP3QGEB831hNYCUZQIa25SEoPhlA7WPDojtlGkAABQVIrqUcQGrIZrGOixhAA63zgXr9GkAipxfL4AsbQKCiHUnfPhZA1LIY6QPnGkBYcD/ggREeQOgUgT1o9BZAMmmiu2PaGUBsQEKcoF4dQGwV+ukKBx1AyWqS1hq1GEA2x9Wi53EbQFFjKS+FjxtAQn2Ex6LgGUDGDuGaZn4aQJ4/oEVMvxhAfYqpFSJtF0A3lrfwqlMbQH6/F61DpBhA8gRsTvgbGEAnk1j0fM0YQNE9pEWhIhlA5XF0PDblG0BGlbXbm2oeQMQ5nlpzQR9ArE07s1/cFkAWrmU31cAbQN4F9gqeNxxA86XTlEZvGkBl1Sw/jD4UQEkzgDEHhR5ATpCPGGitG0Ch9IWQ8wwfQGiITsKRoRhAppw0rxh5HUCqR6iG7iUaQL/WhDj/UhlARaPdFpzBGUAxcUE8ZkocQNNl27BAwBhAuhWATlqTHUD9EChWnrwZQHSeXTBLjhhAKsSGG67tGkBwh/ViAqAYQMpe9rhdYhpAoc1OX/8CGEDKf0EFmRAZQIm9AXqizBtABLMZEr21IEA/FJLt+CIbQCxoXxsfRx5AATIHUHJsHEB+J213/V4XQDupQS73oRZAJzW+c0uYGkDr4ctEEV4YQBicY24uQhtAmIYUFQc0HkCIuynOGesbQNkPPLRL7BpA5tVXXL43G0DzUFoGPOkZQM0K9nPLvRpAcvltWrnVGUBMPWb76w4YQJk7Uxj2qBhAp3D97i9yFkCD0nD6FdcZQLf/AB9HHR9AAAFr1a6dGkA0bbCEdh8ZQN6p8tCGaBlAJOWoVVRGG0Be6uoF1I4XQLIPOx728h1A0ietUIjaGkDzj7mQGUYWQHqJsUy/9BhAjK9Aa7PWGkDDzNSqsW4dQLhvgFyMrhlA8VvkBpLzGEAqVnpeC4EYQDtM0x4xrxpASpPlM79PH0BLzLhLEAEUQOfgS0G0sxhAHgFq13W/FkC1QvYZziEcQCHjYw2dUBhAJcaVJ87ZHEBHNEwwRlIiQFHIF7KPfxxABJYn0xIEG0Ce4upg+oUcQHPbVmSIQhxA/BrhnvsBGEBYzxFFvQIaQB4KsNnbCx1AEq0Stf96F0CLxgoZ8A8ZQCtejTUhWhpArH8VgkrEGkAlWmTOQiUZQO8UcKRz8RdA5OZZ67nSG0DGLeEuzZcWQKUYoVEaqxxAMXBan1tIGUAs+STs5fEbQEloOFZDkRlAKzUTvaC+GUCckhaoceUYQPU/ejyNbRpAFV6gqXmoGUCR/A9Q5EYWQIoICZXb9RtAM78/SpHvF0A9RwqDN2AaQIeMcinh1xZA2UEqZx3pH0CXuETkqmAbQGcipCLZqxlAV/BX2D7iGEA22nR7fiscQEloWWQsMBhA0yzdGJM+HkA4MhrvStseQMUB+bS4WB5Avpg1yl0gGEC391+dGVEbQOergTm8lhZAqP98wNv8F0BuwYdPkMsZQJNytR1svh5AV7vSpKfCIECKrVmU/aQYQCW3YIggmxpATOnE3r6gHkAIJmIKCXAbQAsJOWvHVRtAza7yObQeG0BntGJzZgUTQB+AqabxjRlAzdNClPJMGEC3nlvHPE8XQKlxqSlNVRdAHig+3q4IG0ASqErQadgaQHbsI5QX7RZAdtOY1sdLGUDPXYK7AiccQFqvvMC57htA6xKHzJILGEB598N5f6IYQJBMh07PExtA6bjTAwoqGEC1mI7vQdAYQJKX6SJ7RBVAA8C4IbQQGkCRm8D4kjUYQBIirtZoOR5AX5X3sJicGUBN7SanX6oaQJdT8zbluRdAeo2s6E4nF0CQPQvalegYQGmHum2xmRhA6YwtpscMGEB5/IPtzCkaQO1gmb6kexZA/rMo5DGmG0DFWPLtZ3kZQJw1zl9O3hlArvMteysbG0Bsw7lqxPYaQJiZ8lHhQhpAVv8sBcDqHUD+6FzQyTwWQA9mLP34bx5Acydum/1LGECeSfGqNN8YQCfq4dhuCRtAC/0CMFTEHECGlNn/hKkXQJ23ViAffxtAh73Fze2ZGUAVyVcCKfcWQK94AS58kBpA6h3yvyqtEkCzdLlMQ9AWQATkuEQPySJAvQ4CFuylG0AA46feCxkaQIS87hJ0Rh1Ab6zVaINrGkADfl/sVcMYQN2b7lv+1CJAI5VhkH8wGkDXtKvAKzAaQEOkJd02ThdAM2IggZ98F0BeIcwdmOwYQLAoQ1oF2RdARgEh4LAzGUADqDrIEUcXQKhNMvhPlxpAMgFXYx1JFkAmD2clfZkZQJ32EGRvvRZAwMFYi8F2GUDGAJOYw6kWQCc9KgOpTB1Aa0EGKpdbG0AGiVyMW8wgQN6A24LBpRpAB4eLmrc/FkCe//bzqPEdQIcbPIinUxpAjJiQEXtNG0DFL8QDLXUXQLGj+pk9khZA+L2r8Pd7H0AyoQVFTK0WQIfRnIqOrRZAC732s/UXGUAXYZxVJc0aQIN+Efq69hpAeF8HYX2kF0A6Dqp3MmAZQI/wW0zq9BZAVDYUjaFHHUDjnulQRjUYQNjC/nuIrxZAoe0u1ot3F0BYMjwAJgAaQG6g3JAoeR1Az1/eny8aGUCVCtSpxfYcQHbVxIHeSxdAL9DKyurYGEDPIILN4G8WQMekHwrvdxZAySQWPV+dGUAbygz4VXccQAnddrhV6B9AjG+SYFauG0BX9zeEBBgXQC26lykdpBhAwgi+wrKsHUCvDbdx+xUWQFg4KOXebRhAfStb6YqpF0A4TySBzpQXQDQf89u5LxxAeK5fGP+YGEA0m1BTjjcbQIttQO6crhhAraQD/JRpGUDRgcu0FBwdQNFM5g5RBRtAVNc8b6ypHEDA6tIDQoghQErndyW/6RxA8TMmq7+9HEDxB32V7uUYQKYizO9fsxxAN80z3YhAHECN16rH94sWQMtj2vIi4xdAZwJNnaqvFkASXWELi9MXQHPFBLb84hZADoE/1jU1FkA4vqWFk5wYQJNLuJcB8RhAcpphSvSTFkDmx3b2Sf0SQCpOOU8KYxpAv/VKIdxHFEBhsv3TKTsTQOKay6WiZxRAYdzYr+VwGkDJGCyQMdUYQBjxQt+CMRdA7mdVpPINGkDaHXMaeacZQEYbSmRUthhApVzao0kjG0AlVbWGTZoYQLeKD/0krhZAXMJBRUxAFkDvCoRqce4XQKlZmGzZvxtAbt9FjXlFH0BYt/3PuowZQMU4wS/c5hlAlzlv+c5xGUCYFKPXNAccQA=="
         },
         "type": "box",
         "xaxis": "x14",
         "yaxis": "y14"
        },
        {
         "bingroup": "x",
         "hovertemplate": "rainfall=%{x}<br>count=%{y}<extra></extra>",
         "legendgroup": "",
         "marker": {
          "color": "#636efa",
          "pattern": {
           "shape": ""
          }
         },
         "name": "",
         "orientation": "v",
         "showlegend": false,
         "x": {
          "dtype": "f8",
          "bdata": "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"
         },
         "xaxis": "x11",
         "yaxis": "y11",
         "type": "histogram"
        },
        {
         "marker": {
          "color": "green"
         },
         "name": "Rainfall box",
         "x": {
          "dtype": "f8",
          "bdata": "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"
         },
         "type": "box",
         "xaxis": "x15",
         "yaxis": "y15"
        }
       ],
       "layout": {
        "template": {
         "data": {
          "histogram2dcontour": [
           {
            "type": "histogram2dcontour",
            "colorbar": {
             "outlinewidth": 0,
             "ticks": ""
            },
            "colorscale": [
             [
              0.0,
              "#0d0887"
             ],
             [
              0.1111111111111111,
              "#46039f"
             ],
             [
              0.2222222222222222,
              "#7201a8"
             ],
             [
              0.3333333333333333,
              "#9c179e"
             ],
             [
              0.4444444444444444,
              "#bd3786"
             ],
             [
              0.5555555555555556,
              "#d8576b"
             ],
             [
              0.6666666666666666,
              "#ed7953"
             ],
             [
              0.7777777777777778,
              "#fb9f3a"
             ],
             [
              0.8888888888888888,
              "#fdca26"
             ],
             [
              1.0,
              "#f0f921"
             ]
            ]
           }
          ],
          "choropleth": [
           {
            "type": "choropleth",
            "colorbar": {
             "outlinewidth": 0,
             "ticks": ""
            }
           }
          ],
          "histogram2d": [
           {
            "type": "histogram2d",
            "colorbar": {
             "outlinewidth": 0,
             "ticks": ""
            },
            "colorscale": [
             [
              0.0,
              "#0d0887"
             ],
             [
              0.1111111111111111,
              "#46039f"
             ],
             [
              0.2222222222222222,
              "#7201a8"
             ],
             [
              0.3333333333333333,
              "#9c179e"
             ],
             [
              0.4444444444444444,
              "#bd3786"
             ],
             [
              0.5555555555555556,
              "#d8576b"
             ],
             [
              0.6666666666666666,
              "#ed7953"
             ],
             [
              0.7777777777777778,
              "#fb9f3a"
             ],
             [
              0.8888888888888888,
              "#fdca26"
             ],
             [
              1.0,
              "#f0f921"
             ]
            ]
           }
          ],
          "heatmap": [
           {
            "type": "heatmap",
            "colorbar": {
             "outlinewidth": 0,
             "ticks": ""
            },
            "colorscale": [
             [
              0.0,
              "#0d0887"
             ],
             [
              0.1111111111111111,
              "#46039f"
             ],
             [
              0.2222222222222222,
              "#7201a8"
             ],
             [
              0.3333333333333333,
              "#9c179e"
             ],
             [
              0.4444444444444444,
              "#bd3786"
             ],
             [
              0.5555555555555556,
              "#d8576b"
             ],
             [
              0.6666666666666666,
              "#ed7953"
             ],
             [
              0.7777777777777778,
              "#fb9f3a"
             ],
             [
              0.8888888888888888,
              "#fdca26"
             ],
             [
              1.0,
              "#f0f921"
             ]
            ]
           }
          ],
          "contourcarpet": [
           {
            "type": "contourcarpet",
            "colorbar": {
             "outlinewidth": 0,
             "ticks": ""
            }
           }
          ],
          "contour": [
           {
            "type": "contour",
            "colorbar": {
             "outlinewidth": 0,
             "ticks": ""
            },
            "colorscale": [
             [
              0.0,
              "#0d0887"
             ],
             [
              0.1111111111111111,
              "#46039f"
             ],
             [
              0.2222222222222222,
              "#7201a8"
             ],
             [
              0.3333333333333333,
              "#9c179e"
             ],
             [
              0.4444444444444444,
              "#bd3786"
             ],
             [
              0.5555555555555556,
              "#d8576b"
             ],
             [
              0.6666666666666666,
              "#ed7953"
             ],
             [
              0.7777777777777778,
              "#fb9f3a"
             ],
             [
              0.8888888888888888,
              "#fdca26"
             ],
             [
              1.0,
              "#f0f921"
             ]
            ]
           }
          ],
          "surface": [
           {
            "type": "surface",
            "colorbar": {
             "outlinewidth": 0,
             "ticks": ""
            },
            "colorscale": [
             [
              0.0,
              "#0d0887"
             ],
             [
              0.1111111111111111,
              "#46039f"
             ],
             [
              0.2222222222222222,
              "#7201a8"
             ],
             [
              0.3333333333333333,
              "#9c179e"
             ],
             [
              0.4444444444444444,
              "#bd3786"
             ],
             [
              0.5555555555555556,
              "#d8576b"
             ],
             [
              0.6666666666666666,
              "#ed7953"
             ],
             [
              0.7777777777777778,
              "#fb9f3a"
             ],
             [
              0.8888888888888888,
              "#fdca26"
             ],
             [
              1.0,
              "#f0f921"
             ]
            ]
           }
          ],
          "mesh3d": [
           {
            "type": "mesh3d",
            "colorbar": {
             "outlinewidth": 0,
             "ticks": ""
            }
           }
          ],
          "scatter": [
           {
            "marker": {
             "line": {
              "color": "#283442"
             }
            },
            "type": "scatter"
           }
          ],
          "parcoords": [
           {
            "type": "parcoords",
            "line": {
             "colorbar": {
              "outlinewidth": 0,
              "ticks": ""
             }
            }
           }
          ],
          "scatterpolargl": [
           {
            "type": "scatterpolargl",
            "marker": {
             "colorbar": {
              "outlinewidth": 0,
              "ticks": ""
             }
            }
           }
          ],
          "bar": [
           {
            "error_x": {
             "color": "#f2f5fa"
            },
            "error_y": {
             "color": "#f2f5fa"
            },
            "marker": {
             "line": {
              "color": "rgb(17,17,17)",
              "width": 0.5
             },
             "pattern": {
              "fillmode": "overlay",
              "size": 10,
              "solidity": 0.2
             }
            },
            "type": "bar"
           }
          ],
          "scattergeo": [
           {
            "type": "scattergeo",
            "marker": {
             "colorbar": {
              "outlinewidth": 0,
              "ticks": ""
             }
            }
           }
          ],
          "scatterpolar": [
           {
            "type": "scatterpolar",
            "marker": {
             "colorbar": {
              "outlinewidth": 0,
              "ticks": ""
             }
            }
           }
          ],
          "histogram": [
           {
            "marker": {
             "pattern": {
              "fillmode": "overlay",
              "size": 10,
              "solidity": 0.2
             }
            },
            "type": "histogram"
           }
          ],
          "scattergl": [
           {
            "marker": {
             "line": {
              "color": "#283442"
             }
            },
            "type": "scattergl"
           }
          ],
          "scatter3d": [
           {
            "type": "scatter3d",
            "line": {
             "colorbar": {
              "outlinewidth": 0,
              "ticks": ""
             }
            },
            "marker": {
             "colorbar": {
              "outlinewidth": 0,
              "ticks": ""
             }
            }
           }
          ],
          "scattermap": [
           {
            "type": "scattermap",
            "marker": {
             "colorbar": {
              "outlinewidth": 0,
              "ticks": ""
             }
            }
           }
          ],
          "scattermapbox": [
           {
            "type": "scattermapbox",
            "marker": {
             "colorbar": {
              "outlinewidth": 0,
              "ticks": ""
             }
            }
           }
          ],
          "scatterternary": [
           {
            "type": "scatterternary",
            "marker": {
             "colorbar": {
              "outlinewidth": 0,
              "ticks": ""
             }
            }
           }
          ],
          "scattercarpet": [
           {
            "type": "scattercarpet",
            "marker": {
             "colorbar": {
              "outlinewidth": 0,
              "ticks": ""
             }
            }
           }
          ],
          "carpet": [
           {
            "aaxis": {
             "endlinecolor": "#A2B1C6",
             "gridcolor": "#506784",
             "linecolor": "#506784",
             "minorgridcolor": "#506784",
             "startlinecolor": "#A2B1C6"
            },
            "baxis": {
             "endlinecolor": "#A2B1C6",
             "gridcolor": "#506784",
             "linecolor": "#506784",
             "minorgridcolor": "#506784",
             "startlinecolor": "#A2B1C6"
            },
            "type": "carpet"
           }
          ],
          "table": [
           {
            "cells": {
             "fill": {
              "color": "#506784"
             },
             "line": {
              "color": "rgb(17,17,17)"
             }
            },
            "header": {
             "fill": {
              "color": "#2a3f5f"
             },
             "line": {
              "color": "rgb(17,17,17)"
             }
            },
            "type": "table"
           }
          ],
          "barpolar": [
           {
            "marker": {
             "line": {
              "color": "rgb(17,17,17)",
              "width": 0.5
             },
             "pattern": {
              "fillmode": "overlay",
              "size": 10,
              "solidity": 0.2
             }
            },
            "type": "barpolar"
           }
          ],
          "pie": [
           {
            "automargin": true,
            "type": "pie"
           }
          ]
         },
         "layout": {
          "autotypenumbers": "strict",
          "colorway": [
           "#636efa",
           "#EF553B",
           "#00cc96",
           "#ab63fa",
           "#FFA15A",
           "#19d3f3",
           "#FF6692",
           "#B6E880",
           "#FF97FF",
           "#FECB52"
          ],
          "font": {
           "color": "#f2f5fa"
          },
          "hovermode": "closest",
          "hoverlabel": {
           "align": "left"
          },
          "paper_bgcolor": "rgb(17,17,17)",
          "plot_bgcolor": "rgb(17,17,17)",
          "polar": {
           "bgcolor": "rgb(17,17,17)",
           "angularaxis": {
            "gridcolor": "#506784",
            "linecolor": "#506784",
            "ticks": ""
           },
           "radialaxis": {
            "gridcolor": "#506784",
            "linecolor": "#506784",
            "ticks": ""
           }
          },
          "ternary": {
           "bgcolor": "rgb(17,17,17)",
           "aaxis": {
            "gridcolor": "#506784",
            "linecolor": "#506784",
            "ticks": ""
           },
           "baxis": {
            "gridcolor": "#506784",
            "linecolor": "#506784",
            "ticks": ""
           },
           "caxis": {
            "gridcolor": "#506784",
            "linecolor": "#506784",
            "ticks": ""
           }
          },
          "coloraxis": {
           "colorbar": {
            "outlinewidth": 0,
            "ticks": ""
           }
          },
          "colorscale": {
           "sequential": [
            [
             0.0,
             "#0d0887"
            ],
            [
             0.1111111111111111,
             "#46039f"
            ],
            [
             0.2222222222222222,
             "#7201a8"
            ],
            [
             0.3333333333333333,
             "#9c179e"
            ],
            [
             0.4444444444444444,
             "#bd3786"
            ],
            [
             0.5555555555555556,
             "#d8576b"
            ],
            [
             0.6666666666666666,
             "#ed7953"
            ],
            [
             0.7777777777777778,
             "#fb9f3a"
            ],
            [
             0.8888888888888888,
             "#fdca26"
            ],
            [
             1.0,
             "#f0f921"
            ]
           ],
           "sequentialminus": [
            [
             0.0,
             "#0d0887"
            ],
            [
             0.1111111111111111,
             "#46039f"
            ],
            [
             0.2222222222222222,
             "#7201a8"
            ],
            [
             0.3333333333333333,
             "#9c179e"
            ],
            [
             0.4444444444444444,
             "#bd3786"
            ],
            [
             0.5555555555555556,
             "#d8576b"
            ],
            [
             0.6666666666666666,
             "#ed7953"
            ],
            [
             0.7777777777777778,
             "#fb9f3a"
            ],
            [
             0.8888888888888888,
             "#fdca26"
            ],
            [
             1.0,
             "#f0f921"
            ]
           ],
           "diverging": [
            [
             0,
             "#8e0152"
            ],
            [
             0.1,
             "#c51b7d"
            ],
            [
             0.2,
             "#de77ae"
            ],
            [
             0.3,
             "#f1b6da"
            ],
            [
             0.4,
             "#fde0ef"
            ],
            [
             0.5,
             "#f7f7f7"
            ],
            [
             0.6,
             "#e6f5d0"
            ],
            [
             0.7,
             "#b8e186"
            ],
            [
             0.8,
             "#7fbc41"
            ],
            [
             0.9,
             "#4d9221"
            ],
            [
             1,
             "#276419"
            ]
           ]
          },
          "xaxis": {
           "gridcolor": "#283442",
           "linecolor": "#506784",
           "ticks": "",
           "title": {
            "standoff": 15
           },
           "zerolinecolor": "#283442",
           "automargin": true,
           "zerolinewidth": 2
          },
          "yaxis": {
           "gridcolor": "#283442",
           "linecolor": "#506784",
           "ticks": "",
           "title": {
            "standoff": 15
           },
           "zerolinecolor": "#283442",
           "automargin": true,
           "zerolinewidth": 2
          },
          "scene": {
           "xaxis": {
            "backgroundcolor": "rgb(17,17,17)",
            "gridcolor": "#506784",
            "linecolor": "#506784",
            "showbackground": true,
            "ticks": "",
            "zerolinecolor": "#C8D4E3",
            "gridwidth": 2
           },
           "yaxis": {
            "backgroundcolor": "rgb(17,17,17)",
            "gridcolor": "#506784",
            "linecolor": "#506784",
            "showbackground": true,
            "ticks": "",
            "zerolinecolor": "#C8D4E3",
            "gridwidth": 2
           },
           "zaxis": {
            "backgroundcolor": "rgb(17,17,17)",
            "gridcolor": "#506784",
            "linecolor": "#506784",
            "showbackground": true,
            "ticks": "",
            "zerolinecolor": "#C8D4E3",
            "gridwidth": 2
           }
          },
          "shapedefaults": {
           "line": {
            "color": "#f2f5fa"
           }
          },
          "annotationdefaults": {
           "arrowcolor": "#f2f5fa",
           "arrowhead": 0,
           "arrowwidth": 1
          },
          "geo": {
           "bgcolor": "rgb(17,17,17)",
           "landcolor": "rgb(17,17,17)",
           "subunitcolor": "#506784",
           "showland": true,
           "showlakes": true,
           "lakecolor": "rgb(17,17,17)"
          },
          "title": {
           "x": 0.05
          },
          "updatemenudefaults": {
           "bgcolor": "#506784",
           "borderwidth": 0
          },
          "sliderdefaults": {
           "bgcolor": "#C8D4E3",
           "borderwidth": 1,
           "bordercolor": "rgb(17,17,17)",
           "tickwidth": 0
          },
          "mapbox": {
           "style": "dark"
          }
         }
        },
        "xaxis": {
         "anchor": "y",
         "domain": [
          0.0,
          0.2125
         ]
        },
        "yaxis": {
         "anchor": "x",
         "domain": [
          0.84375,
          1.0
         ]
        },
        "xaxis2": {
         "anchor": "y2",
         "domain": [
          0.2625,
          0.475
         ]
        },
        "yaxis2": {
         "anchor": "x2",
         "domain": [
          0.84375,
          1.0
         ]
        },
        "xaxis3": {
         "anchor": "y3",
         "domain": [
          0.525,
          0.7375
         ]
        },
        "yaxis3": {
         "anchor": "x3",
         "domain": [
          0.84375,
          1.0
         ]
        },
        "xaxis4": {
         "anchor": "y4",
         "domain": [
          0.7875,
          1.0
         ]
        },
        "yaxis4": {
         "anchor": "x4",
         "domain": [
          0.84375,
          1.0
         ]
        },
        "xaxis5": {
         "anchor": "y5",
         "domain": [
          0.0,
          0.2125
         ]
        },
        "yaxis5": {
         "anchor": "x5",
         "domain": [
          0.5625,
          0.71875
         ]
        },
        "xaxis6": {
         "anchor": "y6",
         "domain": [
          0.2625,
          0.475
         ]
        },
        "yaxis6": {
         "anchor": "x6",
         "domain": [
          0.5625,
          0.71875
         ]
        },
        "xaxis7": {
         "anchor": "y7",
         "domain": [
          0.525,
          0.7375
         ]
        },
        "yaxis7": {
         "anchor": "x7",
         "domain": [
          0.5625,
          0.71875
         ]
        },
        "xaxis8": {
         "anchor": "y8",
         "domain": [
          0.7875,
          1.0
         ]
        },
        "yaxis8": {
         "anchor": "x8",
         "domain": [
          0.5625,
          0.71875
         ]
        },
        "xaxis9": {
         "anchor": "y9",
         "domain": [
          0.0,
          0.2125
         ]
        },
        "yaxis9": {
         "anchor": "x9",
         "domain": [
          0.28125,
          0.4375
         ]
        },
        "xaxis10": {
         "anchor": "y10",
         "domain": [
          0.2625,
          0.475
         ]
        },
        "yaxis10": {
         "anchor": "x10",
         "domain": [
          0.28125,
          0.4375
         ]
        },
        "xaxis11": {
         "anchor": "y11",
         "domain": [
          0.525,
          0.7375
         ]
        },
        "yaxis11": {
         "anchor": "x11",
         "domain": [
          0.28125,
          0.4375
         ]
        },
        "xaxis12": {
         "anchor": "y12",
         "domain": [
          0.7875,
          1.0
         ]
        },
        "yaxis12": {
         "anchor": "x12",
         "domain": [
          0.28125,
          0.4375
         ]
        },
        "xaxis13": {
         "anchor": "y13",
         "domain": [
          0.0,
          0.2125
         ]
        },
        "yaxis13": {
         "anchor": "x13",
         "domain": [
          0.0,
          0.15625
         ]
        },
        "xaxis14": {
         "anchor": "y14",
         "domain": [
          0.2625,
          0.475
         ]
        },
        "yaxis14": {
         "anchor": "x14",
         "domain": [
          0.0,
          0.15625
         ]
        },
        "xaxis15": {
         "anchor": "y15",
         "domain": [
          0.525,
          0.7375
         ]
        },
        "yaxis15": {
         "anchor": "x15",
         "domain": [
          0.0,
          0.15625
         ]
        },
        "xaxis16": {
         "anchor": "y16",
         "domain": [
          0.7875,
          1.0
         ]
        },
        "yaxis16": {
         "anchor": "x16",
         "domain": [
          0.0,
          0.15625
         ]
        },
        "annotations": [
         {
          "font": {
           "size": 16
          },
          "showarrow": false,
          "text": "N histogram",
          "x": 0.10625,
          "xanchor": "center",
          "xref": "paper",
          "y": 1.0,
          "yanchor": "bottom",
          "yref": "paper"
         },
         {
          "font": {
           "size": 16
          },
          "showarrow": false,
          "text": "P histogram",
          "x": 0.36875,
          "xanchor": "center",
          "xref": "paper",
          "y": 1.0,
          "yanchor": "bottom",
          "yref": "paper"
         },
         {
          "font": {
           "size": 16
          },
          "showarrow": false,
          "text": "K histogram",
          "x": 0.6312500000000001,
          "xanchor": "center",
          "xref": "paper",
          "y": 1.0,
          "yanchor": "bottom",
          "yref": "paper"
         },
         {
          "font": {
           "size": 16
          },
          "showarrow": false,
          "text": "Temperature histogram",
          "x": 0.89375,
          "xanchor": "center",
          "xref": "paper",
          "y": 1.0,
          "yanchor": "bottom",
          "yref": "paper"
         },
         {
          "font": {
           "size": 16
          },
          "showarrow": false,
          "text": "N box",
          "x": 0.10625,
          "xanchor": "center",
          "xref": "paper",
          "y": 0.71875,
          "yanchor": "bottom",
          "yref": "paper"
         },
         {
          "font": {
           "size": 16
          },
          "showarrow": false,
          "text": "P box",
          "x": 0.36875,
          "xanchor": "center",
          "xref": "paper",
          "y": 0.71875,
          "yanchor": "bottom",
          "yref": "paper"
         },
         {
          "font": {
           "size": 16
          },
          "showarrow": false,
          "text": "K box",
          "x": 0.6312500000000001,
          "xanchor": "center",
          "xref": "paper",
          "y": 0.71875,
          "yanchor": "bottom",
          "yref": "paper"
         },
         {
          "font": {
           "size": 16
          },
          "showarrow": false,
          "text": "Temperature box",
          "x": 0.89375,
          "xanchor": "center",
          "xref": "paper",
          "y": 0.71875,
          "yanchor": "bottom",
          "yref": "paper"
         },
         {
          "font": {
           "size": 16
          },
          "showarrow": false,
          "text": "Humidity histogram",
          "x": 0.10625,
          "xanchor": "center",
          "xref": "paper",
          "y": 0.4375,
          "yanchor": "bottom",
          "yref": "paper"
         },
         {
          "font": {
           "size": 16
          },
          "showarrow": false,
          "text": "Ph histogram",
          "x": 0.36875,
          "xanchor": "center",
          "xref": "paper",
          "y": 0.4375,
          "yanchor": "bottom",
          "yref": "paper"
         },
         {
          "font": {
           "size": 16
          },
          "showarrow": false,
          "text": "Rainfall histogram",
          "x": 0.6312500000000001,
          "xanchor": "center",
          "xref": "paper",
          "y": 0.4375,
          "yanchor": "bottom",
          "yref": "paper"
         },
         {
          "font": {
           "size": 16
          },
          "showarrow": false,
          "text": "Humidity box",
          "x": 0.10625,
          "xanchor": "center",
          "xref": "paper",
          "y": 0.15625,
          "yanchor": "bottom",
          "yref": "paper"
         },
         {
          "font": {
           "size": 16
          },
          "showarrow": false,
          "text": "Ph box",
          "x": 0.36875,
          "xanchor": "center",
          "xref": "paper",
          "y": 0.15625,
          "yanchor": "bottom",
          "yref": "paper"
         },
         {
          "font": {
           "size": 16
          },
          "showarrow": false,
          "text": "Rainfall box",
          "x": 0.6312500000000001,
          "xanchor": "center",
          "xref": "paper",
          "y": 0.15625,
          "yanchor": "bottom",
          "yref": "paper"
         }
        ],
        "title": {
         "text": "Features analysis"
        },
        "height": 1000,
        "width": 1400
       },
       "config": {
        "plotlyServerURL": "https://plot.ly"
       }
      }
     },
     "metadata": {},
     "output_type": "display_data"
    }
   ],
   "execution_count": 9
  },
  {
   "metadata": {
    "ExecuteTime": {
     "end_time": "2025-05-30T01:46:35.181386Z",
     "start_time": "2025-05-30T01:46:34.071149Z"
    }
   },
   "cell_type": "code",
   "source": [
    "import seaborn as sns\n",
    "import matplotlib.pyplot as plt\n",
    "\n",
    "\n",
    "_, axis = plt.subplots(4, 4, figsize=(20, 10), gridspec_kw={'height_ratios': [6, 1, 6, 1]})\n",
    "\n",
    "\"\"\"\n",
    "Create histograms and box-plots for each numerical feature.\n",
    "\"\"\"\n",
    "\n",
    "# creating a multiple figure with histograms and box plots\n",
    "# first row\n",
    "# \t col\n",
    "sns.histplot(ax=axis[0, 0], data=data, x=\"N\").set(xlabel=None)\n",
    "sns.boxplot(ax=axis[1, 0], data=data, x=\"N\")\n",
    "# \tsecond col\n",
    "sns.histplot(ax=axis[0, 1], data=data, x=\"P\").set(xlabel=None, ylabel=None)\n",
    "sns.boxplot(ax=axis[1, 1], data=data, x=\"P\")\n",
    "# \tthird col\n",
    "sns.histplot(ax=axis[0, 2], data=data, x=\"K\").set(xlabel=None, ylabel=None)\n",
    "sns.boxplot(ax=axis[1, 2], data=data, x=\"K\")\n",
    "# \tforth col\n",
    "sns.histplot(ax=axis[0, 3], data=data, x=\"temperature\").set(xlabel=None, ylabel=None)\n",
    "sns.boxplot(ax=axis[1, 3], data=data, x=\"temperature\")\n",
    "\n",
    "# second row\n",
    "# \t col\n",
    "sns.histplot(ax=axis[2, 0], data=data, x=\"humidity\").set(xlabel=None)\n",
    "sns.boxplot(ax=axis[3, 0], data=data, x=\"humidity\")\n",
    "# \tsecond col\n",
    "sns.histplot(ax=axis[2, 1], data=data, x=\"ph\").set(xlabel=None, ylabel=None)\n",
    "sns.boxplot(ax=axis[3, 1], data=data, x=\"ph\")\n",
    "# \tthird col\n",
    "sns.histplot(ax=axis[2, 2], data=data, x=\"rainfall\").set(xlabel=None, ylabel=None)\n",
    "sns.boxplot(ax=axis[3, 2], data=data, x=\"rainfall\")\n",
    "\n",
    "\n",
    "# adjust the layout\n",
    "plt.tight_layout()\n",
    "\n",
    "# show the plot\n",
    "plt.show()"
   ],
   "id": "2681db6eb5956eb1",
   "outputs": [
    {
     "data": {
      "text/plain": [
       "<Figure size 2000x1000 with 16 Axes>"
      ],
      "image/png": "[encoded data removed]"
     },
     "metadata": {},
     "output_type": "display_data"
    }
   ],
   "execution_count": 10
  },
  {
   "metadata": {},
   "cell_type": "markdown",
   "source": "We can see that the temperature and the ph follows a normal distributions, with some outliers at the bottom and top end. While the others follows another type of distributions. We can see that the feature K is the one with the most marked outliers. We are going to use a standard scaler for treating the outliers in the features.",
   "id": "7afe8b0ecf50ddf"
  },
  {
   "metadata": {},
   "cell_type": "markdown",
   "source": "## Scaling the data",
   "id": "9ec8c3a99f3f481c"
  },
  {
   "metadata": {},
   "cell_type": "markdown",
   "source": "Now we scale the features",
   "id": "a835f3e8f688014b"
  },
  {
   "metadata": {
    "ExecuteTime": {
     "end_time": "2025-05-30T01:46:35.225450Z",
     "start_time": "2025-05-30T01:46:35.219858Z"
    }
   },
   "cell_type": "code",
   "source": [
    "from sklearn.preprocessing import StandardScaler\n",
    "\n",
    "# create the scaler\n",
    "scaler = StandardScaler()\n",
    "\n",
    "# fit the scaler and transform the train adn test data\n",
    "X_train_scaled = scaler.fit_transform(X_train)\n",
    "X_test_scaled = scaler.transform(X_test)"
   ],
   "id": "e8f03d07e61315d3",
   "outputs": [],
   "execution_count": 11
  },
  {
   "metadata": {},
   "cell_type": "markdown",
   "source": "## Encoding the target feature",
   "id": "dd1ed0d77d563d62"
  },
  {
   "metadata": {},
   "cell_type": "markdown",
   "source": "Encode the target feature to be a numerical label, for this we are going to use the sklearn label encoder.",
   "id": "5167519f88cdeb22"
  },
  {
   "metadata": {
    "ExecuteTime": {
     "end_time": "2025-05-30T01:46:35.276273Z",
     "start_time": "2025-05-30T01:46:35.272653Z"
    }
   },
   "cell_type": "code",
   "source": [
    "from sklearn.preprocessing import LabelEncoder\n",
    "\n",
    "\n",
    "# initialize the label encoder\n",
    "le = LabelEncoder()\n",
    "\n",
    "# adjust and transform the training and test targets\n",
    "y_train_encoded = le.fit_transform(y_train)\n",
    "y_test_encoded = le.fit_transform(y_test)"
   ],
   "id": "f59b63d50c68b54b",
   "outputs": [],
   "execution_count": 12
  },
  {
   "metadata": {},
   "cell_type": "markdown",
   "source": "Saving the feature scaler and the target encoder",
   "id": "b82ad218b0b8ca63"
  },
  {
   "metadata": {
    "ExecuteTime": {
     "end_time": "2025-05-30T01:46:35.328124Z",
     "start_time": "2025-05-30T01:46:35.323358Z"
    }
   },
   "cell_type": "code",
   "source": [
    "import joblib\n",
    "\n",
    "# save the models as pickle files\n",
    "joblib.dump(scaler, '../models/scaler.pkl')\n",
    "joblib.dump(le, '../models/encoder.pkl')"
   ],
   "id": "4e408fd6e3f442ef",
   "outputs": [
    {
     "data": {
      "text/plain": [
       "['../models/encoder.pkl']"
      ]
     },
     "execution_count": 13,
     "metadata": {},
     "output_type": "execute_result"
    }
   ],
   "execution_count": 13
  },
  {
   "metadata": {},
   "cell_type": "markdown",
   "source": "# Creating the logistic regression model",
   "id": "8ec694db4b215e4c"
  },
  {
   "metadata": {},
   "cell_type": "markdown",
   "source": "We can rewrite everything as pipeline, we can put the scaler inside the pipeline. In this wa we ensure that we are not doing data leakage and we can save everything together in just one model.",
   "id": "a65160fb11708603"
  },
  {
   "metadata": {
    "ExecuteTime": {
     "end_time": "2025-05-30T01:46:35.594749Z",
     "start_time": "2025-05-30T01:46:35.382632Z"
    }
   },
   "cell_type": "code",
   "source": [
    "from sklearn.pipeline import Pipeline\n",
    "from sklearn.linear_model import LogisticRegression\n",
    "\n",
    "\n",
    "# create the pipeline, with a standard scaler from zero\n",
    "pipeline = Pipeline([\n",
    "    ('scaler', StandardScaler()),\n",
    "    ('classifier', LogisticRegression(max_iter=1000))\n",
    "])"
   ],
   "id": "68078d37f691dad1",
   "outputs": [],
   "execution_count": 14
  },
  {
   "metadata": {
    "ExecuteTime": {
     "end_time": "2025-05-30T01:46:35.639052Z",
     "start_time": "2025-05-30T01:46:35.635470Z"
    }
   },
   "cell_type": "code",
   "source": [
    "from sklearn.model_selection import GridSearchCV\n",
    "\n",
    "\n",
    "# C values to test\n",
    "C_values = [0.01, 0.1, 1, 10, 100]\n",
    "\n",
    "# param grid\n",
    "param_grid = [\n",
    "    # 'lbfgs', 'newton-cg', 'sag' solvers\n",
    "    # these solvers support 'l2' and None (without) regularization\n",
    "    {\n",
    "        'classifier__solver': ['lbfgs', 'newton-cg', 'sag'],\n",
    "        'classifier__penalty': ['l2', None],\n",
    "        'classifier__C': C_values,\n",
    "    },\n",
    "    # 'saga' solver\n",
    "    # this solver support 'l1', 'l2', 'elasticnet' and None (without) regularization\n",
    "    {\n",
    "        'classifier__solver': ['saga'],\n",
    "        'classifier__penalty': ['l1', 'l2', None],\n",
    "        'classifier__C': C_values,\n",
    "    },\n",
    "    {\n",
    "        'classifier__solver': ['saga'],\n",
    "        'classifier__penalty': ['elasticnet'],\n",
    "        'classifier__C': C_values,\n",
    "        # set 'l1-ratio' on this solver, because of the penalty used\n",
    "        'classifier__l1_ratio': [0.2, 0.5, 0.8],\n",
    "    }\n",
    "]\n",
    "\n",
    "# grid search\n",
    "grid_search = GridSearchCV(\n",
    "    estimator=pipeline,\n",
    "    param_grid=param_grid,\n",
    "    cv=5,\n",
    "    scoring='accuracy',\n",
    ")"
   ],
   "id": "3380af31831f353e",
   "outputs": [],
   "execution_count": 15
  },
  {
   "metadata": {},
   "cell_type": "markdown",
   "source": [
    "Now fit the grid search to get the best model.\n",
    "\n",
    "**Important considerations**\n",
    "- **X_train**: should be the original data without being scale, that is going to be done by the scaler in the pipeline\n",
    "- **y_train**: should be the encoded one"
   ],
   "id": "fbc630505ef7881f"
  },
  {
   "metadata": {
    "ExecuteTime": {
     "end_time": "2025-05-30T01:49:14.059164Z",
     "start_time": "2025-05-30T01:47:04.355469Z"
    }
   },
   "cell_type": "code",
   "source": [
    "# fit the grid\n",
    "grid_search.fit(X_train, y_train_encoded)"
   ],
   "id": "4dc1623e94498d5f",
   "outputs": [
    {
     "name": "stderr",
     "output_type": "stream",
     "text": [
      "F:\\Courses\\4GeeksAcademy\\DataScience\\DeliverableExercises\\alejandroNovellino-streamlit-fastapi\\.venv\\Lib\\site-packages\\sklearn\\linear_model\\_logistic.py:1207: UserWarning:\n",
      "\n",
      "Setting penalty=None will ignore the C and l1_ratio parameters\n",
      "\n",
      "F:\\Courses\\4GeeksAcademy\\DataScience\\DeliverableExercises\\alejandroNovellino-streamlit-fastapi\\.venv\\Lib\\site-packages\\sklearn\\linear_model\\_logistic.py:1207: UserWarning:\n",
      "\n",
      "Setting penalty=None will ignore the C and l1_ratio parameters\n",
      "\n",
      "F:\\Courses\\4GeeksAcademy\\DataScience\\DeliverableExercises\\alejandroNovellino-streamlit-fastapi\\.venv\\Lib\\site-packages\\sklearn\\linear_model\\_logistic.py:1207: UserWarning:\n",
      "\n",
      "Setting penalty=None will ignore the C and l1_ratio parameters\n",
      "\n",
      "F:\\Courses\\4GeeksAcademy\\DataScience\\DeliverableExercises\\alejandroNovellino-streamlit-fastapi\\.venv\\Lib\\site-packages\\sklearn\\linear_model\\_logistic.py:1207: UserWarning:\n",
      "\n",
      "Setting penalty=None will ignore the C and l1_ratio parameters\n",
      "\n",
      "F:\\Courses\\4GeeksAcademy\\DataScience\\DeliverableExercises\\alejandroNovellino-streamlit-fastapi\\.venv\\Lib\\site-packages\\sklearn\\linear_model\\_logistic.py:1207: UserWarning:\n",
      "\n",
      "Setting penalty=None will ignore the C and l1_ratio parameters\n",
      "\n",
      "F:\\Courses\\4GeeksAcademy\\DataScience\\DeliverableExercises\\alejandroNovellino-streamlit-fastapi\\.venv\\Lib\\site-packages\\sklearn\\linear_model\\_logistic.py:1207: UserWarning:\n",
      "\n",
      "Setting penalty=None will ignore the C and l1_ratio parameters\n",
      "\n",
      "F:\\Courses\\4GeeksAcademy\\DataScience\\DeliverableExercises\\alejandroNovellino-streamlit-fastapi\\.venv\\Lib\\site-packages\\sklearn\\linear_model\\_logistic.py:1207: UserWarning:\n",
      "\n",
      "Setting penalty=None will ignore the C and l1_ratio parameters\n",
      "\n",
      "F:\\Courses\\4GeeksAcademy\\DataScience\\DeliverableExercises\\alejandroNovellino-streamlit-fastapi\\.venv\\Lib\\site-packages\\sklearn\\linear_model\\_logistic.py:1207: UserWarning:\n",
      "\n",
      "Setting penalty=None will ignore the C and l1_ratio parameters\n",
      "\n",
      "F:\\Courses\\4GeeksAcademy\\DataScience\\DeliverableExercises\\alejandroNovellino-streamlit-fastapi\\.venv\\Lib\\site-packages\\sklearn\\linear_model\\_logistic.py:1207: UserWarning:\n",
      "\n",
      "Setting penalty=None will ignore the C and l1_ratio parameters\n",
      "\n",
      "F:\\Courses\\4GeeksAcademy\\DataScience\\DeliverableExercises\\alejandroNovellino-streamlit-fastapi\\.venv\\Lib\\site-packages\\sklearn\\linear_model\\_logistic.py:1207: UserWarning:\n",
      "\n",
      "Setting penalty=None will ignore the C and l1_ratio parameters\n",
      "\n",
      "F:\\Courses\\4GeeksAcademy\\DataScience\\DeliverableExercises\\alejandroNovellino-streamlit-fastapi\\.venv\\Lib\\site-packages\\sklearn\\linear_model\\_logistic.py:1207: UserWarning:\n",
      "\n",
      "Setting penalty=None will ignore the C and l1_ratio parameters\n",
      "\n",
      "F:\\Courses\\4GeeksAcademy\\DataScience\\DeliverableExercises\\alejandroNovellino-streamlit-fastapi\\.venv\\Lib\\site-packages\\sklearn\\linear_model\\_sag.py:348: ConvergenceWarning:\n",
      "\n",
      "The max_iter was reached which means the coef_ did not converge\n",
      "\n",
      "F:\\Courses\\4GeeksAcademy\\DataScience\\DeliverableExercises\\alejandroNovellino-streamlit-fastapi\\.venv\\Lib\\site-packages\\sklearn\\linear_model\\_logistic.py:1207: UserWarning:\n",
      "\n",
      "Setting penalty=None will ignore the C and l1_ratio parameters\n",
      "\n",
      "F:\\Courses\\4GeeksAcademy\\DataScience\\DeliverableExercises\\alejandroNovellino-streamlit-fastapi\\.venv\\Lib\\site-packages\\sklearn\\linear_model\\_sag.py:348: ConvergenceWarning:\n",
      "\n",
      "The max_iter was reached which means the coef_ did not converge\n",
      "\n",
      "F:\\Courses\\4GeeksAcademy\\DataScience\\DeliverableExercises\\alejandroNovellino-streamlit-fastapi\\.venv\\Lib\\site-packages\\sklearn\\linear_model\\_logistic.py:1207: UserWarning:\n",
      "\n",
      "Setting penalty=None will ignore the C and l1_ratio parameters\n",
      "\n",
      "F:\\Courses\\4GeeksAcademy\\DataScience\\DeliverableExercises\\alejandroNovellino-streamlit-fastapi\\.venv\\Lib\\site-packages\\sklearn\\linear_model\\_sag.py:348: ConvergenceWarning:\n",
      "\n",
      "The max_iter was reached which means the coef_ did not converge\n",
      "\n",
      "F:\\Courses\\4GeeksAcademy\\DataScience\\DeliverableExercises\\alejandroNovellino-streamlit-fastapi\\.venv\\Lib\\site-packages\\sklearn\\linear_model\\_logistic.py:1207: UserWarning:\n",
      "\n",
      "Setting penalty=None will ignore the C and l1_ratio parameters\n",
      "\n",
      "F:\\Courses\\4GeeksAcademy\\DataScience\\DeliverableExercises\\alejandroNovellino-streamlit-fastapi\\.venv\\Lib\\site-packages\\sklearn\\linear_model\\_sag.py:348: ConvergenceWarning:\n",
      "\n",
      "The max_iter was reached which means the coef_ did not converge\n",
      "\n",
      "F:\\Courses\\4GeeksAcademy\\DataScience\\DeliverableExercises\\alejandroNovellino-streamlit-fastapi\\.venv\\Lib\\site-packages\\sklearn\\linear_model\\_logistic.py:1207: UserWarning:\n",
      "\n",
      "Setting penalty=None will ignore the C and l1_ratio parameters\n",
      "\n",
      "F:\\Courses\\4GeeksAcademy\\DataScience\\DeliverableExercises\\alejandroNovellino-streamlit-fastapi\\.venv\\Lib\\site-packages\\sklearn\\linear_model\\_sag.py:348: ConvergenceWarning:\n",
      "\n",
      "The max_iter was reached which means the coef_ did not converge\n",
      "\n",
      "F:\\Courses\\4GeeksAcademy\\DataScience\\DeliverableExercises\\alejandroNovellino-streamlit-fastapi\\.venv\\Lib\\site-packages\\sklearn\\linear_model\\_logistic.py:1207: UserWarning:\n",
      "\n",
      "Setting penalty=None will ignore the C and l1_ratio parameters\n",
      "\n",
      "F:\\Courses\\4GeeksAcademy\\DataScience\\DeliverableExercises\\alejandroNovellino-streamlit-fastapi\\.venv\\Lib\\site-packages\\sklearn\\linear_model\\_logistic.py:1207: UserWarning:\n",
      "\n",
      "Setting penalty=None will ignore the C and l1_ratio parameters\n",
      "\n",
      "F:\\Courses\\4GeeksAcademy\\DataScience\\DeliverableExercises\\alejandroNovellino-streamlit-fastapi\\.venv\\Lib\\site-packages\\sklearn\\linear_model\\_logistic.py:1207: UserWarning:\n",
      "\n",
      "Setting penalty=None will ignore the C and l1_ratio parameters\n",
      "\n",
      "F:\\Courses\\4GeeksAcademy\\DataScience\\DeliverableExercises\\alejandroNovellino-streamlit-fastapi\\.venv\\Lib\\site-packages\\sklearn\\linear_model\\_logistic.py:1207: UserWarning:\n",
      "\n",
      "Setting penalty=None will ignore the C and l1_ratio parameters\n",
      "\n",
      "F:\\Courses\\4GeeksAcademy\\DataScience\\DeliverableExercises\\alejandroNovellino-streamlit-fastapi\\.venv\\Lib\\site-packages\\sklearn\\linear_model\\_logistic.py:1207: UserWarning:\n",
      "\n",
      "Setting penalty=None will ignore the C and l1_ratio parameters\n",
      "\n",
      "F:\\Courses\\4GeeksAcademy\\DataScience\\DeliverableExercises\\alejandroNovellino-streamlit-fastapi\\.venv\\Lib\\site-packages\\sklearn\\linear_model\\_logistic.py:1207: UserWarning:\n",
      "\n",
      "Setting penalty=None will ignore the C and l1_ratio parameters\n",
      "\n",
      "F:\\Courses\\4GeeksAcademy\\DataScience\\DeliverableExercises\\alejandroNovellino-streamlit-fastapi\\.venv\\Lib\\site-packages\\sklearn\\linear_model\\_logistic.py:1207: UserWarning:\n",
      "\n",
      "Setting penalty=None will ignore the C and l1_ratio parameters\n",
      "\n",
      "F:\\Courses\\4GeeksAcademy\\DataScience\\DeliverableExercises\\alejandroNovellino-streamlit-fastapi\\.venv\\Lib\\site-packages\\sklearn\\linear_model\\_logistic.py:1207: UserWarning:\n",
      "\n",
      "Setting penalty=None will ignore the C and l1_ratio parameters\n",
      "\n",
      "F:\\Courses\\4GeeksAcademy\\DataScience\\DeliverableExercises\\alejandroNovellino-streamlit-fastapi\\.venv\\Lib\\site-packages\\sklearn\\linear_model\\_logistic.py:1207: UserWarning:\n",
      "\n",
      "Setting penalty=None will ignore the C and l1_ratio parameters\n",
      "\n",
      "F:\\Courses\\4GeeksAcademy\\DataScience\\DeliverableExercises\\alejandroNovellino-streamlit-fastapi\\.venv\\Lib\\site-packages\\sklearn\\linear_model\\_logistic.py:1207: UserWarning:\n",
      "\n",
      "Setting penalty=None will ignore the C and l1_ratio parameters\n",
      "\n",
      "F:\\Courses\\4GeeksAcademy\\DataScience\\DeliverableExercises\\alejandroNovellino-streamlit-fastapi\\.venv\\Lib\\site-packages\\sklearn\\linear_model\\_logistic.py:1207: UserWarning:\n",
      "\n",
      "Setting penalty=None will ignore the C and l1_ratio parameters\n",
      "\n",
      "F:\\Courses\\4GeeksAcademy\\DataScience\\DeliverableExercises\\alejandroNovellino-streamlit-fastapi\\.venv\\Lib\\site-packages\\sklearn\\linear_model\\_sag.py:348: ConvergenceWarning:\n",
      "\n",
      "The max_iter was reached which means the coef_ did not converge\n",
      "\n",
      "F:\\Courses\\4GeeksAcademy\\DataScience\\DeliverableExercises\\alejandroNovellino-streamlit-fastapi\\.venv\\Lib\\site-packages\\sklearn\\linear_model\\_logistic.py:1207: UserWarning:\n",
      "\n",
      "Setting penalty=None will ignore the C and l1_ratio parameters\n",
      "\n",
      "F:\\Courses\\4GeeksAcademy\\DataScience\\DeliverableExercises\\alejandroNovellino-streamlit-fastapi\\.venv\\Lib\\site-packages\\sklearn\\linear_model\\_sag.py:348: ConvergenceWarning:\n",
      "\n",
      "The max_iter was reached which means the coef_ did not converge\n",
      "\n",
      "F:\\Courses\\4GeeksAcademy\\DataScience\\DeliverableExercises\\alejandroNovellino-streamlit-fastapi\\.venv\\Lib\\site-packages\\sklearn\\linear_model\\_logistic.py:1207: UserWarning:\n",
      "\n",
      "Setting penalty=None will ignore the C and l1_ratio parameters\n",
      "\n",
      "F:\\Courses\\4GeeksAcademy\\DataScience\\DeliverableExercises\\alejandroNovellino-streamlit-fastapi\\.venv\\Lib\\site-packages\\sklearn\\linear_model\\_sag.py:348: ConvergenceWarning:\n",
      "\n",
      "The max_iter was reached which means the coef_ did not converge\n",
      "\n",
      "F:\\Courses\\4GeeksAcademy\\DataScience\\DeliverableExercises\\alejandroNovellino-streamlit-fastapi\\.venv\\Lib\\site-packages\\sklearn\\linear_model\\_logistic.py:1207: UserWarning:\n",
      "\n",
      "Setting penalty=None will ignore the C and l1_ratio parameters\n",
      "\n",
      "F:\\Courses\\4GeeksAcademy\\DataScience\\DeliverableExercises\\alejandroNovellino-streamlit-fastapi\\.venv\\Lib\\site-packages\\sklearn\\linear_model\\_sag.py:348: ConvergenceWarning:\n",
      "\n",
      "The max_iter was reached which means the coef_ did not converge\n",
      "\n",
      "F:\\Courses\\4GeeksAcademy\\DataScience\\DeliverableExercises\\alejandroNovellino-streamlit-fastapi\\.venv\\Lib\\site-packages\\sklearn\\linear_model\\_logistic.py:1207: UserWarning:\n",
      "\n",
      "Setting penalty=None will ignore the C and l1_ratio parameters\n",
      "\n",
      "F:\\Courses\\4GeeksAcademy\\DataScience\\DeliverableExercises\\alejandroNovellino-streamlit-fastapi\\.venv\\Lib\\site-packages\\sklearn\\linear_model\\_sag.py:348: ConvergenceWarning:\n",
      "\n",
      "The max_iter was reached which means the coef_ did not converge\n",
      "\n",
      "F:\\Courses\\4GeeksAcademy\\DataScience\\DeliverableExercises\\alejandroNovellino-streamlit-fastapi\\.venv\\Lib\\site-packages\\sklearn\\linear_model\\_sag.py:348: ConvergenceWarning:\n",
      "\n",
      "The max_iter was reached which means the coef_ did not converge\n",
      "\n",
      "F:\\Courses\\4GeeksAcademy\\DataScience\\DeliverableExercises\\alejandroNovellino-streamlit-fastapi\\.venv\\Lib\\site-packages\\sklearn\\linear_model\\_sag.py:348: ConvergenceWarning:\n",
      "\n",
      "The max_iter was reached which means the coef_ did not converge\n",
      "\n",
      "F:\\Courses\\4GeeksAcademy\\DataScience\\DeliverableExercises\\alejandroNovellino-streamlit-fastapi\\.venv\\Lib\\site-packages\\sklearn\\linear_model\\_sag.py:348: ConvergenceWarning:\n",
      "\n",
      "The max_iter was reached which means the coef_ did not converge\n",
      "\n",
      "F:\\Courses\\4GeeksAcademy\\DataScience\\DeliverableExercises\\alejandroNovellino-streamlit-fastapi\\.venv\\Lib\\site-packages\\sklearn\\linear_model\\_sag.py:348: ConvergenceWarning:\n",
      "\n",
      "The max_iter was reached which means the coef_ did not converge\n",
      "\n",
      "F:\\Courses\\4GeeksAcademy\\DataScience\\DeliverableExercises\\alejandroNovellino-streamlit-fastapi\\.venv\\Lib\\site-packages\\sklearn\\linear_model\\_sag.py:348: ConvergenceWarning:\n",
      "\n",
      "The max_iter was reached which means the coef_ did not converge\n",
      "\n",
      "F:\\Courses\\4GeeksAcademy\\DataScience\\DeliverableExercises\\alejandroNovellino-streamlit-fastapi\\.venv\\Lib\\site-packages\\sklearn\\linear_model\\_logistic.py:1207: UserWarning:\n",
      "\n",
      "Setting penalty=None will ignore the C and l1_ratio parameters\n",
      "\n",
      "F:\\Courses\\4GeeksAcademy\\DataScience\\DeliverableExercises\\alejandroNovellino-streamlit-fastapi\\.venv\\Lib\\site-packages\\sklearn\\linear_model\\_logistic.py:1207: UserWarning:\n",
      "\n",
      "Setting penalty=None will ignore the C and l1_ratio parameters\n",
      "\n",
      "F:\\Courses\\4GeeksAcademy\\DataScience\\DeliverableExercises\\alejandroNovellino-streamlit-fastapi\\.venv\\Lib\\site-packages\\sklearn\\linear_model\\_logistic.py:1207: UserWarning:\n",
      "\n",
      "Setting penalty=None will ignore the C and l1_ratio parameters\n",
      "\n",
      "F:\\Courses\\4GeeksAcademy\\DataScience\\DeliverableExercises\\alejandroNovellino-streamlit-fastapi\\.venv\\Lib\\site-packages\\sklearn\\linear_model\\_logistic.py:1207: UserWarning:\n",
      "\n",
      "Setting penalty=None will ignore the C and l1_ratio parameters\n",
      "\n",
      "F:\\Courses\\4GeeksAcademy\\DataScience\\DeliverableExercises\\alejandroNovellino-streamlit-fastapi\\.venv\\Lib\\site-packages\\sklearn\\linear_model\\_logistic.py:1207: UserWarning:\n",
      "\n",
      "Setting penalty=None will ignore the C and l1_ratio parameters\n",
      "\n",
      "F:\\Courses\\4GeeksAcademy\\DataScience\\DeliverableExercises\\alejandroNovellino-streamlit-fastapi\\.venv\\Lib\\site-packages\\sklearn\\linear_model\\_logistic.py:1207: UserWarning:\n",
      "\n",
      "Setting penalty=None will ignore the C and l1_ratio parameters\n",
      "\n",
      "F:\\Courses\\4GeeksAcademy\\DataScience\\DeliverableExercises\\alejandroNovellino-streamlit-fastapi\\.venv\\Lib\\site-packages\\sklearn\\linear_model\\_logistic.py:1207: UserWarning:\n",
      "\n",
      "Setting penalty=None will ignore the C and l1_ratio parameters\n",
      "\n",
      "F:\\Courses\\4GeeksAcademy\\DataScience\\DeliverableExercises\\alejandroNovellino-streamlit-fastapi\\.venv\\Lib\\site-packages\\sklearn\\linear_model\\_logistic.py:1207: UserWarning:\n",
      "\n",
      "Setting penalty=None will ignore the C and l1_ratio parameters\n",
      "\n",
      "F:\\Courses\\4GeeksAcademy\\DataScience\\DeliverableExercises\\alejandroNovellino-streamlit-fastapi\\.venv\\Lib\\site-packages\\sklearn\\linear_model\\_logistic.py:1207: UserWarning:\n",
      "\n",
      "Setting penalty=None will ignore the C and l1_ratio parameters\n",
      "\n",
      "F:\\Courses\\4GeeksAcademy\\DataScience\\DeliverableExercises\\alejandroNovellino-streamlit-fastapi\\.venv\\Lib\\site-packages\\sklearn\\linear_model\\_logistic.py:1207: UserWarning:\n",
      "\n",
      "Setting penalty=None will ignore the C and l1_ratio parameters\n",
      "\n",
      "F:\\Courses\\4GeeksAcademy\\DataScience\\DeliverableExercises\\alejandroNovellino-streamlit-fastapi\\.venv\\Lib\\site-packages\\sklearn\\linear_model\\_logistic.py:1207: UserWarning:\n",
      "\n",
      "Setting penalty=None will ignore the C and l1_ratio parameters\n",
      "\n",
      "F:\\Courses\\4GeeksAcademy\\DataScience\\DeliverableExercises\\alejandroNovellino-streamlit-fastapi\\.venv\\Lib\\site-packages\\sklearn\\linear_model\\_sag.py:348: ConvergenceWarning:\n",
      "\n",
      "The max_iter was reached which means the coef_ did not converge\n",
      "\n",
      "F:\\Courses\\4GeeksAcademy\\DataScience\\DeliverableExercises\\alejandroNovellino-streamlit-fastapi\\.venv\\Lib\\site-packages\\sklearn\\linear_model\\_logistic.py:1207: UserWarning:\n",
      "\n",
      "Setting penalty=None will ignore the C and l1_ratio parameters\n",
      "\n",
      "F:\\Courses\\4GeeksAcademy\\DataScience\\DeliverableExercises\\alejandroNovellino-streamlit-fastapi\\.venv\\Lib\\site-packages\\sklearn\\linear_model\\_sag.py:348: ConvergenceWarning:\n",
      "\n",
      "The max_iter was reached which means the coef_ did not converge\n",
      "\n",
      "F:\\Courses\\4GeeksAcademy\\DataScience\\DeliverableExercises\\alejandroNovellino-streamlit-fastapi\\.venv\\Lib\\site-packages\\sklearn\\linear_model\\_logistic.py:1207: UserWarning:\n",
      "\n",
      "Setting penalty=None will ignore the C and l1_ratio parameters\n",
      "\n",
      "F:\\Courses\\4GeeksAcademy\\DataScience\\DeliverableExercises\\alejandroNovellino-streamlit-fastapi\\.venv\\Lib\\site-packages\\sklearn\\linear_model\\_sag.py:348: ConvergenceWarning:\n",
      "\n",
      "The max_iter was reached which means the coef_ did not converge\n",
      "\n",
      "F:\\Courses\\4GeeksAcademy\\DataScience\\DeliverableExercises\\alejandroNovellino-streamlit-fastapi\\.venv\\Lib\\site-packages\\sklearn\\linear_model\\_logistic.py:1207: UserWarning:\n",
      "\n",
      "Setting penalty=None will ignore the C and l1_ratio parameters\n",
      "\n",
      "F:\\Courses\\4GeeksAcademy\\DataScience\\DeliverableExercises\\alejandroNovellino-streamlit-fastapi\\.venv\\Lib\\site-packages\\sklearn\\linear_model\\_sag.py:348: ConvergenceWarning:\n",
      "\n",
      "The max_iter was reached which means the coef_ did not converge\n",
      "\n",
      "F:\\Courses\\4GeeksAcademy\\DataScience\\DeliverableExercises\\alejandroNovellino-streamlit-fastapi\\.venv\\Lib\\site-packages\\sklearn\\linear_model\\_logistic.py:1207: UserWarning:\n",
      "\n",
      "Setting penalty=None will ignore the C and l1_ratio parameters\n",
      "\n",
      "F:\\Courses\\4GeeksAcademy\\DataScience\\DeliverableExercises\\alejandroNovellino-streamlit-fastapi\\.venv\\Lib\\site-packages\\sklearn\\linear_model\\_sag.py:348: ConvergenceWarning:\n",
      "\n",
      "The max_iter was reached which means the coef_ did not converge\n",
      "\n",
      "F:\\Courses\\4GeeksAcademy\\DataScience\\DeliverableExercises\\alejandroNovellino-streamlit-fastapi\\.venv\\Lib\\site-packages\\sklearn\\linear_model\\_logistic.py:1207: UserWarning:\n",
      "\n",
      "Setting penalty=None will ignore the C and l1_ratio parameters\n",
      "\n",
      "F:\\Courses\\4GeeksAcademy\\DataScience\\DeliverableExercises\\alejandroNovellino-streamlit-fastapi\\.venv\\Lib\\site-packages\\sklearn\\linear_model\\_logistic.py:1207: UserWarning:\n",
      "\n",
      "Setting penalty=None will ignore the C and l1_ratio parameters\n",
      "\n",
      "F:\\Courses\\4GeeksAcademy\\DataScience\\DeliverableExercises\\alejandroNovellino-streamlit-fastapi\\.venv\\Lib\\site-packages\\sklearn\\linear_model\\_logistic.py:1207: UserWarning:\n",
      "\n",
      "Setting penalty=None will ignore the C and l1_ratio parameters\n",
      "\n",
      "F:\\Courses\\4GeeksAcademy\\DataScience\\DeliverableExercises\\alejandroNovellino-streamlit-fastapi\\.venv\\Lib\\site-packages\\sklearn\\linear_model\\_logistic.py:1207: UserWarning:\n",
      "\n",
      "Setting penalty=None will ignore the C and l1_ratio parameters\n",
      "\n",
      "F:\\Courses\\4GeeksAcademy\\DataScience\\DeliverableExercises\\alejandroNovellino-streamlit-fastapi\\.venv\\Lib\\site-packages\\sklearn\\linear_model\\_logistic.py:1207: UserWarning:\n",
      "\n",
      "Setting penalty=None will ignore the C and l1_ratio parameters\n",
      "\n",
      "F:\\Courses\\4GeeksAcademy\\DataScience\\DeliverableExercises\\alejandroNovellino-streamlit-fastapi\\.venv\\Lib\\site-packages\\sklearn\\linear_model\\_logistic.py:1207: UserWarning:\n",
      "\n",
      "Setting penalty=None will ignore the C and l1_ratio parameters\n",
      "\n",
      "F:\\Courses\\4GeeksAcademy\\DataScience\\DeliverableExercises\\alejandroNovellino-streamlit-fastapi\\.venv\\Lib\\site-packages\\sklearn\\linear_model\\_logistic.py:1207: UserWarning:\n",
      "\n",
      "Setting penalty=None will ignore the C and l1_ratio parameters\n",
      "\n",
      "F:\\Courses\\4GeeksAcademy\\DataScience\\DeliverableExercises\\alejandroNovellino-streamlit-fastapi\\.venv\\Lib\\site-packages\\sklearn\\linear_model\\_logistic.py:1207: UserWarning:\n",
      "\n",
      "Setting penalty=None will ignore the C and l1_ratio parameters\n",
      "\n",
      "F:\\Courses\\4GeeksAcademy\\DataScience\\DeliverableExercises\\alejandroNovellino-streamlit-fastapi\\.venv\\Lib\\site-packages\\sklearn\\linear_model\\_logistic.py:1207: UserWarning:\n",
      "\n",
      "Setting penalty=None will ignore the C and l1_ratio parameters\n",
      "\n",
      "F:\\Courses\\4GeeksAcademy\\DataScience\\DeliverableExercises\\alejandroNovellino-streamlit-fastapi\\.venv\\Lib\\site-packages\\sklearn\\linear_model\\_logistic.py:1207: UserWarning:\n",
      "\n",
      "Setting penalty=None will ignore the C and l1_ratio parameters\n",
      "\n",
      "F:\\Courses\\4GeeksAcademy\\DataScience\\DeliverableExercises\\alejandroNovellino-streamlit-fastapi\\.venv\\Lib\\site-packages\\sklearn\\linear_model\\_logistic.py:1207: UserWarning:\n",
      "\n",
      "Setting penalty=None will ignore the C and l1_ratio parameters\n",
      "\n",
      "F:\\Courses\\4GeeksAcademy\\DataScience\\DeliverableExercises\\alejandroNovellino-streamlit-fastapi\\.venv\\Lib\\site-packages\\sklearn\\linear_model\\_sag.py:348: ConvergenceWarning:\n",
      "\n",
      "The max_iter was reached which means the coef_ did not converge\n",
      "\n",
      "F:\\Courses\\4GeeksAcademy\\DataScience\\DeliverableExercises\\alejandroNovellino-streamlit-fastapi\\.venv\\Lib\\site-packages\\sklearn\\linear_model\\_logistic.py:1207: UserWarning:\n",
      "\n",
      "Setting penalty=None will ignore the C and l1_ratio parameters\n",
      "\n",
      "F:\\Courses\\4GeeksAcademy\\DataScience\\DeliverableExercises\\alejandroNovellino-streamlit-fastapi\\.venv\\Lib\\site-packages\\sklearn\\linear_model\\_sag.py:348: ConvergenceWarning:\n",
      "\n",
      "The max_iter was reached which means the coef_ did not converge\n",
      "\n",
      "F:\\Courses\\4GeeksAcademy\\DataScience\\DeliverableExercises\\alejandroNovellino-streamlit-fastapi\\.venv\\Lib\\site-packages\\sklearn\\linear_model\\_logistic.py:1207: UserWarning:\n",
      "\n",
      "Setting penalty=None will ignore the C and l1_ratio parameters\n",
      "\n",
      "F:\\Courses\\4GeeksAcademy\\DataScience\\DeliverableExercises\\alejandroNovellino-streamlit-fastapi\\.venv\\Lib\\site-packages\\sklearn\\linear_model\\_sag.py:348: ConvergenceWarning:\n",
      "\n",
      "The max_iter was reached which means the coef_ did not converge\n",
      "\n",
      "F:\\Courses\\4GeeksAcademy\\DataScience\\DeliverableExercises\\alejandroNovellino-streamlit-fastapi\\.venv\\Lib\\site-packages\\sklearn\\linear_model\\_logistic.py:1207: UserWarning:\n",
      "\n",
      "Setting penalty=None will ignore the C and l1_ratio parameters\n",
      "\n",
      "F:\\Courses\\4GeeksAcademy\\DataScience\\DeliverableExercises\\alejandroNovellino-streamlit-fastapi\\.venv\\Lib\\site-packages\\sklearn\\linear_model\\_sag.py:348: ConvergenceWarning:\n",
      "\n",
      "The max_iter was reached which means the coef_ did not converge\n",
      "\n",
      "F:\\Courses\\4GeeksAcademy\\DataScience\\DeliverableExercises\\alejandroNovellino-streamlit-fastapi\\.venv\\Lib\\site-packages\\sklearn\\linear_model\\_logistic.py:1207: UserWarning:\n",
      "\n",
      "Setting penalty=None will ignore the C and l1_ratio parameters\n",
      "\n",
      "F:\\Courses\\4GeeksAcademy\\DataScience\\DeliverableExercises\\alejandroNovellino-streamlit-fastapi\\.venv\\Lib\\site-packages\\sklearn\\linear_model\\_sag.py:348: ConvergenceWarning:\n",
      "\n",
      "The max_iter was reached which means the coef_ did not converge\n",
      "\n",
      "F:\\Courses\\4GeeksAcademy\\DataScience\\DeliverableExercises\\alejandroNovellino-streamlit-fastapi\\.venv\\Lib\\site-packages\\sklearn\\linear_model\\_logistic.py:1207: UserWarning:\n",
      "\n",
      "Setting penalty=None will ignore the C and l1_ratio parameters\n",
      "\n",
      "F:\\Courses\\4GeeksAcademy\\DataScience\\DeliverableExercises\\alejandroNovellino-streamlit-fastapi\\.venv\\Lib\\site-packages\\sklearn\\linear_model\\_sag.py:348: ConvergenceWarning:\n",
      "\n",
      "The max_iter was reached which means the coef_ did not converge\n",
      "\n",
      "F:\\Courses\\4GeeksAcademy\\DataScience\\DeliverableExercises\\alejandroNovellino-streamlit-fastapi\\.venv\\Lib\\site-packages\\sklearn\\linear_model\\_logistic.py:1207: UserWarning:\n",
      "\n",
      "Setting penalty=None will ignore the C and l1_ratio parameters\n",
      "\n",
      "F:\\Courses\\4GeeksAcademy\\DataScience\\DeliverableExercises\\alejandroNovellino-streamlit-fastapi\\.venv\\Lib\\site-packages\\sklearn\\linear_model\\_sag.py:348: ConvergenceWarning:\n",
      "\n",
      "The max_iter was reached which means the coef_ did not converge\n",
      "\n",
      "F:\\Courses\\4GeeksAcademy\\DataScience\\DeliverableExercises\\alejandroNovellino-streamlit-fastapi\\.venv\\Lib\\site-packages\\sklearn\\linear_model\\_logistic.py:1207: UserWarning:\n",
      "\n",
      "Setting penalty=None will ignore the C and l1_ratio parameters\n",
      "\n",
      "F:\\Courses\\4GeeksAcademy\\DataScience\\DeliverableExercises\\alejandroNovellino-streamlit-fastapi\\.venv\\Lib\\site-packages\\sklearn\\linear_model\\_sag.py:348: ConvergenceWarning:\n",
      "\n",
      "The max_iter was reached which means the coef_ did not converge\n",
      "\n",
      "F:\\Courses\\4GeeksAcademy\\DataScience\\DeliverableExercises\\alejandroNovellino-streamlit-fastapi\\.venv\\Lib\\site-packages\\sklearn\\linear_model\\_logistic.py:1207: UserWarning:\n",
      "\n",
      "Setting penalty=None will ignore the C and l1_ratio parameters\n",
      "\n",
      "F:\\Courses\\4GeeksAcademy\\DataScience\\DeliverableExercises\\alejandroNovellino-streamlit-fastapi\\.venv\\Lib\\site-packages\\sklearn\\linear_model\\_sag.py:348: ConvergenceWarning:\n",
      "\n",
      "The max_iter was reached which means the coef_ did not converge\n",
      "\n",
      "F:\\Courses\\4GeeksAcademy\\DataScience\\DeliverableExercises\\alejandroNovellino-streamlit-fastapi\\.venv\\Lib\\site-packages\\sklearn\\linear_model\\_logistic.py:1207: UserWarning:\n",
      "\n",
      "Setting penalty=None will ignore the C and l1_ratio parameters\n",
      "\n",
      "F:\\Courses\\4GeeksAcademy\\DataScience\\DeliverableExercises\\alejandroNovellino-streamlit-fastapi\\.venv\\Lib\\site-packages\\sklearn\\linear_model\\_sag.py:348: ConvergenceWarning:\n",
      "\n",
      "The max_iter was reached which means the coef_ did not converge\n",
      "\n",
      "F:\\Courses\\4GeeksAcademy\\DataScience\\DeliverableExercises\\alejandroNovellino-streamlit-fastapi\\.venv\\Lib\\site-packages\\sklearn\\linear_model\\_logistic.py:1207: UserWarning:\n",
      "\n",
      "Setting penalty=None will ignore the C and l1_ratio parameters\n",
      "\n",
      "F:\\Courses\\4GeeksAcademy\\DataScience\\DeliverableExercises\\alejandroNovellino-streamlit-fastapi\\.venv\\Lib\\site-packages\\sklearn\\linear_model\\_sag.py:348: ConvergenceWarning:\n",
      "\n",
      "The max_iter was reached which means the coef_ did not converge\n",
      "\n",
      "F:\\Courses\\4GeeksAcademy\\DataScience\\DeliverableExercises\\alejandroNovellino-streamlit-fastapi\\.venv\\Lib\\site-packages\\sklearn\\linear_model\\_logistic.py:1207: UserWarning:\n",
      "\n",
      "Setting penalty=None will ignore the C and l1_ratio parameters\n",
      "\n",
      "F:\\Courses\\4GeeksAcademy\\DataScience\\DeliverableExercises\\alejandroNovellino-streamlit-fastapi\\.venv\\Lib\\site-packages\\sklearn\\linear_model\\_sag.py:348: ConvergenceWarning:\n",
      "\n",
      "The max_iter was reached which means the coef_ did not converge\n",
      "\n",
      "F:\\Courses\\4GeeksAcademy\\DataScience\\DeliverableExercises\\alejandroNovellino-streamlit-fastapi\\.venv\\Lib\\site-packages\\sklearn\\linear_model\\_logistic.py:1207: UserWarning:\n",
      "\n",
      "Setting penalty=None will ignore the C and l1_ratio parameters\n",
      "\n",
      "F:\\Courses\\4GeeksAcademy\\DataScience\\DeliverableExercises\\alejandroNovellino-streamlit-fastapi\\.venv\\Lib\\site-packages\\sklearn\\linear_model\\_sag.py:348: ConvergenceWarning:\n",
      "\n",
      "The max_iter was reached which means the coef_ did not converge\n",
      "\n",
      "F:\\Courses\\4GeeksAcademy\\DataScience\\DeliverableExercises\\alejandroNovellino-streamlit-fastapi\\.venv\\Lib\\site-packages\\sklearn\\linear_model\\_logistic.py:1207: UserWarning:\n",
      "\n",
      "Setting penalty=None will ignore the C and l1_ratio parameters\n",
      "\n",
      "F:\\Courses\\4GeeksAcademy\\DataScience\\DeliverableExercises\\alejandroNovellino-streamlit-fastapi\\.venv\\Lib\\site-packages\\sklearn\\linear_model\\_sag.py:348: ConvergenceWarning:\n",
      "\n",
      "The max_iter was reached which means the coef_ did not converge\n",
      "\n",
      "F:\\Courses\\4GeeksAcademy\\DataScience\\DeliverableExercises\\alejandroNovellino-streamlit-fastapi\\.venv\\Lib\\site-packages\\sklearn\\linear_model\\_logistic.py:1207: UserWarning:\n",
      "\n",
      "Setting penalty=None will ignore the C and l1_ratio parameters\n",
      "\n",
      "F:\\Courses\\4GeeksAcademy\\DataScience\\DeliverableExercises\\alejandroNovellino-streamlit-fastapi\\.venv\\Lib\\site-packages\\sklearn\\linear_model\\_sag.py:348: ConvergenceWarning:\n",
      "\n",
      "The max_iter was reached which means the coef_ did not converge\n",
      "\n",
      "F:\\Courses\\4GeeksAcademy\\DataScience\\DeliverableExercises\\alejandroNovellino-streamlit-fastapi\\.venv\\Lib\\site-packages\\sklearn\\linear_model\\_sag.py:348: ConvergenceWarning:\n",
      "\n",
      "The max_iter was reached which means the coef_ did not converge\n",
      "\n",
      "F:\\Courses\\4GeeksAcademy\\DataScience\\DeliverableExercises\\alejandroNovellino-streamlit-fastapi\\.venv\\Lib\\site-packages\\sklearn\\linear_model\\_sag.py:348: ConvergenceWarning:\n",
      "\n",
      "The max_iter was reached which means the coef_ did not converge\n",
      "\n",
      "F:\\Courses\\4GeeksAcademy\\DataScience\\DeliverableExercises\\alejandroNovellino-streamlit-fastapi\\.venv\\Lib\\site-packages\\sklearn\\linear_model\\_sag.py:348: ConvergenceWarning:\n",
      "\n",
      "The max_iter was reached which means the coef_ did not converge\n",
      "\n",
      "F:\\Courses\\4GeeksAcademy\\DataScience\\DeliverableExercises\\alejandroNovellino-streamlit-fastapi\\.venv\\Lib\\site-packages\\sklearn\\linear_model\\_sag.py:348: ConvergenceWarning:\n",
      "\n",
      "The max_iter was reached which means the coef_ did not converge\n",
      "\n",
      "F:\\Courses\\4GeeksAcademy\\DataScience\\DeliverableExercises\\alejandroNovellino-streamlit-fastapi\\.venv\\Lib\\site-packages\\sklearn\\linear_model\\_sag.py:348: ConvergenceWarning:\n",
      "\n",
      "The max_iter was reached which means the coef_ did not converge\n",
      "\n",
      "F:\\Courses\\4GeeksAcademy\\DataScience\\DeliverableExercises\\alejandroNovellino-streamlit-fastapi\\.venv\\Lib\\site-packages\\sklearn\\linear_model\\_sag.py:348: ConvergenceWarning:\n",
      "\n",
      "The max_iter was reached which means the coef_ did not converge\n",
      "\n",
      "F:\\Courses\\4GeeksAcademy\\DataScience\\DeliverableExercises\\alejandroNovellino-streamlit-fastapi\\.venv\\Lib\\site-packages\\sklearn\\linear_model\\_sag.py:348: ConvergenceWarning:\n",
      "\n",
      "The max_iter was reached which means the coef_ did not converge\n",
      "\n",
      "F:\\Courses\\4GeeksAcademy\\DataScience\\DeliverableExercises\\alejandroNovellino-streamlit-fastapi\\.venv\\Lib\\site-packages\\sklearn\\linear_model\\_sag.py:348: ConvergenceWarning:\n",
      "\n",
      "The max_iter was reached which means the coef_ did not converge\n",
      "\n",
      "F:\\Courses\\4GeeksAcademy\\DataScience\\DeliverableExercises\\alejandroNovellino-streamlit-fastapi\\.venv\\Lib\\site-packages\\sklearn\\linear_model\\_sag.py:348: ConvergenceWarning:\n",
      "\n",
      "The max_iter was reached which means the coef_ did not converge\n",
      "\n",
      "F:\\Courses\\4GeeksAcademy\\DataScience\\DeliverableExercises\\alejandroNovellino-streamlit-fastapi\\.venv\\Lib\\site-packages\\sklearn\\linear_model\\_sag.py:348: ConvergenceWarning:\n",
      "\n",
      "The max_iter was reached which means the coef_ did not converge\n",
      "\n",
      "F:\\Courses\\4GeeksAcademy\\DataScience\\DeliverableExercises\\alejandroNovellino-streamlit-fastapi\\.venv\\Lib\\site-packages\\sklearn\\linear_model\\_logistic.py:1207: UserWarning:\n",
      "\n",
      "Setting penalty=None will ignore the C and l1_ratio parameters\n",
      "\n",
      "F:\\Courses\\4GeeksAcademy\\DataScience\\DeliverableExercises\\alejandroNovellino-streamlit-fastapi\\.venv\\Lib\\site-packages\\sklearn\\linear_model\\_sag.py:348: ConvergenceWarning:\n",
      "\n",
      "The max_iter was reached which means the coef_ did not converge\n",
      "\n",
      "F:\\Courses\\4GeeksAcademy\\DataScience\\DeliverableExercises\\alejandroNovellino-streamlit-fastapi\\.venv\\Lib\\site-packages\\sklearn\\linear_model\\_logistic.py:1207: UserWarning:\n",
      "\n",
      "Setting penalty=None will ignore the C and l1_ratio parameters\n",
      "\n",
      "F:\\Courses\\4GeeksAcademy\\DataScience\\DeliverableExercises\\alejandroNovellino-streamlit-fastapi\\.venv\\Lib\\site-packages\\sklearn\\linear_model\\_sag.py:348: ConvergenceWarning:\n",
      "\n",
      "The max_iter was reached which means the coef_ did not converge\n",
      "\n",
      "F:\\Courses\\4GeeksAcademy\\DataScience\\DeliverableExercises\\alejandroNovellino-streamlit-fastapi\\.venv\\Lib\\site-packages\\sklearn\\linear_model\\_logistic.py:1207: UserWarning:\n",
      "\n",
      "Setting penalty=None will ignore the C and l1_ratio parameters\n",
      "\n",
      "F:\\Courses\\4GeeksAcademy\\DataScience\\DeliverableExercises\\alejandroNovellino-streamlit-fastapi\\.venv\\Lib\\site-packages\\sklearn\\linear_model\\_sag.py:348: ConvergenceWarning:\n",
      "\n",
      "The max_iter was reached which means the coef_ did not converge\n",
      "\n",
      "F:\\Courses\\4GeeksAcademy\\DataScience\\DeliverableExercises\\alejandroNovellino-streamlit-fastapi\\.venv\\Lib\\site-packages\\sklearn\\linear_model\\_logistic.py:1207: UserWarning:\n",
      "\n",
      "Setting penalty=None will ignore the C and l1_ratio parameters\n",
      "\n",
      "F:\\Courses\\4GeeksAcademy\\DataScience\\DeliverableExercises\\alejandroNovellino-streamlit-fastapi\\.venv\\Lib\\site-packages\\sklearn\\linear_model\\_sag.py:348: ConvergenceWarning:\n",
      "\n",
      "The max_iter was reached which means the coef_ did not converge\n",
      "\n",
      "F:\\Courses\\4GeeksAcademy\\DataScience\\DeliverableExercises\\alejandroNovellino-streamlit-fastapi\\.venv\\Lib\\site-packages\\sklearn\\linear_model\\_logistic.py:1207: UserWarning:\n",
      "\n",
      "Setting penalty=None will ignore the C and l1_ratio parameters\n",
      "\n",
      "F:\\Courses\\4GeeksAcademy\\DataScience\\DeliverableExercises\\alejandroNovellino-streamlit-fastapi\\.venv\\Lib\\site-packages\\sklearn\\linear_model\\_sag.py:348: ConvergenceWarning:\n",
      "\n",
      "The max_iter was reached which means the coef_ did not converge\n",
      "\n",
      "F:\\Courses\\4GeeksAcademy\\DataScience\\DeliverableExercises\\alejandroNovellino-streamlit-fastapi\\.venv\\Lib\\site-packages\\sklearn\\linear_model\\_sag.py:348: ConvergenceWarning:\n",
      "\n",
      "The max_iter was reached which means the coef_ did not converge\n",
      "\n",
      "F:\\Courses\\4GeeksAcademy\\DataScience\\DeliverableExercises\\alejandroNovellino-streamlit-fastapi\\.venv\\Lib\\site-packages\\sklearn\\linear_model\\_sag.py:348: ConvergenceWarning:\n",
      "\n",
      "The max_iter was reached which means the coef_ did not converge\n",
      "\n",
      "F:\\Courses\\4GeeksAcademy\\DataScience\\DeliverableExercises\\alejandroNovellino-streamlit-fastapi\\.venv\\Lib\\site-packages\\sklearn\\linear_model\\_sag.py:348: ConvergenceWarning:\n",
      "\n",
      "The max_iter was reached which means the coef_ did not converge\n",
      "\n",
      "F:\\Courses\\4GeeksAcademy\\DataScience\\DeliverableExercises\\alejandroNovellino-streamlit-fastapi\\.venv\\Lib\\site-packages\\sklearn\\linear_model\\_sag.py:348: ConvergenceWarning:\n",
      "\n",
      "The max_iter was reached which means the coef_ did not converge\n",
      "\n",
      "F:\\Courses\\4GeeksAcademy\\DataScience\\DeliverableExercises\\alejandroNovellino-streamlit-fastapi\\.venv\\Lib\\site-packages\\sklearn\\linear_model\\_sag.py:348: ConvergenceWarning:\n",
      "\n",
      "The max_iter was reached which means the coef_ did not converge\n",
      "\n",
      "F:\\Courses\\4GeeksAcademy\\DataScience\\DeliverableExercises\\alejandroNovellino-streamlit-fastapi\\.venv\\Lib\\site-packages\\sklearn\\linear_model\\_sag.py:348: ConvergenceWarning:\n",
      "\n",
      "The max_iter was reached which means the coef_ did not converge\n",
      "\n",
      "F:\\Courses\\4GeeksAcademy\\DataScience\\DeliverableExercises\\alejandroNovellino-streamlit-fastapi\\.venv\\Lib\\site-packages\\sklearn\\linear_model\\_sag.py:348: ConvergenceWarning:\n",
      "\n",
      "The max_iter was reached which means the coef_ did not converge\n",
      "\n",
      "F:\\Courses\\4GeeksAcademy\\DataScience\\DeliverableExercises\\alejandroNovellino-streamlit-fastapi\\.venv\\Lib\\site-packages\\sklearn\\linear_model\\_sag.py:348: ConvergenceWarning:\n",
      "\n",
      "The max_iter was reached which means the coef_ did not converge\n",
      "\n",
      "F:\\Courses\\4GeeksAcademy\\DataScience\\DeliverableExercises\\alejandroNovellino-streamlit-fastapi\\.venv\\Lib\\site-packages\\sklearn\\linear_model\\_sag.py:348: ConvergenceWarning:\n",
      "\n",
      "The max_iter was reached which means the coef_ did not converge\n",
      "\n",
      "F:\\Courses\\4GeeksAcademy\\DataScience\\DeliverableExercises\\alejandroNovellino-streamlit-fastapi\\.venv\\Lib\\site-packages\\sklearn\\linear_model\\_logistic.py:1207: UserWarning:\n",
      "\n",
      "Setting penalty=None will ignore the C and l1_ratio parameters\n",
      "\n",
      "F:\\Courses\\4GeeksAcademy\\DataScience\\DeliverableExercises\\alejandroNovellino-streamlit-fastapi\\.venv\\Lib\\site-packages\\sklearn\\linear_model\\_sag.py:348: ConvergenceWarning:\n",
      "\n",
      "The max_iter was reached which means the coef_ did not converge\n",
      "\n",
      "F:\\Courses\\4GeeksAcademy\\DataScience\\DeliverableExercises\\alejandroNovellino-streamlit-fastapi\\.venv\\Lib\\site-packages\\sklearn\\linear_model\\_logistic.py:1207: UserWarning:\n",
      "\n",
      "Setting penalty=None will ignore the C and l1_ratio parameters\n",
      "\n",
      "F:\\Courses\\4GeeksAcademy\\DataScience\\DeliverableExercises\\alejandroNovellino-streamlit-fastapi\\.venv\\Lib\\site-packages\\sklearn\\linear_model\\_sag.py:348: ConvergenceWarning:\n",
      "\n",
      "The max_iter was reached which means the coef_ did not converge\n",
      "\n",
      "F:\\Courses\\4GeeksAcademy\\DataScience\\DeliverableExercises\\alejandroNovellino-streamlit-fastapi\\.venv\\Lib\\site-packages\\sklearn\\linear_model\\_logistic.py:1207: UserWarning:\n",
      "\n",
      "Setting penalty=None will ignore the C and l1_ratio parameters\n",
      "\n",
      "F:\\Courses\\4GeeksAcademy\\DataScience\\DeliverableExercises\\alejandroNovellino-streamlit-fastapi\\.venv\\Lib\\site-packages\\sklearn\\linear_model\\_sag.py:348: ConvergenceWarning:\n",
      "\n",
      "The max_iter was reached which means the coef_ did not converge\n",
      "\n",
      "F:\\Courses\\4GeeksAcademy\\DataScience\\DeliverableExercises\\alejandroNovellino-streamlit-fastapi\\.venv\\Lib\\site-packages\\sklearn\\linear_model\\_logistic.py:1207: UserWarning:\n",
      "\n",
      "Setting penalty=None will ignore the C and l1_ratio parameters\n",
      "\n",
      "F:\\Courses\\4GeeksAcademy\\DataScience\\DeliverableExercises\\alejandroNovellino-streamlit-fastapi\\.venv\\Lib\\site-packages\\sklearn\\linear_model\\_sag.py:348: ConvergenceWarning:\n",
      "\n",
      "The max_iter was reached which means the coef_ did not converge\n",
      "\n",
      "F:\\Courses\\4GeeksAcademy\\DataScience\\DeliverableExercises\\alejandroNovellino-streamlit-fastapi\\.venv\\Lib\\site-packages\\sklearn\\linear_model\\_logistic.py:1207: UserWarning:\n",
      "\n",
      "Setting penalty=None will ignore the C and l1_ratio parameters\n",
      "\n",
      "F:\\Courses\\4GeeksAcademy\\DataScience\\DeliverableExercises\\alejandroNovellino-streamlit-fastapi\\.venv\\Lib\\site-packages\\sklearn\\linear_model\\_sag.py:348: ConvergenceWarning:\n",
      "\n",
      "The max_iter was reached which means the coef_ did not converge\n",
      "\n",
      "F:\\Courses\\4GeeksAcademy\\DataScience\\DeliverableExercises\\alejandroNovellino-streamlit-fastapi\\.venv\\Lib\\site-packages\\sklearn\\linear_model\\_sag.py:348: ConvergenceWarning:\n",
      "\n",
      "The max_iter was reached which means the coef_ did not converge\n",
      "\n",
      "F:\\Courses\\4GeeksAcademy\\DataScience\\DeliverableExercises\\alejandroNovellino-streamlit-fastapi\\.venv\\Lib\\site-packages\\sklearn\\linear_model\\_sag.py:348: ConvergenceWarning:\n",
      "\n",
      "The max_iter was reached which means the coef_ did not converge\n",
      "\n",
      "F:\\Courses\\4GeeksAcademy\\DataScience\\DeliverableExercises\\alejandroNovellino-streamlit-fastapi\\.venv\\Lib\\site-packages\\sklearn\\linear_model\\_sag.py:348: ConvergenceWarning:\n",
      "\n",
      "The max_iter was reached which means the coef_ did not converge\n",
      "\n",
      "F:\\Courses\\4GeeksAcademy\\DataScience\\DeliverableExercises\\alejandroNovellino-streamlit-fastapi\\.venv\\Lib\\site-packages\\sklearn\\linear_model\\_sag.py:348: ConvergenceWarning:\n",
      "\n",
      "The max_iter was reached which means the coef_ did not converge\n",
      "\n",
      "F:\\Courses\\4GeeksAcademy\\DataScience\\DeliverableExercises\\alejandroNovellino-streamlit-fastapi\\.venv\\Lib\\site-packages\\sklearn\\linear_model\\_sag.py:348: ConvergenceWarning:\n",
      "\n",
      "The max_iter was reached which means the coef_ did not converge\n",
      "\n",
      "F:\\Courses\\4GeeksAcademy\\DataScience\\DeliverableExercises\\alejandroNovellino-streamlit-fastapi\\.venv\\Lib\\site-packages\\sklearn\\linear_model\\_sag.py:348: ConvergenceWarning:\n",
      "\n",
      "The max_iter was reached which means the coef_ did not converge\n",
      "\n",
      "F:\\Courses\\4GeeksAcademy\\DataScience\\DeliverableExercises\\alejandroNovellino-streamlit-fastapi\\.venv\\Lib\\site-packages\\sklearn\\linear_model\\_sag.py:348: ConvergenceWarning:\n",
      "\n",
      "The max_iter was reached which means the coef_ did not converge\n",
      "\n",
      "F:\\Courses\\4GeeksAcademy\\DataScience\\DeliverableExercises\\alejandroNovellino-streamlit-fastapi\\.venv\\Lib\\site-packages\\sklearn\\linear_model\\_sag.py:348: ConvergenceWarning:\n",
      "\n",
      "The max_iter was reached which means the coef_ did not converge\n",
      "\n",
      "F:\\Courses\\4GeeksAcademy\\DataScience\\DeliverableExercises\\alejandroNovellino-streamlit-fastapi\\.venv\\Lib\\site-packages\\sklearn\\linear_model\\_sag.py:348: ConvergenceWarning:\n",
      "\n",
      "The max_iter was reached which means the coef_ did not converge\n",
      "\n",
      "F:\\Courses\\4GeeksAcademy\\DataScience\\DeliverableExercises\\alejandroNovellino-streamlit-fastapi\\.venv\\Lib\\site-packages\\sklearn\\linear_model\\_sag.py:348: ConvergenceWarning:\n",
      "\n",
      "The max_iter was reached which means the coef_ did not converge\n",
      "\n",
      "F:\\Courses\\4GeeksAcademy\\DataScience\\DeliverableExercises\\alejandroNovellino-streamlit-fastapi\\.venv\\Lib\\site-packages\\sklearn\\linear_model\\_sag.py:348: ConvergenceWarning:\n",
      "\n",
      "The max_iter was reached which means the coef_ did not converge\n",
      "\n",
      "F:\\Courses\\4GeeksAcademy\\DataScience\\DeliverableExercises\\alejandroNovellino-streamlit-fastapi\\.venv\\Lib\\site-packages\\sklearn\\linear_model\\_sag.py:348: ConvergenceWarning:\n",
      "\n",
      "The max_iter was reached which means the coef_ did not converge\n",
      "\n",
      "F:\\Courses\\4GeeksAcademy\\DataScience\\DeliverableExercises\\alejandroNovellino-streamlit-fastapi\\.venv\\Lib\\site-packages\\sklearn\\linear_model\\_sag.py:348: ConvergenceWarning:\n",
      "\n",
      "The max_iter was reached which means the coef_ did not converge\n",
      "\n",
      "F:\\Courses\\4GeeksAcademy\\DataScience\\DeliverableExercises\\alejandroNovellino-streamlit-fastapi\\.venv\\Lib\\site-packages\\sklearn\\linear_model\\_sag.py:348: ConvergenceWarning:\n",
      "\n",
      "The max_iter was reached which means the coef_ did not converge\n",
      "\n",
      "F:\\Courses\\4GeeksAcademy\\DataScience\\DeliverableExercises\\alejandroNovellino-streamlit-fastapi\\.venv\\Lib\\site-packages\\sklearn\\linear_model\\_sag.py:348: ConvergenceWarning:\n",
      "\n",
      "The max_iter was reached which means the coef_ did not converge\n",
      "\n",
      "F:\\Courses\\4GeeksAcademy\\DataScience\\DeliverableExercises\\alejandroNovellino-streamlit-fastapi\\.venv\\Lib\\site-packages\\sklearn\\linear_model\\_sag.py:348: ConvergenceWarning:\n",
      "\n",
      "The max_iter was reached which means the coef_ did not converge\n",
      "\n"
     ]
    },
    {
     "data": {
      "text/plain": [
       "GridSearchCV(cv=5,\n",
       "             estimator=Pipeline(steps=[('scaler', StandardScaler()),\n",
       "                                       ('classifier',\n",
       "                                        LogisticRegression(max_iter=1000))]),\n",
       "             param_grid=[{'classifier__C': [0.01, 0.1, 1, 10, 100],\n",
       "                          'classifier__penalty': ['l2', None],\n",
       "                          'classifier__solver': ['lbfgs', 'newton-cg', 'sag']},\n",
       "                         {'classifier__C': [0.01, 0.1, 1, 10, 100],\n",
       "                          'classifier__penalty': ['l1', 'l2', None],\n",
       "                          'classifier__solver': ['saga']},\n",
       "                         {'classifier__C': [0.01, 0.1, 1, 10, 100],\n",
       "                          'classifier__l1_ratio': [0.2, 0.5, 0.8],\n",
       "                          'classifier__penalty': ['elasticnet'],\n",
       "                          'classifier__solver': ['saga']}],\n",
       "             scoring='accuracy')"
      ],
      "text/html": [
       "<style>#sk-container-id-1 {\n",
       "  /* Definition of color scheme common for light and dark mode */\n",
       "  --sklearn-color-text: #000;\n",
       "  --sklearn-color-text-muted: #666;\n",
       "  --sklearn-color-line: gray;\n",
       "  /* Definition of color scheme for unfitted estimators */\n",
       "  --sklearn-color-unfitted-level-0: #fff5e6;\n",
       "  --sklearn-color-unfitted-level-1: #f6e4d2;\n",
       "  --sklearn-color-unfitted-level-2: #ffe0b3;\n",
       "  --sklearn-color-unfitted-level-3: chocolate;\n",
       "  /* Definition of color scheme for fitted estimators */\n",
       "  --sklearn-color-fitted-level-0: #f0f8ff;\n",
       "  --sklearn-color-fitted-level-1: #d4ebff;\n",
       "  --sklearn-color-fitted-level-2: #b3dbfd;\n",
       "  --sklearn-color-fitted-level-3: cornflowerblue;\n",
       "\n",
       "  /* Specific color for light theme */\n",
       "  --sklearn-color-text-on-default-background: var(--sg-text-color, var(--theme-code-foreground, var(--jp-content-font-color1, black)));\n",
       "  --sklearn-color-background: var(--sg-background-color, var(--theme-background, var(--jp-layout-color0, white)));\n",
       "  --sklearn-color-border-box: var(--sg-text-color, var(--theme-code-foreground, var(--jp-content-font-color1, black)));\n",
       "  --sklearn-color-icon: #696969;\n",
       "\n",
       "  @media (prefers-color-scheme: dark) {\n",
       "    /* Redefinition of color scheme for dark theme */\n",
       "    --sklearn-color-text-on-default-background: var(--sg-text-color, var(--theme-code-foreground, var(--jp-content-font-color1, white)));\n",
       "    --sklearn-color-background: var(--sg-background-color, var(--theme-background, var(--jp-layout-color0, #111)));\n",
       "    --sklearn-color-border-box: var(--sg-text-color, var(--theme-code-foreground, var(--jp-content-font-color1, white)));\n",
       "    --sklearn-color-icon: #878787;\n",
       "  }\n",
       "}\n",
       "\n",
       "#sk-container-id-1 {\n",
       "  color: var(--sklearn-color-text);\n",
       "}\n",
       "\n",
       "#sk-container-id-1 pre {\n",
       "  padding: 0;\n",
       "}\n",
       "\n",
       "#sk-container-id-1 input.sk-hidden--visually {\n",
       "  border: 0;\n",
       "  clip: rect(1px 1px 1px 1px);\n",
       "  clip: rect(1px, 1px, 1px, 1px);\n",
       "  height: 1px;\n",
       "  margin: -1px;\n",
       "  overflow: hidden;\n",
       "  padding: 0;\n",
       "  position: absolute;\n",
       "  width: 1px;\n",
       "}\n",
       "\n",
       "#sk-container-id-1 div.sk-dashed-wrapped {\n",
       "  border: 1px dashed var(--sklearn-color-line);\n",
       "  margin: 0 0.4em 0.5em 0.4em;\n",
       "  box-sizing: border-box;\n",
       "  padding-bottom: 0.4em;\n",
       "  background-color: var(--sklearn-color-background);\n",
       "}\n",
       "\n",
       "#sk-container-id-1 div.sk-container {\n",
       "  /* jupyter's `normalize.less` sets `[hidden] { display: none; }`\n",
       "     but bootstrap.min.css set `[hidden] { display: none !important; }`\n",
       "     so we also need the `!important` here to be able to override the\n",
       "     default hidden behavior on the sphinx rendered scikit-learn.org.\n",
       "     See: https://github.com/scikit-learn/scikit-learn/issues/21755 */\n",
       "  display: inline-block !important;\n",
       "  position: relative;\n",
       "}\n",
       "\n",
       "#sk-container-id-1 div.sk-text-repr-fallback {\n",
       "  display: none;\n",
       "}\n",
       "\n",
       "div.sk-parallel-item,\n",
       "div.sk-serial,\n",
       "div.sk-item {\n",
       "  /* draw centered vertical line to link estimators */\n",
       "  background-image: linear-gradient(var(--sklearn-color-text-on-default-background), var(--sklearn-color-text-on-default-background));\n",
       "  background-size: 2px 100%;\n",
       "  background-repeat: no-repeat;\n",
       "  background-position: center center;\n",
       "}\n",
       "\n",
       "/* Parallel-specific style estimator block */\n",
       "\n",
       "#sk-container-id-1 div.sk-parallel-item::after {\n",
       "  content: \"\";\n",
       "  width: 100%;\n",
       "  border-bottom: 2px solid var(--sklearn-color-text-on-default-background);\n",
       "  flex-grow: 1;\n",
       "}\n",
       "\n",
       "#sk-container-id-1 div.sk-parallel {\n",
       "  display: flex;\n",
       "  align-items: stretch;\n",
       "  justify-content: center;\n",
       "  background-color: var(--sklearn-color-background);\n",
       "  position: relative;\n",
       "}\n",
       "\n",
       "#sk-container-id-1 div.sk-parallel-item {\n",
       "  display: flex;\n",
       "  flex-direction: column;\n",
       "}\n",
       "\n",
       "#sk-container-id-1 div.sk-parallel-item:first-child::after {\n",
       "  align-self: flex-end;\n",
       "  width: 50%;\n",
       "}\n",
       "\n",
       "#sk-container-id-1 div.sk-parallel-item:last-child::after {\n",
       "  align-self: flex-start;\n",
       "  width: 50%;\n",
       "}\n",
       "\n",
       "#sk-container-id-1 div.sk-parallel-item:only-child::after {\n",
       "  width: 0;\n",
       "}\n",
       "\n",
       "/* Serial-specific style estimator block */\n",
       "\n",
       "#sk-container-id-1 div.sk-serial {\n",
       "  display: flex;\n",
       "  flex-direction: column;\n",
       "  align-items: center;\n",
       "  background-color: var(--sklearn-color-background);\n",
       "  padding-right: 1em;\n",
       "  padding-left: 1em;\n",
       "}\n",
       "\n",
       "\n",
       "/* Toggleable style: style used for estimator/Pipeline/ColumnTransformer box that is\n",
       "clickable and can be expanded/collapsed.\n",
       "- Pipeline and ColumnTransformer use this feature and define the default style\n",
       "- Estimators will overwrite some part of the style using the `sk-estimator` class\n",
       "*/\n",
       "\n",
       "/* Pipeline and ColumnTransformer style (default) */\n",
       "\n",
       "#sk-container-id-1 div.sk-toggleable {\n",
       "  /* Default theme specific background. It is overwritten whether we have a\n",
       "  specific estimator or a Pipeline/ColumnTransformer */\n",
       "  background-color: var(--sklearn-color-background);\n",
       "}\n",
       "\n",
       "/* Toggleable label */\n",
       "#sk-container-id-1 label.sk-toggleable__label {\n",
       "  cursor: pointer;\n",
       "  display: flex;\n",
       "  width: 100%;\n",
       "  margin-bottom: 0;\n",
       "  padding: 0.5em;\n",
       "  box-sizing: border-box;\n",
       "  text-align: center;\n",
       "  align-items: start;\n",
       "  justify-content: space-between;\n",
       "  gap: 0.5em;\n",
       "}\n",
       "\n",
       "#sk-container-id-1 label.sk-toggleable__label .caption {\n",
       "  font-size: 0.6rem;\n",
       "  font-weight: lighter;\n",
       "  color: var(--sklearn-color-text-muted);\n",
       "}\n",
       "\n",
       "#sk-container-id-1 label.sk-toggleable__label-arrow:before {\n",
       "  /* Arrow on the left of the label */\n",
       "  content: \"▸\";\n",
       "  float: left;\n",
       "  margin-right: 0.25em;\n",
       "  color: var(--sklearn-color-icon);\n",
       "}\n",
       "\n",
       "#sk-container-id-1 label.sk-toggleable__label-arrow:hover:before {\n",
       "  color: var(--sklearn-color-text);\n",
       "}\n",
       "\n",
       "/* Toggleable content - dropdown */\n",
       "\n",
       "#sk-container-id-1 div.sk-toggleable__content {\n",
       "  max-height: 0;\n",
       "  max-width: 0;\n",
       "  overflow: hidden;\n",
       "  text-align: left;\n",
       "  /* unfitted */\n",
       "  background-color: var(--sklearn-color-unfitted-level-0);\n",
       "}\n",
       "\n",
       "#sk-container-id-1 div.sk-toggleable__content.fitted {\n",
       "  /* fitted */\n",
       "  background-color: var(--sklearn-color-fitted-level-0);\n",
       "}\n",
       "\n",
       "#sk-container-id-1 div.sk-toggleable__content pre {\n",
       "  margin: 0.2em;\n",
       "  border-radius: 0.25em;\n",
       "  color: var(--sklearn-color-text);\n",
       "  /* unfitted */\n",
       "  background-color: var(--sklearn-color-unfitted-level-0);\n",
       "}\n",
       "\n",
       "#sk-container-id-1 div.sk-toggleable__content.fitted pre {\n",
       "  /* unfitted */\n",
       "  background-color: var(--sklearn-color-fitted-level-0);\n",
       "}\n",
       "\n",
       "#sk-container-id-1 input.sk-toggleable__control:checked~div.sk-toggleable__content {\n",
       "  /* Expand drop-down */\n",
       "  max-height: 200px;\n",
       "  max-width: 100%;\n",
       "  overflow: auto;\n",
       "}\n",
       "\n",
       "#sk-container-id-1 input.sk-toggleable__control:checked~label.sk-toggleable__label-arrow:before {\n",
       "  content: \"▾\";\n",
       "}\n",
       "\n",
       "/* Pipeline/ColumnTransformer-specific style */\n",
       "\n",
       "#sk-container-id-1 div.sk-label input.sk-toggleable__control:checked~label.sk-toggleable__label {\n",
       "  color: var(--sklearn-color-text);\n",
       "  background-color: var(--sklearn-color-unfitted-level-2);\n",
       "}\n",
       "\n",
       "#sk-container-id-1 div.sk-label.fitted input.sk-toggleable__control:checked~label.sk-toggleable__label {\n",
       "  background-color: var(--sklearn-color-fitted-level-2);\n",
       "}\n",
       "\n",
       "/* Estimator-specific style */\n",
       "\n",
       "/* Colorize estimator box */\n",
       "#sk-container-id-1 div.sk-estimator input.sk-toggleable__control:checked~label.sk-toggleable__label {\n",
       "  /* unfitted */\n",
       "  background-color: var(--sklearn-color-unfitted-level-2);\n",
       "}\n",
       "\n",
       "#sk-container-id-1 div.sk-estimator.fitted input.sk-toggleable__control:checked~label.sk-toggleable__label {\n",
       "  /* fitted */\n",
       "  background-color: var(--sklearn-color-fitted-level-2);\n",
       "}\n",
       "\n",
       "#sk-container-id-1 div.sk-label label.sk-toggleable__label,\n",
       "#sk-container-id-1 div.sk-label label {\n",
       "  /* The background is the default theme color */\n",
       "  color: var(--sklearn-color-text-on-default-background);\n",
       "}\n",
       "\n",
       "/* On hover, darken the color of the background */\n",
       "#sk-container-id-1 div.sk-label:hover label.sk-toggleable__label {\n",
       "  color: var(--sklearn-color-text);\n",
       "  background-color: var(--sklearn-color-unfitted-level-2);\n",
       "}\n",
       "\n",
       "/* Label box, darken color on hover, fitted */\n",
       "#sk-container-id-1 div.sk-label.fitted:hover label.sk-toggleable__label.fitted {\n",
       "  color: var(--sklearn-color-text);\n",
       "  background-color: var(--sklearn-color-fitted-level-2);\n",
       "}\n",
       "\n",
       "/* Estimator label */\n",
       "\n",
       "#sk-container-id-1 div.sk-label label {\n",
       "  font-family: monospace;\n",
       "  font-weight: bold;\n",
       "  display: inline-block;\n",
       "  line-height: 1.2em;\n",
       "}\n",
       "\n",
       "#sk-container-id-1 div.sk-label-container {\n",
       "  text-align: center;\n",
       "}\n",
       "\n",
       "/* Estimator-specific */\n",
       "#sk-container-id-1 div.sk-estimator {\n",
       "  font-family: monospace;\n",
       "  border: 1px dotted var(--sklearn-color-border-box);\n",
       "  border-radius: 0.25em;\n",
       "  box-sizing: border-box;\n",
       "  margin-bottom: 0.5em;\n",
       "  /* unfitted */\n",
       "  background-color: var(--sklearn-color-unfitted-level-0);\n",
       "}\n",
       "\n",
       "#sk-container-id-1 div.sk-estimator.fitted {\n",
       "  /* fitted */\n",
       "  background-color: var(--sklearn-color-fitted-level-0);\n",
       "}\n",
       "\n",
       "/* on hover */\n",
       "#sk-container-id-1 div.sk-estimator:hover {\n",
       "  /* unfitted */\n",
       "  background-color: var(--sklearn-color-unfitted-level-2);\n",
       "}\n",
       "\n",
       "#sk-container-id-1 div.sk-estimator.fitted:hover {\n",
       "  /* fitted */\n",
       "  background-color: var(--sklearn-color-fitted-level-2);\n",
       "}\n",
       "\n",
       "/* Specification for estimator info (e.g. \"i\" and \"?\") */\n",
       "\n",
       "/* Common style for \"i\" and \"?\" */\n",
       "\n",
       ".sk-estimator-doc-link,\n",
       "a:link.sk-estimator-doc-link,\n",
       "a:visited.sk-estimator-doc-link {\n",
       "  float: right;\n",
       "  font-size: smaller;\n",
       "  line-height: 1em;\n",
       "  font-family: monospace;\n",
       "  background-color: var(--sklearn-color-background);\n",
       "  border-radius: 1em;\n",
       "  height: 1em;\n",
       "  width: 1em;\n",
       "  text-decoration: none !important;\n",
       "  margin-left: 0.5em;\n",
       "  text-align: center;\n",
       "  /* unfitted */\n",
       "  border: var(--sklearn-color-unfitted-level-1) 1pt solid;\n",
       "  color: var(--sklearn-color-unfitted-level-1);\n",
       "}\n",
       "\n",
       ".sk-estimator-doc-link.fitted,\n",
       "a:link.sk-estimator-doc-link.fitted,\n",
       "a:visited.sk-estimator-doc-link.fitted {\n",
       "  /* fitted */\n",
       "  border: var(--sklearn-color-fitted-level-1) 1pt solid;\n",
       "  color: var(--sklearn-color-fitted-level-1);\n",
       "}\n",
       "\n",
       "/* On hover */\n",
       "div.sk-estimator:hover .sk-estimator-doc-link:hover,\n",
       ".sk-estimator-doc-link:hover,\n",
       "div.sk-label-container:hover .sk-estimator-doc-link:hover,\n",
       ".sk-estimator-doc-link:hover {\n",
       "  /* unfitted */\n",
       "  background-color: var(--sklearn-color-unfitted-level-3);\n",
       "  color: var(--sklearn-color-background);\n",
       "  text-decoration: none;\n",
       "}\n",
       "\n",
       "div.sk-estimator.fitted:hover .sk-estimator-doc-link.fitted:hover,\n",
       ".sk-estimator-doc-link.fitted:hover,\n",
       "div.sk-label-container:hover .sk-estimator-doc-link.fitted:hover,\n",
       ".sk-estimator-doc-link.fitted:hover {\n",
       "  /* fitted */\n",
       "  background-color: var(--sklearn-color-fitted-level-3);\n",
       "  color: var(--sklearn-color-background);\n",
       "  text-decoration: none;\n",
       "}\n",
       "\n",
       "/* Span, style for the box shown on hovering the info icon */\n",
       ".sk-estimator-doc-link span {\n",
       "  display: none;\n",
       "  z-index: 9999;\n",
       "  position: relative;\n",
       "  font-weight: normal;\n",
       "  right: .2ex;\n",
       "  padding: .5ex;\n",
       "  margin: .5ex;\n",
       "  width: min-content;\n",
       "  min-width: 20ex;\n",
       "  max-width: 50ex;\n",
       "  color: var(--sklearn-color-text);\n",
       "  box-shadow: 2pt 2pt 4pt #999;\n",
       "  /* unfitted */\n",
       "  background: var(--sklearn-color-unfitted-level-0);\n",
       "  border: .5pt solid var(--sklearn-color-unfitted-level-3);\n",
       "}\n",
       "\n",
       ".sk-estimator-doc-link.fitted span {\n",
       "  /* fitted */\n",
       "  background: var(--sklearn-color-fitted-level-0);\n",
       "  border: var(--sklearn-color-fitted-level-3);\n",
       "}\n",
       "\n",
       ".sk-estimator-doc-link:hover span {\n",
       "  display: block;\n",
       "}\n",
       "\n",
       "/* \"?\"-specific style due to the `<a>` HTML tag */\n",
       "\n",
       "#sk-container-id-1 a.estimator_doc_link {\n",
       "  float: right;\n",
       "  font-size: 1rem;\n",
       "  line-height: 1em;\n",
       "  font-family: monospace;\n",
       "  background-color: var(--sklearn-color-background);\n",
       "  border-radius: 1rem;\n",
       "  height: 1rem;\n",
       "  width: 1rem;\n",
       "  text-decoration: none;\n",
       "  /* unfitted */\n",
       "  color: var(--sklearn-color-unfitted-level-1);\n",
       "  border: var(--sklearn-color-unfitted-level-1) 1pt solid;\n",
       "}\n",
       "\n",
       "#sk-container-id-1 a.estimator_doc_link.fitted {\n",
       "  /* fitted */\n",
       "  border: var(--sklearn-color-fitted-level-1) 1pt solid;\n",
       "  color: var(--sklearn-color-fitted-level-1);\n",
       "}\n",
       "\n",
       "/* On hover */\n",
       "#sk-container-id-1 a.estimator_doc_link:hover {\n",
       "  /* unfitted */\n",
       "  background-color: var(--sklearn-color-unfitted-level-3);\n",
       "  color: var(--sklearn-color-background);\n",
       "  text-decoration: none;\n",
       "}\n",
       "\n",
       "#sk-container-id-1 a.estimator_doc_link.fitted:hover {\n",
       "  /* fitted */\n",
       "  background-color: var(--sklearn-color-fitted-level-3);\n",
       "}\n",
       "</style><div id=\"sk-container-id-1\" class=\"sk-top-container\"><div class=\"sk-text-repr-fallback\"><pre>GridSearchCV(cv=5,\n",
       "             estimator=Pipeline(steps=[(&#x27;scaler&#x27;, StandardScaler()),\n",
       "                                       (&#x27;classifier&#x27;,\n",
       "                                        LogisticRegression(max_iter=1000))]),\n",
       "             param_grid=[{&#x27;classifier__C&#x27;: [0.01, 0.1, 1, 10, 100],\n",
       "                          &#x27;classifier__penalty&#x27;: [&#x27;l2&#x27;, None],\n",
       "                          &#x27;classifier__solver&#x27;: [&#x27;lbfgs&#x27;, &#x27;newton-cg&#x27;, &#x27;sag&#x27;]},\n",
       "                         {&#x27;classifier__C&#x27;: [0.01, 0.1, 1, 10, 100],\n",
       "                          &#x27;classifier__penalty&#x27;: [&#x27;l1&#x27;, &#x27;l2&#x27;, None],\n",
       "                          &#x27;classifier__solver&#x27;: [&#x27;saga&#x27;]},\n",
       "                         {&#x27;classifier__C&#x27;: [0.01, 0.1, 1, 10, 100],\n",
       "                          &#x27;classifier__l1_ratio&#x27;: [0.2, 0.5, 0.8],\n",
       "                          &#x27;classifier__penalty&#x27;: [&#x27;elasticnet&#x27;],\n",
       "                          &#x27;classifier__solver&#x27;: [&#x27;saga&#x27;]}],\n",
       "             scoring=&#x27;accuracy&#x27;)</pre><b>In a Jupyter environment, please rerun this cell to show the HTML representation or trust the notebook. <br />On GitHub, the HTML representation is unable to render, please try loading this page with nbviewer.org.</b></div><div class=\"sk-container\" hidden><div class=\"sk-item sk-dashed-wrapped\"><div class=\"sk-label-container\"><div class=\"sk-label fitted sk-toggleable\"><input class=\"sk-toggleable__control sk-hidden--visually\" id=\"sk-estimator-id-1\" type=\"checkbox\" ><label for=\"sk-estimator-id-1\" class=\"sk-toggleable__label fitted sk-toggleable__label-arrow\"><div><div>GridSearchCV</div></div><div><a class=\"sk-estimator-doc-link fitted\" rel=\"noreferrer\" target=\"_blank\" href=\"https://scikit-learn.org/1.6/modules/generated/sklearn.model_selection.GridSearchCV.html\">?<span>Documentation for GridSearchCV</span></a><span class=\"sk-estimator-doc-link fitted\">i<span>Fitted</span></span></div></label><div class=\"sk-toggleable__content fitted\"><pre>GridSearchCV(cv=5,\n",
       "             estimator=Pipeline(steps=[(&#x27;scaler&#x27;, StandardScaler()),\n",
       "                                       (&#x27;classifier&#x27;,\n",
       "                                        LogisticRegression(max_iter=1000))]),\n",
       "             param_grid=[{&#x27;classifier__C&#x27;: [0.01, 0.1, 1, 10, 100],\n",
       "                          &#x27;classifier__penalty&#x27;: [&#x27;l2&#x27;, None],\n",
       "                          &#x27;classifier__solver&#x27;: [&#x27;lbfgs&#x27;, &#x27;newton-cg&#x27;, &#x27;sag&#x27;]},\n",
       "                         {&#x27;classifier__C&#x27;: [0.01, 0.1, 1, 10, 100],\n",
       "                          &#x27;classifier__penalty&#x27;: [&#x27;l1&#x27;, &#x27;l2&#x27;, None],\n",
       "                          &#x27;classifier__solver&#x27;: [&#x27;saga&#x27;]},\n",
       "                         {&#x27;classifier__C&#x27;: [0.01, 0.1, 1, 10, 100],\n",
       "                          &#x27;classifier__l1_ratio&#x27;: [0.2, 0.5, 0.8],\n",
       "                          &#x27;classifier__penalty&#x27;: [&#x27;elasticnet&#x27;],\n",
       "                          &#x27;classifier__solver&#x27;: [&#x27;saga&#x27;]}],\n",
       "             scoring=&#x27;accuracy&#x27;)</pre></div> </div></div><div class=\"sk-parallel\"><div class=\"sk-parallel-item\"><div class=\"sk-item\"><div class=\"sk-label-container\"><div class=\"sk-label fitted sk-toggleable\"><input class=\"sk-toggleable__control sk-hidden--visually\" id=\"sk-estimator-id-2\" type=\"checkbox\" ><label for=\"sk-estimator-id-2\" class=\"sk-toggleable__label fitted sk-toggleable__label-arrow\"><div><div>best_estimator_: Pipeline</div></div></label><div class=\"sk-toggleable__content fitted\"><pre>Pipeline(steps=[(&#x27;scaler&#x27;, StandardScaler()),\n",
       "                (&#x27;classifier&#x27;,\n",
       "                 LogisticRegression(C=10, max_iter=1000, penalty=&#x27;l1&#x27;,\n",
       "                                    solver=&#x27;saga&#x27;))])</pre></div> </div></div><div class=\"sk-serial\"><div class=\"sk-item\"><div class=\"sk-serial\"><div class=\"sk-item\"><div class=\"sk-estimator fitted sk-toggleable\"><input class=\"sk-toggleable__control sk-hidden--visually\" id=\"sk-estimator-id-3\" type=\"checkbox\" ><label for=\"sk-estimator-id-3\" class=\"sk-toggleable__label fitted sk-toggleable__label-arrow\"><div><div>StandardScaler</div></div><div><a class=\"sk-estimator-doc-link fitted\" rel=\"noreferrer\" target=\"_blank\" href=\"https://scikit-learn.org/1.6/modules/generated/sklearn.preprocessing.StandardScaler.html\">?<span>Documentation for StandardScaler</span></a></div></label><div class=\"sk-toggleable__content fitted\"><pre>StandardScaler()</pre></div> </div></div><div class=\"sk-item\"><div class=\"sk-estimator fitted sk-toggleable\"><input class=\"sk-toggleable__control sk-hidden--visually\" id=\"sk-estimator-id-4\" type=\"checkbox\" ><label for=\"sk-estimator-id-4\" class=\"sk-toggleable__label fitted sk-toggleable__label-arrow\"><div><div>LogisticRegression</div></div><div><a class=\"sk-estimator-doc-link fitted\" rel=\"noreferrer\" target=\"_blank\" href=\"https://scikit-learn.org/1.6/modules/generated/sklearn.linear_model.LogisticRegression.html\">?<span>Documentation for LogisticRegression</span></a></div></label><div class=\"sk-toggleable__content fitted\"><pre>LogisticRegression(C=10, max_iter=1000, penalty=&#x27;l1&#x27;, solver=&#x27;saga&#x27;)</pre></div> </div></div></div></div></div></div></div></div></div></div></div>"
      ]
     },
     "execution_count": 17,
     "metadata": {},
     "output_type": "execute_result"
    }
   ],
   "execution_count": 17
  },
  {
   "metadata": {},
   "cell_type": "markdown",
   "source": "## Get the best model",
   "id": "4c7b025a426be272"
  },
  {
   "metadata": {},
   "cell_type": "markdown",
   "source": "Get the best model obtained from the gridsearch training",
   "id": "1e44c7438dd856ba"
  },
  {
   "metadata": {
    "ExecuteTime": {
     "end_time": "2025-05-30T02:30:27.903887Z",
     "start_time": "2025-05-30T02:30:27.900286Z"
    }
   },
   "cell_type": "code",
   "source": "grid_search.best_params_",
   "id": "34513c7b33ddab86",
   "outputs": [
    {
     "data": {
      "text/plain": [
       "{'classifier__C': 10,\n",
       " 'classifier__penalty': 'l1',\n",
       " 'classifier__solver': 'saga'}"
      ]
     },
     "execution_count": 33,
     "metadata": {},
     "output_type": "execute_result"
    }
   ],
   "execution_count": 33
  },
  {
   "metadata": {
    "ExecuteTime": {
     "end_time": "2025-05-30T02:19:45.124482Z",
     "start_time": "2025-05-30T02:19:45.122062Z"
    }
   },
   "cell_type": "code",
   "source": [
    "# get the best stimator\n",
    "model = grid_search.best_estimator_"
   ],
   "id": "7e153f9e858bff71",
   "outputs": [],
   "execution_count": 22
  },
  {
   "metadata": {},
   "cell_type": "markdown",
   "source": "## Performance of the model",
   "id": "a21bd80fcaa09e2b"
  },
  {
   "metadata": {},
   "cell_type": "markdown",
   "source": "Do the predictions, for testing the performance",
   "id": "742e370b8d3b1f6b"
  },
  {
   "metadata": {
    "ExecuteTime": {
     "end_time": "2025-05-30T02:19:47.293029Z",
     "start_time": "2025-05-30T02:19:47.288068Z"
    }
   },
   "cell_type": "code",
   "source": [
    "# predict the values, we use the original values thanks to the pipeline\n",
    "y_pred = model.predict(X_test)\n",
    "y_prob = model.predict_proba(X_test)"
   ],
   "id": "650176f382544426",
   "outputs": [],
   "execution_count": 23
  },
  {
   "metadata": {},
   "cell_type": "markdown",
   "source": "### Metrics",
   "id": "e6b317eaba3c5477"
  },
  {
   "metadata": {},
   "cell_type": "markdown",
   "source": "We are going to see the performance of the model with accuracy, precision, recall and f1-score (in macro and micro) to see the performance in all the classes.",
   "id": "35ff4becbd97d6c3"
  },
  {
   "metadata": {
    "ExecuteTime": {
     "end_time": "2025-05-30T02:19:50.201710Z",
     "start_time": "2025-05-30T02:19:50.189369Z"
    }
   },
   "cell_type": "code",
   "source": [
    "from sklearn.metrics import accuracy_score, precision_score, recall_score, f1_score, confusion_matrix, classification_report\n",
    "\n",
    "\n",
    "# metrics\n",
    "\n",
    "# accuracy\n",
    "acc = accuracy_score(y_test_encoded, y_pred)\n",
    "print(f\"Accuracy: {acc:.4f}\")\n",
    "\n",
    "# for precision, recall and f1-score, we can use 'macro' o 'weighted' for the average of the classes\n",
    "# 'macro': simple average by class\n",
    "# 'weighted': wighted average for each class\n",
    "print(f\"Precision (macro): {precision_score(y_test_encoded, y_pred, average='macro'):.4f}\")\n",
    "print(f\"Recall (macro): {recall_score(y_test_encoded, y_pred, average='macro'):.4f}\")\n",
    "print(f\"F1-Score (macro): {f1_score(y_test_encoded, y_pred, average='macro'):.4f}\")\n",
    "\n",
    "print(f\"\\nPrecision (weighted): {precision_score(y_test_encoded, y_pred, average='weighted'):.4f}\")\n",
    "print(f\"Recall (weighted): {recall_score(y_test_encoded, y_pred, average='weighted'):.4f}\")\n",
    "print(f\"F1-Score (weighted): {f1_score(y_test_encoded, y_pred, average='weighted'):.4f}\")"
   ],
   "id": "b27fdcf7bba71db1",
   "outputs": [
    {
     "name": "stdout",
     "output_type": "stream",
     "text": [
      "Accuracy: 0.9682\n",
      "Precision (macro): 0.9666\n",
      "Recall (macro): 0.9703\n",
      "F1-Score (macro): 0.9676\n",
      "\n",
      "Precision (weighted): 0.9693\n",
      "Recall (weighted): 0.9682\n",
      "F1-Score (weighted): 0.9680\n"
     ]
    }
   ],
   "execution_count": 24
  },
  {
   "metadata": {},
   "cell_type": "markdown",
   "source": "### Performance with each class",
   "id": "9c98676e17a3c189"
  },
  {
   "metadata": {
    "ExecuteTime": {
     "end_time": "2025-05-30T02:21:56.445990Z",
     "start_time": "2025-05-30T02:21:56.437932Z"
    }
   },
   "cell_type": "code",
   "source": [
    "# --- Reporte de Clasificación ---\n",
    "print(\"\\nClassification Report (Multiclass):\\n\", classification_report(y_test_encoded, y_pred, target_names=le.classes_))"
   ],
   "id": "a5c18f7c80e34450",
   "outputs": [
    {
     "name": "stdout",
     "output_type": "stream",
     "text": [
      "\n",
      "Classification Report (Multiclass):\n",
      "               precision    recall  f1-score   support\n",
      "\n",
      "       apple       1.00      1.00      1.00        23\n",
      "      banana       1.00      1.00      1.00        21\n",
      "   blackgram       0.90      0.95      0.93        20\n",
      "    chickpea       1.00      1.00      1.00        26\n",
      "     coconut       1.00      1.00      1.00        27\n",
      "      coffee       0.94      1.00      0.97        17\n",
      "      cotton       0.94      1.00      0.97        17\n",
      "      grapes       1.00      1.00      1.00        14\n",
      "        jute       0.83      0.87      0.85        23\n",
      " kidneybeans       0.95      1.00      0.98        20\n",
      "      lentil       0.85      1.00      0.92        11\n",
      "       maize       1.00      0.95      0.98        21\n",
      "       mango       1.00      1.00      1.00        19\n",
      "   mothbeans       1.00      0.96      0.98        24\n",
      "    mungbean       1.00      1.00      1.00        19\n",
      "   muskmelon       1.00      1.00      1.00        17\n",
      "      orange       1.00      1.00      1.00        14\n",
      "      papaya       0.96      0.96      0.96        23\n",
      "  pigeonpeas       1.00      0.87      0.93        23\n",
      " pomegranate       1.00      1.00      1.00        23\n",
      "        rice       0.88      0.79      0.83        19\n",
      "  watermelon       1.00      1.00      1.00        19\n",
      "\n",
      "    accuracy                           0.97       440\n",
      "   macro avg       0.97      0.97      0.97       440\n",
      "weighted avg       0.97      0.97      0.97       440\n",
      "\n"
     ]
    }
   ],
   "execution_count": 28
  },
  {
   "metadata": {},
   "cell_type": "markdown",
   "source": "### Confusion matrix",
   "id": "a5d376e295f7a2e7"
  },
  {
   "metadata": {
    "ExecuteTime": {
     "end_time": "2025-05-30T02:38:56.314086Z",
     "start_time": "2025-05-30T02:38:55.819270Z"
    }
   },
   "cell_type": "code",
   "source": [
    "# calculate the confusion matrix\n",
    "cm = confusion_matrix(y_test_encoded, y_pred)\n",
    "\n",
    "# graph the cm\n",
    "plt.figure(figsize=(8, 8))\n",
    "sns.heatmap(\n",
    "    cm,\n",
    "    annot=True,\n",
    "    fmt='d',\n",
    "    cmap='Blues',\n",
    "    cbar=False,\n",
    "    xticklabels=le.classes_,\n",
    "    yticklabels=le.classes_\n",
    ")\n",
    "plt.xlabel('Predicted')\n",
    "plt.ylabel('True')\n",
    "plt.title('Confusion Matrix')\n",
    "plt.show()"
   ],
   "id": "db2b4d21385ecf5f",
   "outputs": [
    {
     "data": {
      "text/plain": [
       "<Figure size 800x800 with 1 Axes>"
      ],
      "image/png": "[encoded data removed]"
     },
     "metadata": {},
     "output_type": "display_data"
    }
   ],
   "execution_count": 35
  },
  {
   "metadata": {},
   "cell_type": "markdown",
   "source": "We can see that the model has an excellent performance for all the classes, with an accuracy of 96%.",
   "id": "898f59e581a91990"
  },
  {
   "metadata": {},
   "cell_type": "markdown",
   "source": "# Save the model",
   "id": "8595e528bb650bea"
  },
  {
   "metadata": {
    "ExecuteTime": {
     "end_time": "2025-05-30T02:42:34.905046Z",
     "start_time": "2025-05-30T02:42:34.899523Z"
    }
   },
   "cell_type": "code",
   "source": "joblib.dump(model, '../models/model.pkl')",
   "id": "dc5a1c222a6b088f",
   "outputs": [
    {
     "data": {
      "text/plain": [
       "['../models/model.pkl']"
      ]
     },
     "execution_count": 36,
     "metadata": {},
     "output_type": "execute_result"
    }
   ],
   "execution_count": 36
  }
 ],
 "metadata": {
  "kernelspec": {
   "display_name": "Python 3",
   "language": "python",
   "name": "python3"
  },
  "language_info": {
   "codemirror_mode": {
    "name": "ipython",
    "version": 2
   },
   "file_extension": ".py",
   "mimetype": "text/x-python",
   "name": "python",
   "nbconvert_exporter": "python",
   "pygments_lexer": "ipython2",
   "version": "2.7.6"
  }
 },
 "nbformat": 4,
 "nbformat_minor": 5
}
